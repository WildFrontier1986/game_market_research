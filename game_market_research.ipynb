{
 "cells": [
  {
   "cell_type": "markdown",
   "id": "2b618d18",
   "metadata": {
    "toc": true
   },
   "source": [
    "<h1>Содержание<span class=\"tocSkip\"></span></h1>\n",
    "<div class=\"toc\"><ul class=\"toc-item\"><li><span><a href=\"#Подключение-необходимых-библиотек-и-модулей\" data-toc-modified-id=\"Подключение-необходимых-библиотек-и-модулей-1\"><span class=\"toc-item-num\">1&nbsp;&nbsp;</span>Подключение необходимых библиотек и модулей</a></span></li><li><span><a href=\"#Изучение-данных-из-файла\" data-toc-modified-id=\"Изучение-данных-из-файла-2\"><span class=\"toc-item-num\">2&nbsp;&nbsp;</span>Изучение данных из файла</a></span><ul class=\"toc-item\"><li><span><a href=\"#Загрузка-файла\" data-toc-modified-id=\"Загрузка-файла-2.1\"><span class=\"toc-item-num\">2.1&nbsp;&nbsp;</span>Загрузка файла</a></span></li><li><span><a href=\"#Проверка-данных\" data-toc-modified-id=\"Проверка-данных-2.2\"><span class=\"toc-item-num\">2.2&nbsp;&nbsp;</span>Проверка данных</a></span></li><li><span><a href=\"#Вывод\" data-toc-modified-id=\"Вывод-2.3\"><span class=\"toc-item-num\">2.3&nbsp;&nbsp;</span>Вывод</a></span></li></ul></li><li><span><a href=\"#Предобработка-данных\" data-toc-modified-id=\"Предобработка-данных-3\"><span class=\"toc-item-num\">3&nbsp;&nbsp;</span>Предобработка данных</a></span><ul class=\"toc-item\"><li><span><a href=\"#Работа-с-названиями-колонок\" data-toc-modified-id=\"Работа-с-названиями-колонок-3.1\"><span class=\"toc-item-num\">3.1&nbsp;&nbsp;</span>Работа с названиями колонок</a></span></li><li><span><a href=\"#Работа-с-пропусками\" data-toc-modified-id=\"Работа-с-пропусками-3.2\"><span class=\"toc-item-num\">3.2&nbsp;&nbsp;</span>Работа с пропусками</a></span></li><li><span><a href=\"#Работа-с-типами-данных\" data-toc-modified-id=\"Работа-с-типами-данных-3.3\"><span class=\"toc-item-num\">3.3&nbsp;&nbsp;</span>Работа с типами данных</a></span></li><li><span><a href=\"#Вывод\" data-toc-modified-id=\"Вывод-3.4\"><span class=\"toc-item-num\">3.4&nbsp;&nbsp;</span>Вывод</a></span></li></ul></li><li><span><a href=\"#Работа-с-таблицами.-Расчёты-и-добавление-результатов\" data-toc-modified-id=\"Работа-с-таблицами.-Расчёты-и-добавление-результатов-4\"><span class=\"toc-item-num\">4&nbsp;&nbsp;</span>Работа с таблицами. Расчёты и добавление результатов</a></span><ul class=\"toc-item\"><li><span><a href=\"#Расчёт-суммарного-количества-продаж\" data-toc-modified-id=\"Расчёт-суммарного-количества-продаж-4.1\"><span class=\"toc-item-num\">4.1&nbsp;&nbsp;</span>Расчёт суммарного количества продаж</a></span></li><li><span><a href=\"#Вывод\" data-toc-modified-id=\"Вывод-4.2\"><span class=\"toc-item-num\">4.2&nbsp;&nbsp;</span>Вывод</a></span></li></ul></li><li><span><a href=\"#Исследовательский-анализ-данных\" data-toc-modified-id=\"Исследовательский-анализ-данных-5\"><span class=\"toc-item-num\">5&nbsp;&nbsp;</span>Исследовательский анализ данных</a></span><ul class=\"toc-item\"><li><span><a href=\"#Изучение-годового-количества-выпускаемых-игр\" data-toc-modified-id=\"Изучение-годового-количества-выпускаемых-игр-5.1\"><span class=\"toc-item-num\">5.1&nbsp;&nbsp;</span>Изучение годового количества выпускаемых игр</a></span></li><li><span><a href=\"#Изучение-продаж-по-платформам\" data-toc-modified-id=\"Изучение-продаж-по-платформам-5.2\"><span class=\"toc-item-num\">5.2&nbsp;&nbsp;</span>Изучение продаж по платформам</a></span></li><li><span><a href=\"#Изучение-данных-актуального-периода---с-2013-года\" data-toc-modified-id=\"Изучение-данных-актуального-периода---с-2013-года-5.3\"><span class=\"toc-item-num\">5.3&nbsp;&nbsp;</span>Изучение данных актуального периода - с 2013 года</a></span></li><li><span><a href=\"#Изучение-выбросов-в-данных\" data-toc-modified-id=\"Изучение-выбросов-в-данных-5.4\"><span class=\"toc-item-num\">5.4&nbsp;&nbsp;</span>Изучение выбросов в данных</a></span></li><li><span><a href=\"#Изучение-влияния-отзывов-критиков-и-пользователей-на-продажи\" data-toc-modified-id=\"Изучение-влияния-отзывов-критиков-и-пользователей-на-продажи-5.5\"><span class=\"toc-item-num\">5.5&nbsp;&nbsp;</span>Изучение влияния отзывов критиков и пользователей на продажи</a></span></li><li><span><a href=\"#Изучение-жанров-игр\" data-toc-modified-id=\"Изучение-жанров-игр-5.6\"><span class=\"toc-item-num\">5.6&nbsp;&nbsp;</span>Изучение жанров игр</a></span></li><li><span><a href=\"#Вывод\" data-toc-modified-id=\"Вывод-5.7\"><span class=\"toc-item-num\">5.7&nbsp;&nbsp;</span>Вывод</a></span></li></ul></li><li><span><a href=\"#Составление-портрета-пользователя-каждого-региона---NA,-EU,-JP\" data-toc-modified-id=\"Составление-портрета-пользователя-каждого-региона---NA,-EU,-JP-6\"><span class=\"toc-item-num\">6&nbsp;&nbsp;</span>Составление портрета пользователя каждого региона - NA, EU, JP</a></span><ul class=\"toc-item\"><li><span><a href=\"#Рейтинг-платформ\" data-toc-modified-id=\"Рейтинг-платформ-6.1\"><span class=\"toc-item-num\">6.1&nbsp;&nbsp;</span>Рейтинг платформ</a></span></li><li><span><a href=\"#Рейтинг-игровых-жанров\" data-toc-modified-id=\"Рейтинг-игровых-жанров-6.2\"><span class=\"toc-item-num\">6.2&nbsp;&nbsp;</span>Рейтинг игровых жанров</a></span></li><li><span><a href=\"#Изучение-влияния-рейтинга-ESRB-на-продажи-в-регионах\" data-toc-modified-id=\"Изучение-влияния-рейтинга-ESRB-на-продажи-в-регионах-6.3\"><span class=\"toc-item-num\">6.3&nbsp;&nbsp;</span>Изучение влияния рейтинга ESRB на продажи в регионах</a></span></li><li><span><a href=\"#Вывод\" data-toc-modified-id=\"Вывод-6.4\"><span class=\"toc-item-num\">6.4&nbsp;&nbsp;</span>Вывод</a></span></li></ul></li><li><span><a href=\"#Статистический-анализ-данных.-Проверка-гипотез\" data-toc-modified-id=\"Статистический-анализ-данных.-Проверка-гипотез-7\"><span class=\"toc-item-num\">7&nbsp;&nbsp;</span>Статистический анализ данных. Проверка гипотез</a></span><ul class=\"toc-item\"><li><span><a href=\"#Средние-пользовательские-рейтинги-платформ-Xbox-One-и-PC-одинаковые\" data-toc-modified-id=\"Средние-пользовательские-рейтинги-платформ-Xbox-One-и-PC-одинаковые-7.1\"><span class=\"toc-item-num\">7.1&nbsp;&nbsp;</span>Средние пользовательские рейтинги платформ Xbox One и PC одинаковые</a></span></li><li><span><a href=\"#Средние-пользовательские-рейтинги-жанров-Action-и-Sports-разные\" data-toc-modified-id=\"Средние-пользовательские-рейтинги-жанров-Action-и-Sports-разные-7.2\"><span class=\"toc-item-num\">7.2&nbsp;&nbsp;</span>Средние пользовательские рейтинги жанров Action и Sports разные</a></span></li><li><span><a href=\"#Вывод\" data-toc-modified-id=\"Вывод-7.3\"><span class=\"toc-item-num\">7.3&nbsp;&nbsp;</span>Вывод</a></span></li></ul></li><li><span><a href=\"#Общий-вывод\" data-toc-modified-id=\"Общий-вывод-8\"><span class=\"toc-item-num\">8&nbsp;&nbsp;</span>Общий вывод</a></span></li></ul></div>"
   ]
  },
  {
   "cell_type": "markdown",
   "id": "14196adc",
   "metadata": {},
   "source": [
    "## Подключение необходимых библиотек и модулей"
   ]
  },
  {
   "cell_type": "code",
   "execution_count": 1,
   "id": "8ca89a44",
   "metadata": {
    "scrolled": true
   },
   "outputs": [],
   "source": [
    "# 1. Подключение модуля pathlib\n",
    "import pathlib\n",
    "# 2. Подключение класса Path модуля pathlib\n",
    "from pathlib import Path\n",
    "\n",
    "# 3. Подключение библиотеки Pandas\n",
    "import pandas as pd\n",
    "# 4. Подключение библиотеки numpy\n",
    "import numpy as np\n",
    "# 5. Подключение библиотеки seaborn\n",
    "import seaborn as sns\n",
    "\n",
    "# 6. одключение модуля pyplot библиотеки matplotlib\n",
    "import matplotlib.pyplot as plt\n",
    "# 7. Подключение модуля scipy.stats из библиотеки scipy\n",
    "from scipy import stats as st"
   ]
  },
  {
   "cell_type": "code",
   "execution_count": 414,
   "id": "3098cd55",
   "metadata": {
    "scrolled": true
   },
   "outputs": [],
   "source": [
    "# Снятие ограничения на количество показываемых колонок\n",
    "pd.set_option('display.max_columns', None)"
   ]
  },
  {
   "cell_type": "markdown",
   "id": "87e8198e",
   "metadata": {},
   "source": [
    "## Изучение данных из файла"
   ]
  },
  {
   "cell_type": "markdown",
   "id": "7f927747",
   "metadata": {},
   "source": [
    "### Загрузка файла"
   ]
  },
  {
   "cell_type": "code",
   "execution_count": 415,
   "id": "d1f9b4f5",
   "metadata": {
    "scrolled": true
   },
   "outputs": [],
   "source": [
    "# Формирование датафрейма df из датасета games.csv\n",
    "try:\n",
    "    df = pd.read_csv('/datasets/games.csv')\n",
    "except:\n",
    "    df = pd.read_csv(\n",
    "        Path(\n",
    "            pathlib.Path.cwd(),\n",
    "            'datasets',\n",
    "            'games.csv'\n",
    "        )\n",
    "    )"
   ]
  },
  {
   "cell_type": "code",
   "execution_count": 416,
   "id": "71ae6535",
   "metadata": {
    "scrolled": false
   },
   "outputs": [
    {
     "data": {
      "text/html": [
       "<div>\n",
       "<style scoped>\n",
       "    .dataframe tbody tr th:only-of-type {\n",
       "        vertical-align: middle;\n",
       "    }\n",
       "\n",
       "    .dataframe tbody tr th {\n",
       "        vertical-align: top;\n",
       "    }\n",
       "\n",
       "    .dataframe thead th {\n",
       "        text-align: right;\n",
       "    }\n",
       "</style>\n",
       "<table border=\"1\" class=\"dataframe\">\n",
       "  <thead>\n",
       "    <tr style=\"text-align: right;\">\n",
       "      <th></th>\n",
       "      <th>Name</th>\n",
       "      <th>Platform</th>\n",
       "      <th>Year_of_Release</th>\n",
       "      <th>Genre</th>\n",
       "      <th>NA_sales</th>\n",
       "      <th>EU_sales</th>\n",
       "      <th>JP_sales</th>\n",
       "      <th>Other_sales</th>\n",
       "      <th>Critic_Score</th>\n",
       "      <th>User_Score</th>\n",
       "      <th>Rating</th>\n",
       "    </tr>\n",
       "  </thead>\n",
       "  <tbody>\n",
       "    <tr>\n",
       "      <th>0</th>\n",
       "      <td>Wii Sports</td>\n",
       "      <td>Wii</td>\n",
       "      <td>2006.0</td>\n",
       "      <td>Sports</td>\n",
       "      <td>41.36</td>\n",
       "      <td>28.96</td>\n",
       "      <td>3.77</td>\n",
       "      <td>8.45</td>\n",
       "      <td>76.0</td>\n",
       "      <td>8</td>\n",
       "      <td>E</td>\n",
       "    </tr>\n",
       "    <tr>\n",
       "      <th>1</th>\n",
       "      <td>Super Mario Bros.</td>\n",
       "      <td>NES</td>\n",
       "      <td>1985.0</td>\n",
       "      <td>Platform</td>\n",
       "      <td>29.08</td>\n",
       "      <td>3.58</td>\n",
       "      <td>6.81</td>\n",
       "      <td>0.77</td>\n",
       "      <td>NaN</td>\n",
       "      <td>NaN</td>\n",
       "      <td>NaN</td>\n",
       "    </tr>\n",
       "    <tr>\n",
       "      <th>2</th>\n",
       "      <td>Mario Kart Wii</td>\n",
       "      <td>Wii</td>\n",
       "      <td>2008.0</td>\n",
       "      <td>Racing</td>\n",
       "      <td>15.68</td>\n",
       "      <td>12.76</td>\n",
       "      <td>3.79</td>\n",
       "      <td>3.29</td>\n",
       "      <td>82.0</td>\n",
       "      <td>8.3</td>\n",
       "      <td>E</td>\n",
       "    </tr>\n",
       "    <tr>\n",
       "      <th>3</th>\n",
       "      <td>Wii Sports Resort</td>\n",
       "      <td>Wii</td>\n",
       "      <td>2009.0</td>\n",
       "      <td>Sports</td>\n",
       "      <td>15.61</td>\n",
       "      <td>10.93</td>\n",
       "      <td>3.28</td>\n",
       "      <td>2.95</td>\n",
       "      <td>80.0</td>\n",
       "      <td>8</td>\n",
       "      <td>E</td>\n",
       "    </tr>\n",
       "    <tr>\n",
       "      <th>4</th>\n",
       "      <td>Pokemon Red/Pokemon Blue</td>\n",
       "      <td>GB</td>\n",
       "      <td>1996.0</td>\n",
       "      <td>Role-Playing</td>\n",
       "      <td>11.27</td>\n",
       "      <td>8.89</td>\n",
       "      <td>10.22</td>\n",
       "      <td>1.00</td>\n",
       "      <td>NaN</td>\n",
       "      <td>NaN</td>\n",
       "      <td>NaN</td>\n",
       "    </tr>\n",
       "    <tr>\n",
       "      <th>...</th>\n",
       "      <td>...</td>\n",
       "      <td>...</td>\n",
       "      <td>...</td>\n",
       "      <td>...</td>\n",
       "      <td>...</td>\n",
       "      <td>...</td>\n",
       "      <td>...</td>\n",
       "      <td>...</td>\n",
       "      <td>...</td>\n",
       "      <td>...</td>\n",
       "      <td>...</td>\n",
       "    </tr>\n",
       "    <tr>\n",
       "      <th>16710</th>\n",
       "      <td>Samurai Warriors: Sanada Maru</td>\n",
       "      <td>PS3</td>\n",
       "      <td>2016.0</td>\n",
       "      <td>Action</td>\n",
       "      <td>0.00</td>\n",
       "      <td>0.00</td>\n",
       "      <td>0.01</td>\n",
       "      <td>0.00</td>\n",
       "      <td>NaN</td>\n",
       "      <td>NaN</td>\n",
       "      <td>NaN</td>\n",
       "    </tr>\n",
       "    <tr>\n",
       "      <th>16711</th>\n",
       "      <td>LMA Manager 2007</td>\n",
       "      <td>X360</td>\n",
       "      <td>2006.0</td>\n",
       "      <td>Sports</td>\n",
       "      <td>0.00</td>\n",
       "      <td>0.01</td>\n",
       "      <td>0.00</td>\n",
       "      <td>0.00</td>\n",
       "      <td>NaN</td>\n",
       "      <td>NaN</td>\n",
       "      <td>NaN</td>\n",
       "    </tr>\n",
       "    <tr>\n",
       "      <th>16712</th>\n",
       "      <td>Haitaka no Psychedelica</td>\n",
       "      <td>PSV</td>\n",
       "      <td>2016.0</td>\n",
       "      <td>Adventure</td>\n",
       "      <td>0.00</td>\n",
       "      <td>0.00</td>\n",
       "      <td>0.01</td>\n",
       "      <td>0.00</td>\n",
       "      <td>NaN</td>\n",
       "      <td>NaN</td>\n",
       "      <td>NaN</td>\n",
       "    </tr>\n",
       "    <tr>\n",
       "      <th>16713</th>\n",
       "      <td>Spirits &amp; Spells</td>\n",
       "      <td>GBA</td>\n",
       "      <td>2003.0</td>\n",
       "      <td>Platform</td>\n",
       "      <td>0.01</td>\n",
       "      <td>0.00</td>\n",
       "      <td>0.00</td>\n",
       "      <td>0.00</td>\n",
       "      <td>NaN</td>\n",
       "      <td>NaN</td>\n",
       "      <td>NaN</td>\n",
       "    </tr>\n",
       "    <tr>\n",
       "      <th>16714</th>\n",
       "      <td>Winning Post 8 2016</td>\n",
       "      <td>PSV</td>\n",
       "      <td>2016.0</td>\n",
       "      <td>Simulation</td>\n",
       "      <td>0.00</td>\n",
       "      <td>0.00</td>\n",
       "      <td>0.01</td>\n",
       "      <td>0.00</td>\n",
       "      <td>NaN</td>\n",
       "      <td>NaN</td>\n",
       "      <td>NaN</td>\n",
       "    </tr>\n",
       "  </tbody>\n",
       "</table>\n",
       "<p>16715 rows × 11 columns</p>\n",
       "</div>"
      ],
      "text/plain": [
       "                                Name Platform  Year_of_Release         Genre  \\\n",
       "0                         Wii Sports      Wii           2006.0        Sports   \n",
       "1                  Super Mario Bros.      NES           1985.0      Platform   \n",
       "2                     Mario Kart Wii      Wii           2008.0        Racing   \n",
       "3                  Wii Sports Resort      Wii           2009.0        Sports   \n",
       "4           Pokemon Red/Pokemon Blue       GB           1996.0  Role-Playing   \n",
       "...                              ...      ...              ...           ...   \n",
       "16710  Samurai Warriors: Sanada Maru      PS3           2016.0        Action   \n",
       "16711               LMA Manager 2007     X360           2006.0        Sports   \n",
       "16712        Haitaka no Psychedelica      PSV           2016.0     Adventure   \n",
       "16713               Spirits & Spells      GBA           2003.0      Platform   \n",
       "16714            Winning Post 8 2016      PSV           2016.0    Simulation   \n",
       "\n",
       "       NA_sales  EU_sales  JP_sales  Other_sales  Critic_Score User_Score  \\\n",
       "0         41.36     28.96      3.77         8.45          76.0          8   \n",
       "1         29.08      3.58      6.81         0.77           NaN        NaN   \n",
       "2         15.68     12.76      3.79         3.29          82.0        8.3   \n",
       "3         15.61     10.93      3.28         2.95          80.0          8   \n",
       "4         11.27      8.89     10.22         1.00           NaN        NaN   \n",
       "...         ...       ...       ...          ...           ...        ...   \n",
       "16710      0.00      0.00      0.01         0.00           NaN        NaN   \n",
       "16711      0.00      0.01      0.00         0.00           NaN        NaN   \n",
       "16712      0.00      0.00      0.01         0.00           NaN        NaN   \n",
       "16713      0.01      0.00      0.00         0.00           NaN        NaN   \n",
       "16714      0.00      0.00      0.01         0.00           NaN        NaN   \n",
       "\n",
       "      Rating  \n",
       "0          E  \n",
       "1        NaN  \n",
       "2          E  \n",
       "3          E  \n",
       "4        NaN  \n",
       "...      ...  \n",
       "16710    NaN  \n",
       "16711    NaN  \n",
       "16712    NaN  \n",
       "16713    NaN  \n",
       "16714    NaN  \n",
       "\n",
       "[16715 rows x 11 columns]"
      ]
     },
     "execution_count": 416,
     "metadata": {},
     "output_type": "execute_result"
    }
   ],
   "source": [
    "# Вывод датафрейма df\n",
    "df"
   ]
  },
  {
   "cell_type": "markdown",
   "id": "8a09c0f8",
   "metadata": {},
   "source": [
    "### Проверка данных"
   ]
  },
  {
   "cell_type": "code",
   "execution_count": 417,
   "id": "9e875995",
   "metadata": {
    "scrolled": true
   },
   "outputs": [
    {
     "data": {
      "text/plain": [
       "Index(['Name', 'Platform', 'Year_of_Release', 'Genre', 'NA_sales', 'EU_sales',\n",
       "       'JP_sales', 'Other_sales', 'Critic_Score', 'User_Score', 'Rating'],\n",
       "      dtype='object')"
      ]
     },
     "execution_count": 417,
     "metadata": {},
     "output_type": "execute_result"
    }
   ],
   "source": [
    "# Проверка названий колонок в df\n",
    "df.columns"
   ]
  },
  {
   "cell_type": "markdown",
   "id": "883ebf34",
   "metadata": {},
   "source": [
    "<div class=\"alert alert-block alert-warning\"><span style=\"color:green\"><font size=\"3\" face=\"Arial\"><b>Промежуточные выводы 1.1:<b/></span>\n",
    "    \n",
    "<span style=\"color:steelblue\"><font size=\"3\" face=\"Courier\"><b>Названия колонок содержат прописные буквы.\\\n",
    "    Необходимо изменить регистр.</b></span></div>"
   ]
  },
  {
   "cell_type": "code",
   "execution_count": 418,
   "id": "beaacf25",
   "metadata": {
    "scrolled": false
   },
   "outputs": [
    {
     "name": "stdout",
     "output_type": "stream",
     "text": [
      "<class 'pandas.core.frame.DataFrame'>\n",
      "RangeIndex: 16715 entries, 0 to 16714\n",
      "Data columns (total 11 columns):\n",
      " #   Column           Non-Null Count  Dtype  \n",
      "---  ------           --------------  -----  \n",
      " 0   Name             16713 non-null  object \n",
      " 1   Platform         16715 non-null  object \n",
      " 2   Year_of_Release  16446 non-null  float64\n",
      " 3   Genre            16713 non-null  object \n",
      " 4   NA_sales         16715 non-null  float64\n",
      " 5   EU_sales         16715 non-null  float64\n",
      " 6   JP_sales         16715 non-null  float64\n",
      " 7   Other_sales      16715 non-null  float64\n",
      " 8   Critic_Score     8137 non-null   float64\n",
      " 9   User_Score       10014 non-null  object \n",
      " 10  Rating           9949 non-null   object \n",
      "dtypes: float64(6), object(5)\n",
      "memory usage: 1.4+ MB\n"
     ]
    }
   ],
   "source": [
    "# Вывод общей информации\n",
    "df.info()"
   ]
  },
  {
   "cell_type": "code",
   "execution_count": 419,
   "id": "a4fc86a0",
   "metadata": {},
   "outputs": [
    {
     "data": {
      "text/plain": [
       "Name                  2\n",
       "Platform              0\n",
       "Year_of_Release     269\n",
       "Genre                 2\n",
       "NA_sales              0\n",
       "EU_sales              0\n",
       "JP_sales              0\n",
       "Other_sales           0\n",
       "Critic_Score       8578\n",
       "User_Score         6701\n",
       "Rating             6766\n",
       "dtype: int64"
      ]
     },
     "execution_count": 419,
     "metadata": {},
     "output_type": "execute_result"
    }
   ],
   "source": [
    "# Определение количества пропусков\n",
    "df.isna().sum()"
   ]
  },
  {
   "cell_type": "code",
   "execution_count": 420,
   "id": "2d61e523",
   "metadata": {
    "scrolled": false
   },
   "outputs": [
    {
     "data": {
      "text/html": [
       "<div>\n",
       "<style scoped>\n",
       "    .dataframe tbody tr th:only-of-type {\n",
       "        vertical-align: middle;\n",
       "    }\n",
       "\n",
       "    .dataframe tbody tr th {\n",
       "        vertical-align: top;\n",
       "    }\n",
       "\n",
       "    .dataframe thead th {\n",
       "        text-align: right;\n",
       "    }\n",
       "</style>\n",
       "<table border=\"1\" class=\"dataframe\">\n",
       "  <thead>\n",
       "    <tr style=\"text-align: right;\">\n",
       "      <th></th>\n",
       "      <th>Name</th>\n",
       "      <th>Platform</th>\n",
       "      <th>Year_of_Release</th>\n",
       "      <th>Genre</th>\n",
       "      <th>NA_sales</th>\n",
       "      <th>EU_sales</th>\n",
       "      <th>JP_sales</th>\n",
       "      <th>Other_sales</th>\n",
       "      <th>Critic_Score</th>\n",
       "      <th>User_Score</th>\n",
       "      <th>Rating</th>\n",
       "    </tr>\n",
       "  </thead>\n",
       "  <tbody>\n",
       "    <tr>\n",
       "      <th>659</th>\n",
       "      <td>NaN</td>\n",
       "      <td>GEN</td>\n",
       "      <td>1993.0</td>\n",
       "      <td>NaN</td>\n",
       "      <td>1.78</td>\n",
       "      <td>0.53</td>\n",
       "      <td>0.00</td>\n",
       "      <td>0.08</td>\n",
       "      <td>NaN</td>\n",
       "      <td>NaN</td>\n",
       "      <td>NaN</td>\n",
       "    </tr>\n",
       "    <tr>\n",
       "      <th>14244</th>\n",
       "      <td>NaN</td>\n",
       "      <td>GEN</td>\n",
       "      <td>1993.0</td>\n",
       "      <td>NaN</td>\n",
       "      <td>0.00</td>\n",
       "      <td>0.00</td>\n",
       "      <td>0.03</td>\n",
       "      <td>0.00</td>\n",
       "      <td>NaN</td>\n",
       "      <td>NaN</td>\n",
       "      <td>NaN</td>\n",
       "    </tr>\n",
       "  </tbody>\n",
       "</table>\n",
       "</div>"
      ],
      "text/plain": [
       "      Name Platform  Year_of_Release Genre  NA_sales  EU_sales  JP_sales  \\\n",
       "659    NaN      GEN           1993.0   NaN      1.78      0.53      0.00   \n",
       "14244  NaN      GEN           1993.0   NaN      0.00      0.00      0.03   \n",
       "\n",
       "       Other_sales  Critic_Score User_Score Rating  \n",
       "659           0.08           NaN        NaN    NaN  \n",
       "14244         0.00           NaN        NaN    NaN  "
      ]
     },
     "execution_count": 420,
     "metadata": {},
     "output_type": "execute_result"
    }
   ],
   "source": [
    "# Вывод датафрейма с пропусками в названии 'Name'\n",
    "df[df['Name'].isna()]"
   ]
  },
  {
   "cell_type": "markdown",
   "id": "0dcc04ff",
   "metadata": {},
   "source": [
    "<div class=\"alert alert-block alert-warning\"><span style=\"color:green\"><font size=\"3\" face=\"Arial\"><b>Промежуточные выводы 1.2:<b/></span>\n",
    "    \n",
    "<span style=\"color:steelblue\"><font size=\"3\" face=\"Courier\"><b>1.1. Обнаружил большое количество пропусков.\\\n",
    "    Причиной появления пропусков может быть технический сбой при переносе данных, а также отсутствие данных в связи с отсутствием системы оценок в определённые года.\\\n",
    "    1.2. Так как строки с пропусками в колонке 'Name' имеют пропуски и в других колонках, то в виду маленького количества данные 2 строки удаляю.\\\n",
    "    1.3. Пропуски в колонке 'Year_of_Release' можно заполнить по группировке по названию игры в 'Name'.\\\n",
    "    1.4. Пропуски в колонках 'Critic_Score' и 'User-Score' оставляю без изменений, так как оценки игры всегда индивидуальны, а заполнять средним или медианным по группе (например, жанру или платформе) будет некорректно.\\\n",
    "    2.1. Колонка содержит аббревиатуру 'tbd' - 'To Be Determinated' - будет определено, то есть рейтинг неизвестен, поэтому можно заменить на пропуск NaN.\\\n",
    "    2.2. Аббревиатура 'RP' в 'Rating' означает 'Rating Pending' — рейтинг ожидается, то есть рейтинг неизвестен, поэтому можно заменить на пропуск NaN.\\\n",
    "    Компания ESRB была основана в 1994 году ассоциацией Interactive Digital Software Association. Следовательно до 1994 года данный рейтинг не присваивался.\\\n",
    "    2.3. Колонка 'User_Score' имеет строковый тип данных 'object'.\\\n",
    "    После замены строкового значения необходимо поменять тип данных на 'float64'.\\\n",
    "    2.4. Текущий вещественный тип данных 'float64' колонки 'Year_of_Release' необходимо заменить на целочисленный 'int64'.</b></span></div>"
   ]
  },
  {
   "cell_type": "code",
   "execution_count": 421,
   "id": "adb658ee",
   "metadata": {
    "scrolled": true
   },
   "outputs": [
    {
     "data": {
      "text/html": [
       "<div>\n",
       "<style scoped>\n",
       "    .dataframe tbody tr th:only-of-type {\n",
       "        vertical-align: middle;\n",
       "    }\n",
       "\n",
       "    .dataframe tbody tr th {\n",
       "        vertical-align: top;\n",
       "    }\n",
       "\n",
       "    .dataframe thead th {\n",
       "        text-align: right;\n",
       "    }\n",
       "</style>\n",
       "<table border=\"1\" class=\"dataframe\">\n",
       "  <thead>\n",
       "    <tr style=\"text-align: right;\">\n",
       "      <th></th>\n",
       "      <th>Year_of_Release</th>\n",
       "      <th>NA_sales</th>\n",
       "      <th>EU_sales</th>\n",
       "      <th>JP_sales</th>\n",
       "      <th>Other_sales</th>\n",
       "      <th>Critic_Score</th>\n",
       "    </tr>\n",
       "  </thead>\n",
       "  <tbody>\n",
       "    <tr>\n",
       "      <th>count</th>\n",
       "      <td>16446.000000</td>\n",
       "      <td>16715.000000</td>\n",
       "      <td>16715.000000</td>\n",
       "      <td>16715.000000</td>\n",
       "      <td>16715.000000</td>\n",
       "      <td>8137.000000</td>\n",
       "    </tr>\n",
       "    <tr>\n",
       "      <th>mean</th>\n",
       "      <td>2006.484616</td>\n",
       "      <td>0.263377</td>\n",
       "      <td>0.145060</td>\n",
       "      <td>0.077617</td>\n",
       "      <td>0.047342</td>\n",
       "      <td>68.967679</td>\n",
       "    </tr>\n",
       "    <tr>\n",
       "      <th>std</th>\n",
       "      <td>5.877050</td>\n",
       "      <td>0.813604</td>\n",
       "      <td>0.503339</td>\n",
       "      <td>0.308853</td>\n",
       "      <td>0.186731</td>\n",
       "      <td>13.938165</td>\n",
       "    </tr>\n",
       "    <tr>\n",
       "      <th>min</th>\n",
       "      <td>1980.000000</td>\n",
       "      <td>0.000000</td>\n",
       "      <td>0.000000</td>\n",
       "      <td>0.000000</td>\n",
       "      <td>0.000000</td>\n",
       "      <td>13.000000</td>\n",
       "    </tr>\n",
       "    <tr>\n",
       "      <th>25%</th>\n",
       "      <td>2003.000000</td>\n",
       "      <td>0.000000</td>\n",
       "      <td>0.000000</td>\n",
       "      <td>0.000000</td>\n",
       "      <td>0.000000</td>\n",
       "      <td>60.000000</td>\n",
       "    </tr>\n",
       "    <tr>\n",
       "      <th>50%</th>\n",
       "      <td>2007.000000</td>\n",
       "      <td>0.080000</td>\n",
       "      <td>0.020000</td>\n",
       "      <td>0.000000</td>\n",
       "      <td>0.010000</td>\n",
       "      <td>71.000000</td>\n",
       "    </tr>\n",
       "    <tr>\n",
       "      <th>75%</th>\n",
       "      <td>2010.000000</td>\n",
       "      <td>0.240000</td>\n",
       "      <td>0.110000</td>\n",
       "      <td>0.040000</td>\n",
       "      <td>0.030000</td>\n",
       "      <td>79.000000</td>\n",
       "    </tr>\n",
       "    <tr>\n",
       "      <th>max</th>\n",
       "      <td>2016.000000</td>\n",
       "      <td>41.360000</td>\n",
       "      <td>28.960000</td>\n",
       "      <td>10.220000</td>\n",
       "      <td>10.570000</td>\n",
       "      <td>98.000000</td>\n",
       "    </tr>\n",
       "  </tbody>\n",
       "</table>\n",
       "</div>"
      ],
      "text/plain": [
       "       Year_of_Release      NA_sales      EU_sales      JP_sales  \\\n",
       "count     16446.000000  16715.000000  16715.000000  16715.000000   \n",
       "mean       2006.484616      0.263377      0.145060      0.077617   \n",
       "std           5.877050      0.813604      0.503339      0.308853   \n",
       "min        1980.000000      0.000000      0.000000      0.000000   \n",
       "25%        2003.000000      0.000000      0.000000      0.000000   \n",
       "50%        2007.000000      0.080000      0.020000      0.000000   \n",
       "75%        2010.000000      0.240000      0.110000      0.040000   \n",
       "max        2016.000000     41.360000     28.960000     10.220000   \n",
       "\n",
       "        Other_sales  Critic_Score  \n",
       "count  16715.000000   8137.000000  \n",
       "mean       0.047342     68.967679  \n",
       "std        0.186731     13.938165  \n",
       "min        0.000000     13.000000  \n",
       "25%        0.000000     60.000000  \n",
       "50%        0.010000     71.000000  \n",
       "75%        0.030000     79.000000  \n",
       "max       10.570000     98.000000  "
      ]
     },
     "execution_count": 421,
     "metadata": {},
     "output_type": "execute_result"
    }
   ],
   "source": [
    "# Вывод списка характерных значений в колонках df\n",
    "df.describe()"
   ]
  },
  {
   "cell_type": "code",
   "execution_count": 422,
   "id": "f1a3be8a",
   "metadata": {
    "scrolled": true
   },
   "outputs": [
    {
     "data": {
      "text/plain": [
       "0"
      ]
     },
     "execution_count": 422,
     "metadata": {},
     "output_type": "execute_result"
    }
   ],
   "source": [
    "# Поиск явных дубликатов\n",
    "df.duplicated().sum()"
   ]
  },
  {
   "cell_type": "markdown",
   "id": "a40a49c2",
   "metadata": {},
   "source": [
    "<div class=\"alert alert-block alert-warning\"><span style=\"color:green\"><font size=\"3\" face=\"Arial\"><b>Промежуточные выводы 1.3:<b/></span>\n",
    "    \n",
    "<span style=\"color:steelblue\"><font size=\"3\" face=\"Courier\"><b>Явные дубликаты не обнаружены.</b></span></div>"
   ]
  },
  {
   "cell_type": "code",
   "execution_count": 423,
   "id": "e8a1ba1f",
   "metadata": {
    "scrolled": false
   },
   "outputs": [
    {
     "data": {
      "text/plain": [
       "array(['2600', '3DO', '3DS', 'DC', 'DS', 'GB', 'GBA', 'GC', 'GEN', 'GG',\n",
       "       'N64', 'NES', 'NG', 'PC', 'PCFX', 'PS', 'PS2', 'PS3', 'PS4', 'PSP',\n",
       "       'PSV', 'SAT', 'SCD', 'SNES', 'TG16', 'WS', 'Wii', 'WiiU', 'X360',\n",
       "       'XB', 'XOne'], dtype=object)"
      ]
     },
     "execution_count": 423,
     "metadata": {},
     "output_type": "execute_result"
    }
   ],
   "source": [
    "# Поиск неявных дубликатов в 'Platform'\n",
    "df['Platform'].sort_values().unique()"
   ]
  },
  {
   "cell_type": "code",
   "execution_count": 424,
   "id": "8d563562",
   "metadata": {},
   "outputs": [
    {
     "data": {
      "text/plain": [
       "array([1980., 1981., 1982., 1983., 1984., 1985., 1986., 1987., 1988.,\n",
       "       1989., 1990., 1991., 1992., 1993., 1994., 1995., 1996., 1997.,\n",
       "       1998., 1999., 2000., 2001., 2002., 2003., 2004., 2005., 2006.,\n",
       "       2007., 2008., 2009., 2010., 2011., 2012., 2013., 2014., 2015.,\n",
       "       2016.,   nan])"
      ]
     },
     "execution_count": 424,
     "metadata": {},
     "output_type": "execute_result"
    }
   ],
   "source": [
    "# Поиск неявных дубликатов в 'Year_of_Release'\n",
    "df['Year_of_Release'].sort_values().unique()"
   ]
  },
  {
   "cell_type": "code",
   "execution_count": 425,
   "id": "99e1eac2",
   "metadata": {
    "scrolled": false
   },
   "outputs": [
    {
     "data": {
      "text/plain": [
       "Action          3369\n",
       "Sports          2348\n",
       "Misc            1750\n",
       "Role-Playing    1498\n",
       "Shooter         1323\n",
       "Adventure       1303\n",
       "Racing          1249\n",
       "Platform         888\n",
       "Simulation       873\n",
       "Fighting         849\n",
       "Strategy         683\n",
       "Puzzle           580\n",
       "Name: Genre, dtype: int64"
      ]
     },
     "execution_count": 425,
     "metadata": {},
     "output_type": "execute_result"
    }
   ],
   "source": [
    "# Поиск неявных дубликатов в 'Genre'\n",
    "df['Genre'].value_counts()"
   ]
  },
  {
   "cell_type": "code",
   "execution_count": 426,
   "id": "cac1434d",
   "metadata": {},
   "outputs": [
    {
     "data": {
      "text/plain": [
       "array(['0', '0.2', '0.3', '0.5', '0.6', '0.7', '0.9', '1', '1.1', '1.2',\n",
       "       '1.3', '1.4', '1.5', '1.6', '1.7', '1.8', '1.9', '2', '2.1', '2.2',\n",
       "       '2.3', '2.4', '2.5', '2.6', '2.7', '2.8', '2.9', '3', '3.1', '3.2',\n",
       "       '3.3', '3.4', '3.5', '3.6', '3.7', '3.8', '3.9', '4', '4.1', '4.2',\n",
       "       '4.3', '4.4', '4.5', '4.6', '4.7', '4.8', '4.9', '5', '5.1', '5.2',\n",
       "       '5.3', '5.4', '5.5', '5.6', '5.7', '5.8', '5.9', '6', '6.1', '6.2',\n",
       "       '6.3', '6.4', '6.5', '6.6', '6.7', '6.8', '6.9', '7', '7.1', '7.2',\n",
       "       '7.3', '7.4', '7.5', '7.6', '7.7', '7.8', '7.9', '8', '8.1', '8.2',\n",
       "       '8.3', '8.4', '8.5', '8.6', '8.7', '8.8', '8.9', '9', '9.1', '9.2',\n",
       "       '9.3', '9.4', '9.5', '9.6', '9.7', 'tbd', nan], dtype=object)"
      ]
     },
     "execution_count": 426,
     "metadata": {},
     "output_type": "execute_result"
    }
   ],
   "source": [
    "# Поиск неявных дубликатов в 'User_Score'\n",
    "df['User_Score'].sort_values().unique()"
   ]
  },
  {
   "cell_type": "code",
   "execution_count": 427,
   "id": "118abb1c",
   "metadata": {},
   "outputs": [
    {
     "data": {
      "text/plain": [
       "array(['AO', 'E', 'E10+', 'EC', 'K-A', 'M', 'RP', 'T', nan], dtype=object)"
      ]
     },
     "execution_count": 427,
     "metadata": {},
     "output_type": "execute_result"
    }
   ],
   "source": [
    "# Поиск неявных дубликатов в 'Rating'\n",
    "df['Rating'].sort_values().unique()"
   ]
  },
  {
   "cell_type": "markdown",
   "id": "c3adb659",
   "metadata": {},
   "source": [
    "<div class=\"alert alert-block alert-warning\"><span style=\"color:green\"><font size=\"3\" face=\"Arial\"><b>Промежуточные выводы 1.4:<b/></span>\n",
    "    \n",
    "<span style=\"color:steelblue\"><font size=\"3\" face=\"Courier\"><b>Неявные дубликаты не обнаружены.</b></span></div>"
   ]
  },
  {
   "cell_type": "markdown",
   "id": "316283a3",
   "metadata": {},
   "source": [
    "### Вывод"
   ]
  },
  {
   "cell_type": "markdown",
   "id": "13dc81e4",
   "metadata": {},
   "source": [
    "<div class=\"alert alert-block alert-warning\">\n",
    "    \n",
    "<span style=\"color:steelblue\"><font size=\"3\" face=\"Courier\"><b>1. Обнаружены пропуски, которые необходимо обработать.\\\n",
    "    2. Названия колонок написаны с нарушением змеиного стиля.\\\n",
    "    3. Явные и неявные дубликаты не обнаружены.\\\n",
    "    4. Выявлено несоответствие типа данных.</b></span></div>"
   ]
  },
  {
   "cell_type": "markdown",
   "id": "b3cfd0dc",
   "metadata": {},
   "source": [
    "## Предобработка данных"
   ]
  },
  {
   "cell_type": "markdown",
   "id": "a56d464a",
   "metadata": {},
   "source": [
    "### Работа с названиями колонок"
   ]
  },
  {
   "cell_type": "code",
   "execution_count": 428,
   "id": "100fb2a2",
   "metadata": {},
   "outputs": [],
   "source": [
    "# Переименование колонок df\n",
    "df.columns = df.columns.str.lower()"
   ]
  },
  {
   "cell_type": "code",
   "execution_count": 429,
   "id": "bbe8a059",
   "metadata": {},
   "outputs": [
    {
     "data": {
      "text/html": [
       "<div>\n",
       "<style scoped>\n",
       "    .dataframe tbody tr th:only-of-type {\n",
       "        vertical-align: middle;\n",
       "    }\n",
       "\n",
       "    .dataframe tbody tr th {\n",
       "        vertical-align: top;\n",
       "    }\n",
       "\n",
       "    .dataframe thead th {\n",
       "        text-align: right;\n",
       "    }\n",
       "</style>\n",
       "<table border=\"1\" class=\"dataframe\">\n",
       "  <thead>\n",
       "    <tr style=\"text-align: right;\">\n",
       "      <th></th>\n",
       "      <th>name</th>\n",
       "      <th>platform</th>\n",
       "      <th>year_of_release</th>\n",
       "      <th>genre</th>\n",
       "      <th>na_sales</th>\n",
       "      <th>eu_sales</th>\n",
       "      <th>jp_sales</th>\n",
       "      <th>other_sales</th>\n",
       "      <th>critic_score</th>\n",
       "      <th>user_score</th>\n",
       "      <th>rating</th>\n",
       "    </tr>\n",
       "  </thead>\n",
       "  <tbody>\n",
       "    <tr>\n",
       "      <th>0</th>\n",
       "      <td>Wii Sports</td>\n",
       "      <td>Wii</td>\n",
       "      <td>2006.0</td>\n",
       "      <td>Sports</td>\n",
       "      <td>41.36</td>\n",
       "      <td>28.96</td>\n",
       "      <td>3.77</td>\n",
       "      <td>8.45</td>\n",
       "      <td>76.0</td>\n",
       "      <td>8</td>\n",
       "      <td>E</td>\n",
       "    </tr>\n",
       "    <tr>\n",
       "      <th>1</th>\n",
       "      <td>Super Mario Bros.</td>\n",
       "      <td>NES</td>\n",
       "      <td>1985.0</td>\n",
       "      <td>Platform</td>\n",
       "      <td>29.08</td>\n",
       "      <td>3.58</td>\n",
       "      <td>6.81</td>\n",
       "      <td>0.77</td>\n",
       "      <td>NaN</td>\n",
       "      <td>NaN</td>\n",
       "      <td>NaN</td>\n",
       "    </tr>\n",
       "    <tr>\n",
       "      <th>2</th>\n",
       "      <td>Mario Kart Wii</td>\n",
       "      <td>Wii</td>\n",
       "      <td>2008.0</td>\n",
       "      <td>Racing</td>\n",
       "      <td>15.68</td>\n",
       "      <td>12.76</td>\n",
       "      <td>3.79</td>\n",
       "      <td>3.29</td>\n",
       "      <td>82.0</td>\n",
       "      <td>8.3</td>\n",
       "      <td>E</td>\n",
       "    </tr>\n",
       "    <tr>\n",
       "      <th>3</th>\n",
       "      <td>Wii Sports Resort</td>\n",
       "      <td>Wii</td>\n",
       "      <td>2009.0</td>\n",
       "      <td>Sports</td>\n",
       "      <td>15.61</td>\n",
       "      <td>10.93</td>\n",
       "      <td>3.28</td>\n",
       "      <td>2.95</td>\n",
       "      <td>80.0</td>\n",
       "      <td>8</td>\n",
       "      <td>E</td>\n",
       "    </tr>\n",
       "    <tr>\n",
       "      <th>4</th>\n",
       "      <td>Pokemon Red/Pokemon Blue</td>\n",
       "      <td>GB</td>\n",
       "      <td>1996.0</td>\n",
       "      <td>Role-Playing</td>\n",
       "      <td>11.27</td>\n",
       "      <td>8.89</td>\n",
       "      <td>10.22</td>\n",
       "      <td>1.00</td>\n",
       "      <td>NaN</td>\n",
       "      <td>NaN</td>\n",
       "      <td>NaN</td>\n",
       "    </tr>\n",
       "  </tbody>\n",
       "</table>\n",
       "</div>"
      ],
      "text/plain": [
       "                       name platform  year_of_release         genre  na_sales  \\\n",
       "0                Wii Sports      Wii           2006.0        Sports     41.36   \n",
       "1         Super Mario Bros.      NES           1985.0      Platform     29.08   \n",
       "2            Mario Kart Wii      Wii           2008.0        Racing     15.68   \n",
       "3         Wii Sports Resort      Wii           2009.0        Sports     15.61   \n",
       "4  Pokemon Red/Pokemon Blue       GB           1996.0  Role-Playing     11.27   \n",
       "\n",
       "   eu_sales  jp_sales  other_sales  critic_score user_score rating  \n",
       "0     28.96      3.77         8.45          76.0          8      E  \n",
       "1      3.58      6.81         0.77           NaN        NaN    NaN  \n",
       "2     12.76      3.79         3.29          82.0        8.3      E  \n",
       "3     10.93      3.28         2.95          80.0          8      E  \n",
       "4      8.89     10.22         1.00           NaN        NaN    NaN  "
      ]
     },
     "execution_count": 429,
     "metadata": {},
     "output_type": "execute_result"
    }
   ],
   "source": [
    "# Вывод первых пяти строк df\n",
    "df.head()"
   ]
  },
  {
   "cell_type": "markdown",
   "id": "5951abe9",
   "metadata": {},
   "source": [
    "<div class=\"alert alert-block alert-warning\"><span style=\"color:green\"><font size=\"3\" face=\"Arial\"><b>Промежуточные выводы 2.1:<b/></span>\n",
    "    \n",
    "<span style=\"color:steelblue\"><font size=\"3\" face=\"Courier\"><b>Регистр в названиях колонок успешно изменён.</b></span></div>"
   ]
  },
  {
   "cell_type": "markdown",
   "id": "c2c2f64d",
   "metadata": {},
   "source": [
    "### Работа с пропусками"
   ]
  },
  {
   "cell_type": "code",
   "execution_count": 430,
   "id": "2fb5cefe",
   "metadata": {},
   "outputs": [],
   "source": [
    "# Удаление строк с пропусками в 'name' и 'genre'\n",
    "df = df.dropna(subset=['name', 'genre']).reset_index(drop=True)"
   ]
  },
  {
   "cell_type": "code",
   "execution_count": 431,
   "id": "7c237ed5",
   "metadata": {},
   "outputs": [
    {
     "data": {
      "text/plain": [
       "0"
      ]
     },
     "execution_count": 431,
     "metadata": {},
     "output_type": "execute_result"
    }
   ],
   "source": [
    "# Определение количества пропусков в 'name'\n",
    "df['name'].isna().sum()"
   ]
  },
  {
   "cell_type": "code",
   "execution_count": 432,
   "id": "a176e3eb",
   "metadata": {},
   "outputs": [],
   "source": [
    "# Заполнение пропусков в 'year_of_release' с\n",
    "# группировкой по названию игры\n",
    "df['year_of_release'] = df.groupby(by='name', sort=False)['year_of_release'].apply(lambda x: x.fillna(x.max()))"
   ]
  },
  {
   "cell_type": "code",
   "execution_count": 433,
   "id": "cd4a90d5",
   "metadata": {
    "scrolled": true
   },
   "outputs": [
    {
     "data": {
      "text/plain": [
       "146"
      ]
     },
     "execution_count": 433,
     "metadata": {},
     "output_type": "execute_result"
    }
   ],
   "source": [
    "# Определение количества пропусков в 'year_of_release'\n",
    "df['year_of_release'].isna().sum()"
   ]
  },
  {
   "cell_type": "markdown",
   "id": "b927b171",
   "metadata": {},
   "source": [
    "<div class=\"alert alert-block alert-warning\"><span style=\"color:green\"><font size=\"3\" face=\"Arial\"><b>Промежуточные выводы 2.2:<b/></span>\n",
    "    \n",
    "<span style=\"color:steelblue\"><font size=\"3\" face=\"Courier\"><b>1. Пропуски в 'name' удалены.\\\n",
    "    2. Количество пропусков в 'year_of_release' сократилось до 146.</b></span></div>"
   ]
  },
  {
   "cell_type": "markdown",
   "id": "f8b057e7",
   "metadata": {},
   "source": [
    "### Работа с типами данных"
   ]
  },
  {
   "cell_type": "code",
   "execution_count": 434,
   "id": "695bf4ba",
   "metadata": {},
   "outputs": [],
   "source": [
    "# Замена 'tbd' в колонке 'user_score' на NaN\n",
    "df.loc[df['user_score'] == 'tbd', 'user_score'] = np.nan\n",
    "# df['user_score'] = df['user_score'].replace('tbd', np.nan, regex=True)"
   ]
  },
  {
   "cell_type": "code",
   "execution_count": 435,
   "id": "3103b757",
   "metadata": {},
   "outputs": [],
   "source": [
    "# Замена типа данных в 'user_score'\n",
    "df['user_score'] = df['user_score'].astype('float64')"
   ]
  },
  {
   "cell_type": "code",
   "execution_count": 436,
   "id": "08dc9a40",
   "metadata": {},
   "outputs": [],
   "source": [
    "# Замена типа данных в 'year_of_release'\n",
    "df['year_of_release'] = df['year_of_release'].astype('Int64')"
   ]
  },
  {
   "cell_type": "code",
   "execution_count": 437,
   "id": "4f35110b",
   "metadata": {},
   "outputs": [],
   "source": [
    "# Замена 'RP' в колонке 'rating' на NaN\n",
    "df.loc[df['rating'] == 'RP', 'rating'] = np.nan"
   ]
  },
  {
   "cell_type": "code",
   "execution_count": 438,
   "id": "12f5d9ae",
   "metadata": {
    "scrolled": true
   },
   "outputs": [
    {
     "name": "stdout",
     "output_type": "stream",
     "text": [
      "<class 'pandas.core.frame.DataFrame'>\n",
      "RangeIndex: 16713 entries, 0 to 16712\n",
      "Data columns (total 11 columns):\n",
      " #   Column           Non-Null Count  Dtype  \n",
      "---  ------           --------------  -----  \n",
      " 0   name             16713 non-null  object \n",
      " 1   platform         16713 non-null  object \n",
      " 2   year_of_release  16567 non-null  Int64  \n",
      " 3   genre            16713 non-null  object \n",
      " 4   na_sales         16713 non-null  float64\n",
      " 5   eu_sales         16713 non-null  float64\n",
      " 6   jp_sales         16713 non-null  float64\n",
      " 7   other_sales      16713 non-null  float64\n",
      " 8   critic_score     8137 non-null   float64\n",
      " 9   user_score       7590 non-null   float64\n",
      " 10  rating           9946 non-null   object \n",
      "dtypes: Int64(1), float64(6), object(4)\n",
      "memory usage: 1.4+ MB\n"
     ]
    }
   ],
   "source": [
    "# Вывод общей информации по датафрейму df\n",
    "df.info()"
   ]
  },
  {
   "cell_type": "markdown",
   "id": "cda88810",
   "metadata": {},
   "source": [
    "<div class=\"alert alert-block alert-warning\"><span style=\"color:green\"><font size=\"3\" face=\"Arial\"><b>Промежуточные выводы 2.3:<b/></span>\n",
    "    \n",
    "<span style=\"color:steelblue\"><font size=\"3\" face=\"Courier\"><b>1. Тип данных в 'user_score' и 'year_of_release' успешно изменён.\\\n",
    "    2. Строковые данные в 'user_score' и 'rating', не несущие информации, успешно заменены на пропуски.</b></span></div>"
   ]
  },
  {
   "cell_type": "markdown",
   "id": "2bbc3457",
   "metadata": {},
   "source": [
    "### Вывод"
   ]
  },
  {
   "cell_type": "markdown",
   "id": "bbe2d101",
   "metadata": {},
   "source": [
    "<div class=\"alert alert-block alert-warning\">\n",
    "    \n",
    "<span style=\"color:steelblue\"><font size=\"3\" face=\"Courier\"><b>1. Названия колонок приведены в соответствие змеиному стилю.\\\n",
    "    2. Обнаруженые пропуски успешно обработаны.\\\n",
    "    3. Выполнена замена типа данных.\\\n",
    "    4. Можно приступать к расчётам и работе с таблицей.</b></span></div>"
   ]
  },
  {
   "cell_type": "markdown",
   "id": "caceac6f",
   "metadata": {},
   "source": [
    "## Работа с таблицами. Расчёты и добавление результатов"
   ]
  },
  {
   "cell_type": "markdown",
   "id": "e021042d",
   "metadata": {},
   "source": [
    "### Расчёт суммарного количества продаж"
   ]
  },
  {
   "cell_type": "code",
   "execution_count": 439,
   "id": "58891ef9",
   "metadata": {},
   "outputs": [],
   "source": [
    "# Добавление колонки 'total_sales' с суммарным\n",
    "# количеством продаж игры во всех регионах\n",
    "# df['total_sales'] = df['na_sales'] + df['eu_sales'] + df['jp_sales'] + df['other_sales']\n",
    "df['total_sales'] = df[['na_sales', 'eu_sales', 'jp_sales', 'other_sales']].sum(axis=1)"
   ]
  },
  {
   "cell_type": "code",
   "execution_count": 440,
   "id": "81e49e26",
   "metadata": {
    "scrolled": true
   },
   "outputs": [
    {
     "data": {
      "text/html": [
       "<div>\n",
       "<style scoped>\n",
       "    .dataframe tbody tr th:only-of-type {\n",
       "        vertical-align: middle;\n",
       "    }\n",
       "\n",
       "    .dataframe tbody tr th {\n",
       "        vertical-align: top;\n",
       "    }\n",
       "\n",
       "    .dataframe thead th {\n",
       "        text-align: right;\n",
       "    }\n",
       "</style>\n",
       "<table border=\"1\" class=\"dataframe\">\n",
       "  <thead>\n",
       "    <tr style=\"text-align: right;\">\n",
       "      <th></th>\n",
       "      <th>name</th>\n",
       "      <th>platform</th>\n",
       "      <th>year_of_release</th>\n",
       "      <th>genre</th>\n",
       "      <th>na_sales</th>\n",
       "      <th>eu_sales</th>\n",
       "      <th>jp_sales</th>\n",
       "      <th>other_sales</th>\n",
       "      <th>critic_score</th>\n",
       "      <th>user_score</th>\n",
       "      <th>rating</th>\n",
       "      <th>total_sales</th>\n",
       "    </tr>\n",
       "  </thead>\n",
       "  <tbody>\n",
       "    <tr>\n",
       "      <th>0</th>\n",
       "      <td>Wii Sports</td>\n",
       "      <td>Wii</td>\n",
       "      <td>2006</td>\n",
       "      <td>Sports</td>\n",
       "      <td>41.36</td>\n",
       "      <td>28.96</td>\n",
       "      <td>3.77</td>\n",
       "      <td>8.45</td>\n",
       "      <td>76.0</td>\n",
       "      <td>8.0</td>\n",
       "      <td>E</td>\n",
       "      <td>82.54</td>\n",
       "    </tr>\n",
       "    <tr>\n",
       "      <th>1</th>\n",
       "      <td>Super Mario Bros.</td>\n",
       "      <td>NES</td>\n",
       "      <td>1985</td>\n",
       "      <td>Platform</td>\n",
       "      <td>29.08</td>\n",
       "      <td>3.58</td>\n",
       "      <td>6.81</td>\n",
       "      <td>0.77</td>\n",
       "      <td>NaN</td>\n",
       "      <td>NaN</td>\n",
       "      <td>NaN</td>\n",
       "      <td>40.24</td>\n",
       "    </tr>\n",
       "    <tr>\n",
       "      <th>2</th>\n",
       "      <td>Mario Kart Wii</td>\n",
       "      <td>Wii</td>\n",
       "      <td>2008</td>\n",
       "      <td>Racing</td>\n",
       "      <td>15.68</td>\n",
       "      <td>12.76</td>\n",
       "      <td>3.79</td>\n",
       "      <td>3.29</td>\n",
       "      <td>82.0</td>\n",
       "      <td>8.3</td>\n",
       "      <td>E</td>\n",
       "      <td>35.52</td>\n",
       "    </tr>\n",
       "    <tr>\n",
       "      <th>3</th>\n",
       "      <td>Wii Sports Resort</td>\n",
       "      <td>Wii</td>\n",
       "      <td>2009</td>\n",
       "      <td>Sports</td>\n",
       "      <td>15.61</td>\n",
       "      <td>10.93</td>\n",
       "      <td>3.28</td>\n",
       "      <td>2.95</td>\n",
       "      <td>80.0</td>\n",
       "      <td>8.0</td>\n",
       "      <td>E</td>\n",
       "      <td>32.77</td>\n",
       "    </tr>\n",
       "    <tr>\n",
       "      <th>4</th>\n",
       "      <td>Pokemon Red/Pokemon Blue</td>\n",
       "      <td>GB</td>\n",
       "      <td>1996</td>\n",
       "      <td>Role-Playing</td>\n",
       "      <td>11.27</td>\n",
       "      <td>8.89</td>\n",
       "      <td>10.22</td>\n",
       "      <td>1.00</td>\n",
       "      <td>NaN</td>\n",
       "      <td>NaN</td>\n",
       "      <td>NaN</td>\n",
       "      <td>31.38</td>\n",
       "    </tr>\n",
       "  </tbody>\n",
       "</table>\n",
       "</div>"
      ],
      "text/plain": [
       "                       name platform  year_of_release         genre  na_sales  \\\n",
       "0                Wii Sports      Wii             2006        Sports     41.36   \n",
       "1         Super Mario Bros.      NES             1985      Platform     29.08   \n",
       "2            Mario Kart Wii      Wii             2008        Racing     15.68   \n",
       "3         Wii Sports Resort      Wii             2009        Sports     15.61   \n",
       "4  Pokemon Red/Pokemon Blue       GB             1996  Role-Playing     11.27   \n",
       "\n",
       "   eu_sales  jp_sales  other_sales  critic_score  user_score rating  \\\n",
       "0     28.96      3.77         8.45          76.0         8.0      E   \n",
       "1      3.58      6.81         0.77           NaN         NaN    NaN   \n",
       "2     12.76      3.79         3.29          82.0         8.3      E   \n",
       "3     10.93      3.28         2.95          80.0         8.0      E   \n",
       "4      8.89     10.22         1.00           NaN         NaN    NaN   \n",
       "\n",
       "   total_sales  \n",
       "0        82.54  \n",
       "1        40.24  \n",
       "2        35.52  \n",
       "3        32.77  \n",
       "4        31.38  "
      ]
     },
     "execution_count": 440,
     "metadata": {},
     "output_type": "execute_result"
    }
   ],
   "source": [
    "# Вывод первых пяти строк df\n",
    "df.head()"
   ]
  },
  {
   "cell_type": "markdown",
   "id": "144168e3",
   "metadata": {},
   "source": [
    "### Вывод"
   ]
  },
  {
   "cell_type": "markdown",
   "id": "07dc2674",
   "metadata": {},
   "source": [
    "<div class=\"alert alert-block alert-warning\">\n",
    "    \n",
    "<span style=\"color:steelblue\"><font size=\"3\" face=\"Courier\"><b>Расчёт суммарного количества продаж каждой игры и добавление соответствующей колонки выполнены успешно.</b></span></div>"
   ]
  },
  {
   "cell_type": "markdown",
   "id": "fba10d56",
   "metadata": {},
   "source": [
    "## Исследовательский анализ данных"
   ]
  },
  {
   "cell_type": "markdown",
   "id": "80d7fe38",
   "metadata": {},
   "source": [
    "### Изучение годового количества выпускаемых игр "
   ]
  },
  {
   "cell_type": "code",
   "execution_count": 441,
   "id": "0ed6ba8b",
   "metadata": {
    "scrolled": false
   },
   "outputs": [
    {
     "data": {
      "image/png": "[encoded data removed]",
      "text/plain": [
       "<Figure size 1152x576 with 1 Axes>"
      ]
     },
     "metadata": {
      "needs_background": "light"
     },
     "output_type": "display_data"
    }
   ],
   "source": [
    "# Построение столбчатой диаграммы распределения\n",
    "# количества игр по годам\n",
    "df.pivot_table(\n",
    "    index='year_of_release', \n",
    "    values='name', \n",
    "    aggfunc='count'\n",
    ").reset_index().plot(\n",
    "    x='year_of_release', \n",
    "    y='name',\n",
    "    kind='bar',\n",
    "    title='РАСПРЕДЕЛЕНИЕ ИГР ПО ГОДАМ',\n",
    "    label='Игры',\n",
    "    xlabel='НОМЕР ГОДА',\n",
    "    ylabel='КОЛИЧЕСТВО ИГР',\n",
    "    figsize=(16, 8),\n",
    "    grid=True, \n",
    "    legend=True,\n",
    "    color='teal'\n",
    ")\n",
    "plt.show()"
   ]
  },
  {
   "cell_type": "markdown",
   "id": "fbf1d185",
   "metadata": {},
   "source": [
    "<div class=\"alert alert-block alert-warning\"><span style=\"color:green\"><font size=\"3\" face=\"Arial\"><b>Промежуточные выводы 3.1:<b/></span>\n",
    "    \n",
    "<span style=\"color:steelblue\"><font size=\"3\" face=\"Courier\"><b>1. График распределения количества игр ассиметричен - имеет отрицательную скошенность (влево), что говорит о смещении медианного значения к среднему с увеличением года.\\\n",
    "    Исходя из этого, можно сделать вывод, что большее количество игр выпущено в годы, обозначенные на правой части графика.\\\n",
    "    2. Рост количества игр начинается с 1994 года, достигая пикового значения в 2008 году.\\\n",
    "    После 2008 года наблюдается спад. Возможно это связано с активным развитием различных онлайн-платформ и облачных сервисов.\\\n",
    "    3. Так как наблюдается резкий спад, для учёта факторов и тенденций, влияющих на продажи, необходимо учитывать период после 2012 года, то есть, начиная с 2013 года включительно.</b></span></div>"
   ]
  },
  {
   "cell_type": "markdown",
   "id": "23437c64",
   "metadata": {},
   "source": [
    "### Изучение продаж по платформам"
   ]
  },
  {
   "cell_type": "code",
   "execution_count": 442,
   "id": "d7491d2f",
   "metadata": {},
   "outputs": [
    {
     "data": {
      "image/png": "[encoded data removed]",
      "text/plain": [
       "<Figure size 1152x576 with 1 Axes>"
      ]
     },
     "metadata": {
      "needs_background": "light"
     },
     "output_type": "display_data"
    }
   ],
   "source": [
    "# Постороение столбчатой диаграммы распределения\n",
    "# продаж по платформам\n",
    "df.pivot_table(\n",
    "    index='platform', \n",
    "    values='total_sales', \n",
    "    aggfunc='sum'\n",
    ").reset_index().plot(\n",
    "    x='platform',\n",
    "    y='total_sales',\n",
    "    kind='bar',\n",
    "    title='РАСПРЕДЕЛЕНИЕ ПРОДАЖ ПО ПЛАТФОРМАМ',\n",
    "    label='Продажи',\n",
    "    xlabel='НАЗВАНИЕ ПЛАТФОРМЫ',\n",
    "    ylabel='КОЛИЧЕСТВО ПРОДАЖ',\n",
    "    figsize=(16, 8),\n",
    "    grid=True,\n",
    "    legend=True,\n",
    "    color='lightblue'\n",
    ")\n",
    "plt.show()"
   ]
  },
  {
   "cell_type": "code",
   "execution_count": 443,
   "id": "16a3f285",
   "metadata": {
    "scrolled": true
   },
   "outputs": [],
   "source": [
    "# Формирование датафрейма df_platform с\n",
    "# количеством продаж по платформам\n",
    "df_platform = df.pivot_table(\n",
    "    index='platform', \n",
    "    values='total_sales', \n",
    "    aggfunc='sum'\n",
    ").sort_values(\n",
    "    by='total_sales', \n",
    "    ascending=False\n",
    ").reset_index()"
   ]
  },
  {
   "cell_type": "code",
   "execution_count": 444,
   "id": "ba2a40d1",
   "metadata": {
    "scrolled": true
   },
   "outputs": [
    {
     "data": {
      "text/html": [
       "<div>\n",
       "<style scoped>\n",
       "    .dataframe tbody tr th:only-of-type {\n",
       "        vertical-align: middle;\n",
       "    }\n",
       "\n",
       "    .dataframe tbody tr th {\n",
       "        vertical-align: top;\n",
       "    }\n",
       "\n",
       "    .dataframe thead th {\n",
       "        text-align: right;\n",
       "    }\n",
       "</style>\n",
       "<table border=\"1\" class=\"dataframe\">\n",
       "  <thead>\n",
       "    <tr style=\"text-align: right;\">\n",
       "      <th></th>\n",
       "      <th>platform</th>\n",
       "      <th>total_sales</th>\n",
       "    </tr>\n",
       "  </thead>\n",
       "  <tbody>\n",
       "    <tr>\n",
       "      <th>0</th>\n",
       "      <td>PS2</td>\n",
       "      <td>1255.77</td>\n",
       "    </tr>\n",
       "    <tr>\n",
       "      <th>1</th>\n",
       "      <td>X360</td>\n",
       "      <td>971.42</td>\n",
       "    </tr>\n",
       "    <tr>\n",
       "      <th>2</th>\n",
       "      <td>PS3</td>\n",
       "      <td>939.65</td>\n",
       "    </tr>\n",
       "    <tr>\n",
       "      <th>3</th>\n",
       "      <td>Wii</td>\n",
       "      <td>907.51</td>\n",
       "    </tr>\n",
       "    <tr>\n",
       "      <th>4</th>\n",
       "      <td>DS</td>\n",
       "      <td>806.12</td>\n",
       "    </tr>\n",
       "    <tr>\n",
       "      <th>5</th>\n",
       "      <td>PS</td>\n",
       "      <td>730.86</td>\n",
       "    </tr>\n",
       "    <tr>\n",
       "      <th>6</th>\n",
       "      <td>GBA</td>\n",
       "      <td>317.85</td>\n",
       "    </tr>\n",
       "    <tr>\n",
       "      <th>7</th>\n",
       "      <td>PS4</td>\n",
       "      <td>314.14</td>\n",
       "    </tr>\n",
       "    <tr>\n",
       "      <th>8</th>\n",
       "      <td>PSP</td>\n",
       "      <td>294.05</td>\n",
       "    </tr>\n",
       "    <tr>\n",
       "      <th>9</th>\n",
       "      <td>PC</td>\n",
       "      <td>259.52</td>\n",
       "    </tr>\n",
       "    <tr>\n",
       "      <th>10</th>\n",
       "      <td>3DS</td>\n",
       "      <td>259.00</td>\n",
       "    </tr>\n",
       "    <tr>\n",
       "      <th>11</th>\n",
       "      <td>XB</td>\n",
       "      <td>257.74</td>\n",
       "    </tr>\n",
       "    <tr>\n",
       "      <th>12</th>\n",
       "      <td>GB</td>\n",
       "      <td>255.46</td>\n",
       "    </tr>\n",
       "    <tr>\n",
       "      <th>13</th>\n",
       "      <td>NES</td>\n",
       "      <td>251.05</td>\n",
       "    </tr>\n",
       "    <tr>\n",
       "      <th>14</th>\n",
       "      <td>N64</td>\n",
       "      <td>218.68</td>\n",
       "    </tr>\n",
       "    <tr>\n",
       "      <th>15</th>\n",
       "      <td>SNES</td>\n",
       "      <td>200.04</td>\n",
       "    </tr>\n",
       "    <tr>\n",
       "      <th>16</th>\n",
       "      <td>GC</td>\n",
       "      <td>198.93</td>\n",
       "    </tr>\n",
       "    <tr>\n",
       "      <th>17</th>\n",
       "      <td>XOne</td>\n",
       "      <td>159.32</td>\n",
       "    </tr>\n",
       "    <tr>\n",
       "      <th>18</th>\n",
       "      <td>2600</td>\n",
       "      <td>96.98</td>\n",
       "    </tr>\n",
       "    <tr>\n",
       "      <th>19</th>\n",
       "      <td>WiiU</td>\n",
       "      <td>82.19</td>\n",
       "    </tr>\n",
       "    <tr>\n",
       "      <th>20</th>\n",
       "      <td>PSV</td>\n",
       "      <td>54.07</td>\n",
       "    </tr>\n",
       "    <tr>\n",
       "      <th>21</th>\n",
       "      <td>SAT</td>\n",
       "      <td>33.59</td>\n",
       "    </tr>\n",
       "    <tr>\n",
       "      <th>22</th>\n",
       "      <td>GEN</td>\n",
       "      <td>28.35</td>\n",
       "    </tr>\n",
       "    <tr>\n",
       "      <th>23</th>\n",
       "      <td>DC</td>\n",
       "      <td>15.95</td>\n",
       "    </tr>\n",
       "    <tr>\n",
       "      <th>24</th>\n",
       "      <td>SCD</td>\n",
       "      <td>1.86</td>\n",
       "    </tr>\n",
       "    <tr>\n",
       "      <th>25</th>\n",
       "      <td>NG</td>\n",
       "      <td>1.44</td>\n",
       "    </tr>\n",
       "    <tr>\n",
       "      <th>26</th>\n",
       "      <td>WS</td>\n",
       "      <td>1.42</td>\n",
       "    </tr>\n",
       "    <tr>\n",
       "      <th>27</th>\n",
       "      <td>TG16</td>\n",
       "      <td>0.16</td>\n",
       "    </tr>\n",
       "    <tr>\n",
       "      <th>28</th>\n",
       "      <td>3DO</td>\n",
       "      <td>0.10</td>\n",
       "    </tr>\n",
       "    <tr>\n",
       "      <th>29</th>\n",
       "      <td>GG</td>\n",
       "      <td>0.04</td>\n",
       "    </tr>\n",
       "    <tr>\n",
       "      <th>30</th>\n",
       "      <td>PCFX</td>\n",
       "      <td>0.03</td>\n",
       "    </tr>\n",
       "  </tbody>\n",
       "</table>\n",
       "</div>"
      ],
      "text/plain": [
       "   platform  total_sales\n",
       "0       PS2      1255.77\n",
       "1      X360       971.42\n",
       "2       PS3       939.65\n",
       "3       Wii       907.51\n",
       "4        DS       806.12\n",
       "5        PS       730.86\n",
       "6       GBA       317.85\n",
       "7       PS4       314.14\n",
       "8       PSP       294.05\n",
       "9        PC       259.52\n",
       "10      3DS       259.00\n",
       "11       XB       257.74\n",
       "12       GB       255.46\n",
       "13      NES       251.05\n",
       "14      N64       218.68\n",
       "15     SNES       200.04\n",
       "16       GC       198.93\n",
       "17     XOne       159.32\n",
       "18     2600        96.98\n",
       "19     WiiU        82.19\n",
       "20      PSV        54.07\n",
       "21      SAT        33.59\n",
       "22      GEN        28.35\n",
       "23       DC        15.95\n",
       "24      SCD         1.86\n",
       "25       NG         1.44\n",
       "26       WS         1.42\n",
       "27     TG16         0.16\n",
       "28      3DO         0.10\n",
       "29       GG         0.04\n",
       "30     PCFX         0.03"
      ]
     },
     "execution_count": 444,
     "metadata": {},
     "output_type": "execute_result"
    }
   ],
   "source": [
    "# Вывод датафрейма df_plarform\n",
    "df_platform"
   ]
  },
  {
   "cell_type": "markdown",
   "id": "723d052e",
   "metadata": {},
   "source": [
    "<div class=\"alert alert-block alert-warning\"><span style=\"color:green\"><font size=\"3\" face=\"Arial\"><b>Промежуточные выводы 3.2:<b/></span>\n",
    "    \n",
    "<span style=\"color:steelblue\"><font size=\"3\" face=\"Courier\"><b>Среди платформ с наибольшим количеством продаж выделяются PS2, X360, PS3, Wii, DS, PS.</b></span></div>"
   ]
  },
  {
   "cell_type": "code",
   "execution_count": 445,
   "id": "8ff6dff1",
   "metadata": {},
   "outputs": [],
   "source": [
    "# Формирование списка платформ с наибольшим количеством продаж\n",
    "platform_list1 = list(df_platform.loc[:7, 'platform'])"
   ]
  },
  {
   "cell_type": "code",
   "execution_count": 446,
   "id": "3b28bb11",
   "metadata": {},
   "outputs": [
    {
     "data": {
      "text/plain": [
       "['PS2', 'X360', 'PS3', 'Wii', 'DS', 'PS', 'GBA', 'PS4']"
      ]
     },
     "execution_count": 446,
     "metadata": {},
     "output_type": "execute_result"
    }
   ],
   "source": [
    "# Вывод списка platform_list\n",
    "platform_list1"
   ]
  },
  {
   "cell_type": "code",
   "execution_count": 447,
   "id": "a0ea585e",
   "metadata": {},
   "outputs": [],
   "source": [
    "# Формирование списка платформ для параметра title\n",
    "# при построении столбчатых диаграмм\n",
    "platform_title1 =[\n",
    "    'РАСПРЕДЕЛЕНИЕ ПРОДАЖ ПО \"PS2\"',\n",
    "    'РАСПРЕДЕЛЕНИЕ ПРОДАЖ ПО \"X360\"',\n",
    "    'РАСПРЕДЕЛЕНИЕ ПРОДАЖ ПО \"PS3\"',\n",
    "    'РАСПРЕДЕЛЕНИЕ ПРОДАЖ ПО \"Wii\"',\n",
    "    'РАСПРЕДЕЛЕНИЕ ПРОДАЖ ПО \"DS\"',\n",
    "    'РАСПРЕДЕЛЕНИЕ ПРОДАЖ ПО \"PS\"',\n",
    "    'РАСПРЕДЕЛЕНИЕ ПРОДАЖ ПО \"GBA\"',\n",
    "    'РАСПРЕДЕЛЕНИЕ ПРОДАЖ ПО \"PS4\"'\n",
    "]"
   ]
  },
  {
   "cell_type": "code",
   "execution_count": 448,
   "id": "e3207881",
   "metadata": {},
   "outputs": [],
   "source": [
    "# Формирование списка цветов столбчатых диаграмм\n",
    "color_list1 = [\n",
    "    'salmon',\n",
    "    'hotpink',\n",
    "    'plum',\n",
    "    'lightpink',\n",
    "    'khaki',\n",
    "    'bisque',\n",
    "    'palegoldenrod',\n",
    "    'gainsboro'\n",
    "]"
   ]
  },
  {
   "cell_type": "code",
   "execution_count": 449,
   "id": "3c2f8e0f",
   "metadata": {
    "scrolled": false
   },
   "outputs": [
    {
     "data": {
      "image/png": "[encoded data removed]",
      "text/plain": [
       "<Figure size 1152x288 with 1 Axes>"
      ]
     },
     "metadata": {
      "needs_background": "light"
     },
     "output_type": "display_data"
    },
    {
     "data": {
      "image/png": "[encoded data removed]",
      "text/plain": [
       "<Figure size 1152x288 with 1 Axes>"
      ]
     },
     "metadata": {
      "needs_background": "light"
     },
     "output_type": "display_data"
    },
    {
     "data": {
      "image/png": "[encoded data removed]",
      "text/plain": [
       "<Figure size 1152x288 with 1 Axes>"
      ]
     },
     "metadata": {
      "needs_background": "light"
     },
     "output_type": "display_data"
    },
    {
     "data": {
      "image/png": "[encoded data removed]",
      "text/plain": [
       "<Figure size 1152x288 with 1 Axes>"
      ]
     },
     "metadata": {
      "needs_background": "light"
     },
     "output_type": "display_data"
    },
    {
     "data": {
      "image/png": "[encoded data removed]",
      "text/plain": [
       "<Figure size 1152x288 with 1 Axes>"
      ]
     },
     "metadata": {
      "needs_background": "light"
     },
     "output_type": "display_data"
    },
    {
     "data": {
      "image/png": "[encoded data removed]",
      "text/plain": [
       "<Figure size 1152x288 with 1 Axes>"
      ]
     },
     "metadata": {
      "needs_background": "light"
     },
     "output_type": "display_data"
    },
    {
     "data": {
      "image/png": "[encoded data removed]",
      "text/plain": [
       "<Figure size 1152x288 with 1 Axes>"
      ]
     },
     "metadata": {
      "needs_background": "light"
     },
     "output_type": "display_data"
    },
    {
     "data": {
      "image/png": "[encoded data removed]",
      "text/plain": [
       "<Figure size 1152x288 with 1 Axes>"
      ]
     },
     "metadata": {
      "needs_background": "light"
     },
     "output_type": "display_data"
    }
   ],
   "source": [
    "# Цикл построения столбчатых диаграмм годовых\n",
    "# продаж по платформам из platform_list1\n",
    "for a in range(len(platform_list1)):\n",
    "    df.query('platform == @platform_list1[@a]').pivot_table(\n",
    "        index='year_of_release',\n",
    "        values='total_sales',\n",
    "        aggfunc='sum'\n",
    "    ).reset_index().plot(\n",
    "        x='year_of_release',\n",
    "        y='total_sales',\n",
    "        kind='bar',\n",
    "        title=platform_title1[a],\n",
    "        label='Продажи',\n",
    "        xlabel='НОМЕР ГОДА',\n",
    "        ylabel='КОЛИЧЕСТВО ПРОДАЖ',\n",
    "        figsize=(16, 4),\n",
    "        grid=True,\n",
    "        legend=True,\n",
    "        color=color_list1[a]\n",
    "    )\n",
    "    plt.show()"
   ]
  },
  {
   "cell_type": "markdown",
   "id": "50a8f905",
   "metadata": {},
   "source": [
    "<div class=\"alert alert-block alert-warning\"><span style=\"color:green\"><font size=\"3\" face=\"Arial\"><b>Промежуточные выводы 3.3:<b/></span>\n",
    "    \n",
    "<span style=\"color:steelblue\"><font size=\"3\" face=\"Courier\"><b>1. Ориентировочный срок жизни платформ с наибольшим количеством продаж составляет 10-12 лет.\\\n",
    "    2.1. Четыре платформы из восьми представлены различными поколения 'PS'.\\\n",
    "    2.2. Каждое новое поколение выпускалось на следующий год после года падения продаж.\\\n",
    "    2.3. Лидер продаж 'PS2' снижал продажи вплоть до 2010 года.\\\n",
    "    2.4. Последним поколением является 'PS4', выпущенная в 2013 году.\\\n",
    "    3. График продаж игр на платформах 'Wii' и 'DS' показывает резкий скачок популярности в начале выпуска с небольшим дальнейшим ростом в течение 2-3 лет.\\\n",
    "    4. Пик продаж игр на платформе 'X360' приходится на 2010 год.\\\n",
    "    5. На 2016 год продажи сохраняют платформы 'PS4', 'PS3' и 'X360'.</b></span></div>"
   ]
  },
  {
   "cell_type": "markdown",
   "id": "2dd95f9b",
   "metadata": {},
   "source": [
    "### Изучение данных актуального периода - с 2013 года"
   ]
  },
  {
   "cell_type": "code",
   "execution_count": 450,
   "id": "f3f552aa",
   "metadata": {},
   "outputs": [],
   "source": [
    "# Формирование датафрейма с выборкой после 2012 года\n",
    "df_from2013 = df[df['year_of_release'] > 2012].reset_index(drop=True)"
   ]
  },
  {
   "cell_type": "code",
   "execution_count": 451,
   "id": "6e0c70b5",
   "metadata": {},
   "outputs": [
    {
     "data": {
      "text/html": [
       "<div>\n",
       "<style scoped>\n",
       "    .dataframe tbody tr th:only-of-type {\n",
       "        vertical-align: middle;\n",
       "    }\n",
       "\n",
       "    .dataframe tbody tr th {\n",
       "        vertical-align: top;\n",
       "    }\n",
       "\n",
       "    .dataframe thead th {\n",
       "        text-align: right;\n",
       "    }\n",
       "</style>\n",
       "<table border=\"1\" class=\"dataframe\">\n",
       "  <thead>\n",
       "    <tr style=\"text-align: right;\">\n",
       "      <th></th>\n",
       "      <th>name</th>\n",
       "      <th>platform</th>\n",
       "      <th>year_of_release</th>\n",
       "      <th>genre</th>\n",
       "      <th>na_sales</th>\n",
       "      <th>eu_sales</th>\n",
       "      <th>jp_sales</th>\n",
       "      <th>other_sales</th>\n",
       "      <th>critic_score</th>\n",
       "      <th>user_score</th>\n",
       "      <th>rating</th>\n",
       "      <th>total_sales</th>\n",
       "    </tr>\n",
       "  </thead>\n",
       "  <tbody>\n",
       "    <tr>\n",
       "      <th>0</th>\n",
       "      <td>Grand Theft Auto V</td>\n",
       "      <td>PS3</td>\n",
       "      <td>2013</td>\n",
       "      <td>Action</td>\n",
       "      <td>7.02</td>\n",
       "      <td>9.09</td>\n",
       "      <td>0.98</td>\n",
       "      <td>3.96</td>\n",
       "      <td>97.0</td>\n",
       "      <td>8.2</td>\n",
       "      <td>M</td>\n",
       "      <td>21.05</td>\n",
       "    </tr>\n",
       "    <tr>\n",
       "      <th>1</th>\n",
       "      <td>Grand Theft Auto V</td>\n",
       "      <td>X360</td>\n",
       "      <td>2013</td>\n",
       "      <td>Action</td>\n",
       "      <td>9.66</td>\n",
       "      <td>5.14</td>\n",
       "      <td>0.06</td>\n",
       "      <td>1.41</td>\n",
       "      <td>97.0</td>\n",
       "      <td>8.1</td>\n",
       "      <td>M</td>\n",
       "      <td>16.27</td>\n",
       "    </tr>\n",
       "    <tr>\n",
       "      <th>2</th>\n",
       "      <td>Call of Duty: Black Ops 3</td>\n",
       "      <td>PS4</td>\n",
       "      <td>2015</td>\n",
       "      <td>Shooter</td>\n",
       "      <td>6.03</td>\n",
       "      <td>5.86</td>\n",
       "      <td>0.36</td>\n",
       "      <td>2.38</td>\n",
       "      <td>NaN</td>\n",
       "      <td>NaN</td>\n",
       "      <td>NaN</td>\n",
       "      <td>14.63</td>\n",
       "    </tr>\n",
       "    <tr>\n",
       "      <th>3</th>\n",
       "      <td>Pokemon X/Pokemon Y</td>\n",
       "      <td>3DS</td>\n",
       "      <td>2013</td>\n",
       "      <td>Role-Playing</td>\n",
       "      <td>5.28</td>\n",
       "      <td>4.19</td>\n",
       "      <td>4.35</td>\n",
       "      <td>0.78</td>\n",
       "      <td>NaN</td>\n",
       "      <td>NaN</td>\n",
       "      <td>NaN</td>\n",
       "      <td>14.60</td>\n",
       "    </tr>\n",
       "    <tr>\n",
       "      <th>4</th>\n",
       "      <td>Grand Theft Auto V</td>\n",
       "      <td>PS4</td>\n",
       "      <td>2014</td>\n",
       "      <td>Action</td>\n",
       "      <td>3.96</td>\n",
       "      <td>6.31</td>\n",
       "      <td>0.38</td>\n",
       "      <td>1.97</td>\n",
       "      <td>97.0</td>\n",
       "      <td>8.3</td>\n",
       "      <td>M</td>\n",
       "      <td>12.62</td>\n",
       "    </tr>\n",
       "    <tr>\n",
       "      <th>...</th>\n",
       "      <td>...</td>\n",
       "      <td>...</td>\n",
       "      <td>...</td>\n",
       "      <td>...</td>\n",
       "      <td>...</td>\n",
       "      <td>...</td>\n",
       "      <td>...</td>\n",
       "      <td>...</td>\n",
       "      <td>...</td>\n",
       "      <td>...</td>\n",
       "      <td>...</td>\n",
       "      <td>...</td>\n",
       "    </tr>\n",
       "    <tr>\n",
       "      <th>2232</th>\n",
       "      <td>Strawberry Nauts</td>\n",
       "      <td>PSV</td>\n",
       "      <td>2016</td>\n",
       "      <td>Adventure</td>\n",
       "      <td>0.00</td>\n",
       "      <td>0.00</td>\n",
       "      <td>0.01</td>\n",
       "      <td>0.00</td>\n",
       "      <td>NaN</td>\n",
       "      <td>NaN</td>\n",
       "      <td>NaN</td>\n",
       "      <td>0.01</td>\n",
       "    </tr>\n",
       "    <tr>\n",
       "      <th>2233</th>\n",
       "      <td>Aiyoku no Eustia</td>\n",
       "      <td>PSV</td>\n",
       "      <td>2014</td>\n",
       "      <td>Misc</td>\n",
       "      <td>0.00</td>\n",
       "      <td>0.00</td>\n",
       "      <td>0.01</td>\n",
       "      <td>0.00</td>\n",
       "      <td>NaN</td>\n",
       "      <td>NaN</td>\n",
       "      <td>NaN</td>\n",
       "      <td>0.01</td>\n",
       "    </tr>\n",
       "    <tr>\n",
       "      <th>2234</th>\n",
       "      <td>Samurai Warriors: Sanada Maru</td>\n",
       "      <td>PS3</td>\n",
       "      <td>2016</td>\n",
       "      <td>Action</td>\n",
       "      <td>0.00</td>\n",
       "      <td>0.00</td>\n",
       "      <td>0.01</td>\n",
       "      <td>0.00</td>\n",
       "      <td>NaN</td>\n",
       "      <td>NaN</td>\n",
       "      <td>NaN</td>\n",
       "      <td>0.01</td>\n",
       "    </tr>\n",
       "    <tr>\n",
       "      <th>2235</th>\n",
       "      <td>Haitaka no Psychedelica</td>\n",
       "      <td>PSV</td>\n",
       "      <td>2016</td>\n",
       "      <td>Adventure</td>\n",
       "      <td>0.00</td>\n",
       "      <td>0.00</td>\n",
       "      <td>0.01</td>\n",
       "      <td>0.00</td>\n",
       "      <td>NaN</td>\n",
       "      <td>NaN</td>\n",
       "      <td>NaN</td>\n",
       "      <td>0.01</td>\n",
       "    </tr>\n",
       "    <tr>\n",
       "      <th>2236</th>\n",
       "      <td>Winning Post 8 2016</td>\n",
       "      <td>PSV</td>\n",
       "      <td>2016</td>\n",
       "      <td>Simulation</td>\n",
       "      <td>0.00</td>\n",
       "      <td>0.00</td>\n",
       "      <td>0.01</td>\n",
       "      <td>0.00</td>\n",
       "      <td>NaN</td>\n",
       "      <td>NaN</td>\n",
       "      <td>NaN</td>\n",
       "      <td>0.01</td>\n",
       "    </tr>\n",
       "  </tbody>\n",
       "</table>\n",
       "<p>2237 rows × 12 columns</p>\n",
       "</div>"
      ],
      "text/plain": [
       "                               name platform  year_of_release         genre  \\\n",
       "0                Grand Theft Auto V      PS3             2013        Action   \n",
       "1                Grand Theft Auto V     X360             2013        Action   \n",
       "2         Call of Duty: Black Ops 3      PS4             2015       Shooter   \n",
       "3               Pokemon X/Pokemon Y      3DS             2013  Role-Playing   \n",
       "4                Grand Theft Auto V      PS4             2014        Action   \n",
       "...                             ...      ...              ...           ...   \n",
       "2232               Strawberry Nauts      PSV             2016     Adventure   \n",
       "2233               Aiyoku no Eustia      PSV             2014          Misc   \n",
       "2234  Samurai Warriors: Sanada Maru      PS3             2016        Action   \n",
       "2235        Haitaka no Psychedelica      PSV             2016     Adventure   \n",
       "2236            Winning Post 8 2016      PSV             2016    Simulation   \n",
       "\n",
       "      na_sales  eu_sales  jp_sales  other_sales  critic_score  user_score  \\\n",
       "0         7.02      9.09      0.98         3.96          97.0         8.2   \n",
       "1         9.66      5.14      0.06         1.41          97.0         8.1   \n",
       "2         6.03      5.86      0.36         2.38           NaN         NaN   \n",
       "3         5.28      4.19      4.35         0.78           NaN         NaN   \n",
       "4         3.96      6.31      0.38         1.97          97.0         8.3   \n",
       "...        ...       ...       ...          ...           ...         ...   \n",
       "2232      0.00      0.00      0.01         0.00           NaN         NaN   \n",
       "2233      0.00      0.00      0.01         0.00           NaN         NaN   \n",
       "2234      0.00      0.00      0.01         0.00           NaN         NaN   \n",
       "2235      0.00      0.00      0.01         0.00           NaN         NaN   \n",
       "2236      0.00      0.00      0.01         0.00           NaN         NaN   \n",
       "\n",
       "     rating  total_sales  \n",
       "0         M        21.05  \n",
       "1         M        16.27  \n",
       "2       NaN        14.63  \n",
       "3       NaN        14.60  \n",
       "4         M        12.62  \n",
       "...     ...          ...  \n",
       "2232    NaN         0.01  \n",
       "2233    NaN         0.01  \n",
       "2234    NaN         0.01  \n",
       "2235    NaN         0.01  \n",
       "2236    NaN         0.01  \n",
       "\n",
       "[2237 rows x 12 columns]"
      ]
     },
     "execution_count": 451,
     "metadata": {},
     "output_type": "execute_result"
    }
   ],
   "source": [
    "# Вывод датафрейма df_from2013\n",
    "df_from2013"
   ]
  },
  {
   "cell_type": "code",
   "execution_count": 452,
   "id": "892c8bd7",
   "metadata": {},
   "outputs": [
    {
     "data": {
      "image/png": "[encoded data removed]",
      "text/plain": [
       "<Figure size 1152x432 with 1 Axes>"
      ]
     },
     "metadata": {
      "needs_background": "light"
     },
     "output_type": "display_data"
    }
   ],
   "source": [
    "# Построение столбчатой диаграммы распределения\n",
    "# продаж по платформам с 2013 года\n",
    "df_from2013.pivot_table(\n",
    "    index='platform', \n",
    "    values='total_sales', \n",
    "    aggfunc='sum'\n",
    ").reset_index().plot(\n",
    "    x='platform',\n",
    "    y='total_sales',\n",
    "    kind='bar',\n",
    "    title='РАСПРЕДЕЛЕНИЕ ПРОДАЖ ПО ПЛАТФОРМАМ С 2013 ГОДА ПО 2016 ГОД',\n",
    "    label='Продажи',\n",
    "    xlabel='НАЗВАНИЕ ПЛАТФОРМЫ',\n",
    "    ylabel='КОЛИЧЕСТВО ПРОДАЖ',\n",
    "    figsize=(16, 6),\n",
    "    grid=True,\n",
    "    legend=True,\n",
    "    color='salmon'\n",
    ")\n",
    "plt.show()"
   ]
  },
  {
   "cell_type": "markdown",
   "id": "38f32c87",
   "metadata": {},
   "source": [
    "<div class=\"alert alert-block alert-warning\"><span style=\"color:green\"><font size=\"3\" face=\"Arial\"><b>Промежуточные выводы 3.4:<b/></span>\n",
    "    \n",
    "<span style=\"color:steelblue\"><font size=\"3\" face=\"Courier\"><b>1. Тенденции годовых продаж по платформам 'PS2', 'X360', 'PS3', 'Wii', 'DS', 'PS4' были рассмотрены выше.\\\n",
    "    2. Дополнительно необходимо изучить данные по платформам: '3DS', 'XOne', 'PC', 'WiiU', 'PSP', 'PSV'.</b></span></div>"
   ]
  },
  {
   "cell_type": "code",
   "execution_count": 453,
   "id": "aa99848d",
   "metadata": {},
   "outputs": [],
   "source": [
    "# Формирование дполнительного списка платформ platform_list2\n",
    "platform_list2 = [\n",
    "    '3DS', \n",
    "    'XOne', \n",
    "    'PC', \n",
    "    'WiiU', \n",
    "    'PSP', \n",
    "    'PSV'\n",
    "]"
   ]
  },
  {
   "cell_type": "code",
   "execution_count": 454,
   "id": "5927db2f",
   "metadata": {},
   "outputs": [],
   "source": [
    "# Формирование списка платформ для параметра title\n",
    "# при построении столбчатых диаграмм\n",
    "platform_title2 =[\n",
    "    'РАСПРЕДЕЛЕНИЕ ПРОДАЖ ПО \"3DS\"',\n",
    "    'РАСПРЕДЕЛЕНИЕ ПРОДАЖ ПО \"XOne\"',\n",
    "    'РАСПРЕДЕЛЕНИЕ ПРОДАЖ ПО \"PC\"',\n",
    "    'РАСПРЕДЕЛЕНИЕ ПРОДАЖ ПО \"WiiU\"',\n",
    "    'РАСПРЕДЕЛЕНИЕ ПРОДАЖ ПО \"PSP\"',\n",
    "    'РАСПРЕДЕЛЕНИЕ ПРОДАЖ ПО \"PSV\"'\n",
    "]"
   ]
  },
  {
   "cell_type": "code",
   "execution_count": 455,
   "id": "71ea3188",
   "metadata": {},
   "outputs": [],
   "source": [
    "# Формирование списка цветов столбчатых диаграмм\n",
    "color_list2 = [\n",
    "    'hotpink',\n",
    "    'plum',\n",
    "    'lightpink',\n",
    "    'khaki',\n",
    "    'bisque',\n",
    "    'lightblue'\n",
    "]"
   ]
  },
  {
   "cell_type": "code",
   "execution_count": 456,
   "id": "03f0a7ef",
   "metadata": {
    "scrolled": false
   },
   "outputs": [
    {
     "data": {
      "image/png": "[encoded data removed]",
      "text/plain": [
       "<Figure size 1152x288 with 1 Axes>"
      ]
     },
     "metadata": {
      "needs_background": "light"
     },
     "output_type": "display_data"
    },
    {
     "data": {
      "image/png": "[encoded data removed]",
      "text/plain": [
       "<Figure size 1152x288 with 1 Axes>"
      ]
     },
     "metadata": {
      "needs_background": "light"
     },
     "output_type": "display_data"
    },
    {
     "data": {
      "image/png": "[encoded data removed]",
      "text/plain": [
       "<Figure size 1152x288 with 1 Axes>"
      ]
     },
     "metadata": {
      "needs_background": "light"
     },
     "output_type": "display_data"
    },
    {
     "data": {
      "image/png": "[encoded data removed]",
      "text/plain": [
       "<Figure size 1152x288 with 1 Axes>"
      ]
     },
     "metadata": {
      "needs_background": "light"
     },
     "output_type": "display_data"
    },
    {
     "data": {
      "image/png": "[encoded data removed]",
      "text/plain": [
       "<Figure size 1152x288 with 1 Axes>"
      ]
     },
     "metadata": {
      "needs_background": "light"
     },
     "output_type": "display_data"
    },
    {
     "data": {
      "image/png": "[encoded data removed]",
      "text/plain": [
       "<Figure size 1152x288 with 1 Axes>"
      ]
     },
     "metadata": {
      "needs_background": "light"
     },
     "output_type": "display_data"
    }
   ],
   "source": [
    "# Цикл построения столбчатых диаграмм годовых\n",
    "# продаж по платформам из platform_list2\n",
    "for b in range(len(platform_list2)):\n",
    "    df_from2013.query('platform == @platform_list2[@b]').pivot_table(\n",
    "        index='year_of_release',\n",
    "        values='total_sales',\n",
    "        aggfunc='sum'\n",
    "    ).reset_index().plot(\n",
    "        x='year_of_release',\n",
    "        y='total_sales',\n",
    "        kind='bar',\n",
    "        title=platform_title2[b],\n",
    "        label='Продажи',\n",
    "        xlabel='НОМЕР ГОДА',\n",
    "        ylabel='КОЛИЧЕСТВО ПРОДАЖ',\n",
    "        figsize=(16, 4),\n",
    "        grid=True,\n",
    "        legend=True,\n",
    "        color=color_list2[b]\n",
    "    )\n",
    "    plt.show()"
   ]
  },
  {
   "cell_type": "code",
   "execution_count": 457,
   "id": "ecdba5cc",
   "metadata": {},
   "outputs": [],
   "source": [
    "# Формирование сводной таблицы продаж по платформам в 2016 году\n",
    "df2016 = df_from2013.query('year_of_release == 2016').pivot_table(\n",
    "    index='platform',\n",
    "    values='total_sales',\n",
    "    aggfunc='sum'\n",
    ").sort_values(\n",
    "    by='total_sales', \n",
    "    ascending=False\n",
    ").reset_index()"
   ]
  },
  {
   "cell_type": "code",
   "execution_count": 458,
   "id": "fa13c087",
   "metadata": {},
   "outputs": [
    {
     "data": {
      "text/html": [
       "<div>\n",
       "<style scoped>\n",
       "    .dataframe tbody tr th:only-of-type {\n",
       "        vertical-align: middle;\n",
       "    }\n",
       "\n",
       "    .dataframe tbody tr th {\n",
       "        vertical-align: top;\n",
       "    }\n",
       "\n",
       "    .dataframe thead th {\n",
       "        text-align: right;\n",
       "    }\n",
       "</style>\n",
       "<table border=\"1\" class=\"dataframe\">\n",
       "  <thead>\n",
       "    <tr style=\"text-align: right;\">\n",
       "      <th></th>\n",
       "      <th>platform</th>\n",
       "      <th>total_sales</th>\n",
       "    </tr>\n",
       "  </thead>\n",
       "  <tbody>\n",
       "    <tr>\n",
       "      <th>0</th>\n",
       "      <td>PS4</td>\n",
       "      <td>69.25</td>\n",
       "    </tr>\n",
       "    <tr>\n",
       "      <th>1</th>\n",
       "      <td>XOne</td>\n",
       "      <td>26.15</td>\n",
       "    </tr>\n",
       "    <tr>\n",
       "      <th>2</th>\n",
       "      <td>3DS</td>\n",
       "      <td>15.14</td>\n",
       "    </tr>\n",
       "    <tr>\n",
       "      <th>3</th>\n",
       "      <td>PC</td>\n",
       "      <td>5.25</td>\n",
       "    </tr>\n",
       "    <tr>\n",
       "      <th>4</th>\n",
       "      <td>WiiU</td>\n",
       "      <td>4.60</td>\n",
       "    </tr>\n",
       "    <tr>\n",
       "      <th>5</th>\n",
       "      <td>PSV</td>\n",
       "      <td>4.25</td>\n",
       "    </tr>\n",
       "    <tr>\n",
       "      <th>6</th>\n",
       "      <td>PS3</td>\n",
       "      <td>3.60</td>\n",
       "    </tr>\n",
       "    <tr>\n",
       "      <th>7</th>\n",
       "      <td>X360</td>\n",
       "      <td>1.52</td>\n",
       "    </tr>\n",
       "    <tr>\n",
       "      <th>8</th>\n",
       "      <td>Wii</td>\n",
       "      <td>0.18</td>\n",
       "    </tr>\n",
       "  </tbody>\n",
       "</table>\n",
       "</div>"
      ],
      "text/plain": [
       "  platform  total_sales\n",
       "0      PS4        69.25\n",
       "1     XOne        26.15\n",
       "2      3DS        15.14\n",
       "3       PC         5.25\n",
       "4     WiiU         4.60\n",
       "5      PSV         4.25\n",
       "6      PS3         3.60\n",
       "7     X360         1.52\n",
       "8      Wii         0.18"
      ]
     },
     "execution_count": 458,
     "metadata": {},
     "output_type": "execute_result"
    }
   ],
   "source": [
    "# Вывод датафрейма df2016\n",
    "df2016"
   ]
  },
  {
   "cell_type": "markdown",
   "id": "d25eb887",
   "metadata": {},
   "source": [
    "<div class=\"alert alert-block alert-warning\"><span style=\"color:green\"><font size=\"3\" face=\"Arial\"><b>Промежуточные выводы 3.5:<b/></span>\n",
    "    \n",
    "<span style=\"color:steelblue\"><font size=\"3\" face=\"Courier\"><b>1. Сохраняется тенденция снижения продаж к 2016 году.\\\n",
    "    2. На 2016 год:\\\n",
    "    - Лидером по продажам является платформа 'PS4'.\\\n",
    "    - Второе место занимает платформа 'XOne'.\\\n",
    "    - На третьем месте платформа '3DS'.\\\n",
    "    - Примерно одинаковое количество продаж у платформ 'WiiU', 'PC', 'PSV'.\\\n",
    "    - Платформа 'PSP' окончательно угасла в 2014-2015 годах. Её можно исключить из анализа актуальных платформ.\\\n",
    "    3. Для дальнейшего анализа оставляю платформы, которые лидируют по продажам в 2016 году: 'PS4', 'XOne', '3DS', 'WiiU', 'PC', 'PSV'.</b></span></div>"
   ]
  },
  {
   "cell_type": "markdown",
   "id": "202c12dd",
   "metadata": {},
   "source": [
    "### Изучение выбросов в данных"
   ]
  },
  {
   "cell_type": "code",
   "execution_count": 459,
   "id": "8a440031",
   "metadata": {},
   "outputs": [],
   "source": [
    "# Формирование списка актуальных платформ actual_list\n",
    "actual_list = list(df2016.loc[:5, 'platform'])"
   ]
  },
  {
   "cell_type": "code",
   "execution_count": 460,
   "id": "661b4807",
   "metadata": {},
   "outputs": [
    {
     "data": {
      "text/plain": [
       "['PS4', 'XOne', '3DS', 'PC', 'WiiU', 'PSV']"
      ]
     },
     "execution_count": 460,
     "metadata": {},
     "output_type": "execute_result"
    }
   ],
   "source": [
    "# Вывод списка actual_list\n",
    "actual_list"
   ]
  },
  {
   "cell_type": "code",
   "execution_count": 461,
   "id": "f5bb05dc",
   "metadata": {},
   "outputs": [],
   "source": [
    "# Формирование датафрейма с сохраняющими\n",
    "# продажи платформами df_actual\n",
    "df_actual = df_from2013[df_from2013['platform'].isin(actual_list)].reset_index(drop=True)"
   ]
  },
  {
   "cell_type": "code",
   "execution_count": 462,
   "id": "993dbb40",
   "metadata": {
    "scrolled": false
   },
   "outputs": [
    {
     "data": {
      "text/html": [
       "<div>\n",
       "<style scoped>\n",
       "    .dataframe tbody tr th:only-of-type {\n",
       "        vertical-align: middle;\n",
       "    }\n",
       "\n",
       "    .dataframe tbody tr th {\n",
       "        vertical-align: top;\n",
       "    }\n",
       "\n",
       "    .dataframe thead th {\n",
       "        text-align: right;\n",
       "    }\n",
       "</style>\n",
       "<table border=\"1\" class=\"dataframe\">\n",
       "  <thead>\n",
       "    <tr style=\"text-align: right;\">\n",
       "      <th></th>\n",
       "      <th>name</th>\n",
       "      <th>platform</th>\n",
       "      <th>year_of_release</th>\n",
       "      <th>genre</th>\n",
       "      <th>na_sales</th>\n",
       "      <th>eu_sales</th>\n",
       "      <th>jp_sales</th>\n",
       "      <th>other_sales</th>\n",
       "      <th>critic_score</th>\n",
       "      <th>user_score</th>\n",
       "      <th>rating</th>\n",
       "      <th>total_sales</th>\n",
       "    </tr>\n",
       "  </thead>\n",
       "  <tbody>\n",
       "    <tr>\n",
       "      <th>0</th>\n",
       "      <td>Call of Duty: Black Ops 3</td>\n",
       "      <td>PS4</td>\n",
       "      <td>2015</td>\n",
       "      <td>Shooter</td>\n",
       "      <td>6.03</td>\n",
       "      <td>5.86</td>\n",
       "      <td>0.36</td>\n",
       "      <td>2.38</td>\n",
       "      <td>NaN</td>\n",
       "      <td>NaN</td>\n",
       "      <td>NaN</td>\n",
       "      <td>14.63</td>\n",
       "    </tr>\n",
       "    <tr>\n",
       "      <th>1</th>\n",
       "      <td>Pokemon X/Pokemon Y</td>\n",
       "      <td>3DS</td>\n",
       "      <td>2013</td>\n",
       "      <td>Role-Playing</td>\n",
       "      <td>5.28</td>\n",
       "      <td>4.19</td>\n",
       "      <td>4.35</td>\n",
       "      <td>0.78</td>\n",
       "      <td>NaN</td>\n",
       "      <td>NaN</td>\n",
       "      <td>NaN</td>\n",
       "      <td>14.60</td>\n",
       "    </tr>\n",
       "    <tr>\n",
       "      <th>2</th>\n",
       "      <td>Grand Theft Auto V</td>\n",
       "      <td>PS4</td>\n",
       "      <td>2014</td>\n",
       "      <td>Action</td>\n",
       "      <td>3.96</td>\n",
       "      <td>6.31</td>\n",
       "      <td>0.38</td>\n",
       "      <td>1.97</td>\n",
       "      <td>97.0</td>\n",
       "      <td>8.3</td>\n",
       "      <td>M</td>\n",
       "      <td>12.62</td>\n",
       "    </tr>\n",
       "    <tr>\n",
       "      <th>3</th>\n",
       "      <td>Pokemon Omega Ruby/Pokemon Alpha Sapphire</td>\n",
       "      <td>3DS</td>\n",
       "      <td>2014</td>\n",
       "      <td>Role-Playing</td>\n",
       "      <td>4.35</td>\n",
       "      <td>3.49</td>\n",
       "      <td>3.10</td>\n",
       "      <td>0.74</td>\n",
       "      <td>NaN</td>\n",
       "      <td>NaN</td>\n",
       "      <td>NaN</td>\n",
       "      <td>11.68</td>\n",
       "    </tr>\n",
       "    <tr>\n",
       "      <th>4</th>\n",
       "      <td>FIFA 16</td>\n",
       "      <td>PS4</td>\n",
       "      <td>2015</td>\n",
       "      <td>Sports</td>\n",
       "      <td>1.12</td>\n",
       "      <td>6.12</td>\n",
       "      <td>0.06</td>\n",
       "      <td>1.28</td>\n",
       "      <td>82.0</td>\n",
       "      <td>4.3</td>\n",
       "      <td>E</td>\n",
       "      <td>8.58</td>\n",
       "    </tr>\n",
       "    <tr>\n",
       "      <th>...</th>\n",
       "      <td>...</td>\n",
       "      <td>...</td>\n",
       "      <td>...</td>\n",
       "      <td>...</td>\n",
       "      <td>...</td>\n",
       "      <td>...</td>\n",
       "      <td>...</td>\n",
       "      <td>...</td>\n",
       "      <td>...</td>\n",
       "      <td>...</td>\n",
       "      <td>...</td>\n",
       "      <td>...</td>\n",
       "    </tr>\n",
       "    <tr>\n",
       "      <th>1602</th>\n",
       "      <td>The Longest 5 Minutes</td>\n",
       "      <td>PSV</td>\n",
       "      <td>2016</td>\n",
       "      <td>Action</td>\n",
       "      <td>0.00</td>\n",
       "      <td>0.00</td>\n",
       "      <td>0.01</td>\n",
       "      <td>0.00</td>\n",
       "      <td>NaN</td>\n",
       "      <td>NaN</td>\n",
       "      <td>NaN</td>\n",
       "      <td>0.01</td>\n",
       "    </tr>\n",
       "    <tr>\n",
       "      <th>1603</th>\n",
       "      <td>Strawberry Nauts</td>\n",
       "      <td>PSV</td>\n",
       "      <td>2016</td>\n",
       "      <td>Adventure</td>\n",
       "      <td>0.00</td>\n",
       "      <td>0.00</td>\n",
       "      <td>0.01</td>\n",
       "      <td>0.00</td>\n",
       "      <td>NaN</td>\n",
       "      <td>NaN</td>\n",
       "      <td>NaN</td>\n",
       "      <td>0.01</td>\n",
       "    </tr>\n",
       "    <tr>\n",
       "      <th>1604</th>\n",
       "      <td>Aiyoku no Eustia</td>\n",
       "      <td>PSV</td>\n",
       "      <td>2014</td>\n",
       "      <td>Misc</td>\n",
       "      <td>0.00</td>\n",
       "      <td>0.00</td>\n",
       "      <td>0.01</td>\n",
       "      <td>0.00</td>\n",
       "      <td>NaN</td>\n",
       "      <td>NaN</td>\n",
       "      <td>NaN</td>\n",
       "      <td>0.01</td>\n",
       "    </tr>\n",
       "    <tr>\n",
       "      <th>1605</th>\n",
       "      <td>Haitaka no Psychedelica</td>\n",
       "      <td>PSV</td>\n",
       "      <td>2016</td>\n",
       "      <td>Adventure</td>\n",
       "      <td>0.00</td>\n",
       "      <td>0.00</td>\n",
       "      <td>0.01</td>\n",
       "      <td>0.00</td>\n",
       "      <td>NaN</td>\n",
       "      <td>NaN</td>\n",
       "      <td>NaN</td>\n",
       "      <td>0.01</td>\n",
       "    </tr>\n",
       "    <tr>\n",
       "      <th>1606</th>\n",
       "      <td>Winning Post 8 2016</td>\n",
       "      <td>PSV</td>\n",
       "      <td>2016</td>\n",
       "      <td>Simulation</td>\n",
       "      <td>0.00</td>\n",
       "      <td>0.00</td>\n",
       "      <td>0.01</td>\n",
       "      <td>0.00</td>\n",
       "      <td>NaN</td>\n",
       "      <td>NaN</td>\n",
       "      <td>NaN</td>\n",
       "      <td>0.01</td>\n",
       "    </tr>\n",
       "  </tbody>\n",
       "</table>\n",
       "<p>1607 rows × 12 columns</p>\n",
       "</div>"
      ],
      "text/plain": [
       "                                           name platform  year_of_release  \\\n",
       "0                     Call of Duty: Black Ops 3      PS4             2015   \n",
       "1                           Pokemon X/Pokemon Y      3DS             2013   \n",
       "2                            Grand Theft Auto V      PS4             2014   \n",
       "3     Pokemon Omega Ruby/Pokemon Alpha Sapphire      3DS             2014   \n",
       "4                                       FIFA 16      PS4             2015   \n",
       "...                                         ...      ...              ...   \n",
       "1602                      The Longest 5 Minutes      PSV             2016   \n",
       "1603                           Strawberry Nauts      PSV             2016   \n",
       "1604                           Aiyoku no Eustia      PSV             2014   \n",
       "1605                    Haitaka no Psychedelica      PSV             2016   \n",
       "1606                        Winning Post 8 2016      PSV             2016   \n",
       "\n",
       "             genre  na_sales  eu_sales  jp_sales  other_sales  critic_score  \\\n",
       "0          Shooter      6.03      5.86      0.36         2.38           NaN   \n",
       "1     Role-Playing      5.28      4.19      4.35         0.78           NaN   \n",
       "2           Action      3.96      6.31      0.38         1.97          97.0   \n",
       "3     Role-Playing      4.35      3.49      3.10         0.74           NaN   \n",
       "4           Sports      1.12      6.12      0.06         1.28          82.0   \n",
       "...            ...       ...       ...       ...          ...           ...   \n",
       "1602        Action      0.00      0.00      0.01         0.00           NaN   \n",
       "1603     Adventure      0.00      0.00      0.01         0.00           NaN   \n",
       "1604          Misc      0.00      0.00      0.01         0.00           NaN   \n",
       "1605     Adventure      0.00      0.00      0.01         0.00           NaN   \n",
       "1606    Simulation      0.00      0.00      0.01         0.00           NaN   \n",
       "\n",
       "      user_score rating  total_sales  \n",
       "0            NaN    NaN        14.63  \n",
       "1            NaN    NaN        14.60  \n",
       "2            8.3      M        12.62  \n",
       "3            NaN    NaN        11.68  \n",
       "4            4.3      E         8.58  \n",
       "...          ...    ...          ...  \n",
       "1602         NaN    NaN         0.01  \n",
       "1603         NaN    NaN         0.01  \n",
       "1604         NaN    NaN         0.01  \n",
       "1605         NaN    NaN         0.01  \n",
       "1606         NaN    NaN         0.01  \n",
       "\n",
       "[1607 rows x 12 columns]"
      ]
     },
     "execution_count": 462,
     "metadata": {},
     "output_type": "execute_result"
    }
   ],
   "source": [
    "# Вывод датафрейма df_actual\n",
    "df_actual"
   ]
  },
  {
   "cell_type": "code",
   "execution_count": 463,
   "id": "8b4c03ea",
   "metadata": {},
   "outputs": [],
   "source": [
    "# Формирование сводной таблицы продаж по платформам\n",
    "df_actual_pivot = df_actual.pivot_table(\n",
    "    index='platform',\n",
    "    values='total_sales',\n",
    "    aggfunc='sum'\n",
    ").sort_values(\n",
    "    by='total_sales',\n",
    "    ascending=False\n",
    ").reset_index()"
   ]
  },
  {
   "cell_type": "code",
   "execution_count": 464,
   "id": "c9dd3412",
   "metadata": {},
   "outputs": [
    {
     "data": {
      "text/html": [
       "<div>\n",
       "<style scoped>\n",
       "    .dataframe tbody tr th:only-of-type {\n",
       "        vertical-align: middle;\n",
       "    }\n",
       "\n",
       "    .dataframe tbody tr th {\n",
       "        vertical-align: top;\n",
       "    }\n",
       "\n",
       "    .dataframe thead th {\n",
       "        text-align: right;\n",
       "    }\n",
       "</style>\n",
       "<table border=\"1\" class=\"dataframe\">\n",
       "  <thead>\n",
       "    <tr style=\"text-align: right;\">\n",
       "      <th></th>\n",
       "      <th>platform</th>\n",
       "      <th>total_sales</th>\n",
       "    </tr>\n",
       "  </thead>\n",
       "  <tbody>\n",
       "    <tr>\n",
       "      <th>0</th>\n",
       "      <td>PS4</td>\n",
       "      <td>314.14</td>\n",
       "    </tr>\n",
       "    <tr>\n",
       "      <th>1</th>\n",
       "      <td>XOne</td>\n",
       "      <td>159.32</td>\n",
       "    </tr>\n",
       "    <tr>\n",
       "      <th>2</th>\n",
       "      <td>3DS</td>\n",
       "      <td>143.25</td>\n",
       "    </tr>\n",
       "    <tr>\n",
       "      <th>3</th>\n",
       "      <td>WiiU</td>\n",
       "      <td>64.63</td>\n",
       "    </tr>\n",
       "    <tr>\n",
       "      <th>4</th>\n",
       "      <td>PC</td>\n",
       "      <td>40.06</td>\n",
       "    </tr>\n",
       "    <tr>\n",
       "      <th>5</th>\n",
       "      <td>PSV</td>\n",
       "      <td>32.99</td>\n",
       "    </tr>\n",
       "  </tbody>\n",
       "</table>\n",
       "</div>"
      ],
      "text/plain": [
       "  platform  total_sales\n",
       "0      PS4       314.14\n",
       "1     XOne       159.32\n",
       "2      3DS       143.25\n",
       "3     WiiU        64.63\n",
       "4       PC        40.06\n",
       "5      PSV        32.99"
      ]
     },
     "execution_count": 464,
     "metadata": {},
     "output_type": "execute_result"
    }
   ],
   "source": [
    "# Вывод сводной таблицы df_actual_pivot\n",
    "df_actual_pivot"
   ]
  },
  {
   "cell_type": "code",
   "execution_count": 465,
   "id": "fe71010e",
   "metadata": {
    "scrolled": false
   },
   "outputs": [
    {
     "data": {
      "image/png": "[encoded data removed]",
      "text/plain": [
       "<Figure size 1080x576 with 1 Axes>"
      ]
     },
     "metadata": {
      "needs_background": "light"
     },
     "output_type": "display_data"
    }
   ],
   "source": [
    "# Построение диаграмм размаха\n",
    "plt.figure(figsize=(15, 8))\n",
    "sns.boxplot(\n",
    "        data=df_actual,\n",
    "        x='platform',\n",
    "        y='total_sales'\n",
    "    )\n",
    "plt.title('ДИАГРАММА РАЗМАХА КОЛИЧЕСТВА ПРОДАЖ ИГР ПО ПЛАТФОРМАМ')\n",
    "plt.xlabel('НАЗВАНИЕ ПЛАТФОРМЫ')\n",
    "plt.ylabel('КОЛИЧЕСТВО ПРОДАЖ ИГР')\n",
    "plt.grid(visible=True)\n",
    "plt.ylim()\n",
    "plt.show()"
   ]
  },
  {
   "cell_type": "markdown",
   "id": "f43ffccb",
   "metadata": {},
   "source": [
    "<div class=\"alert alert-block alert-warning\"><span style=\"color:green\"><font size=\"3\" face=\"Arial\"><b>Промежуточные выводы 3.6:<b/></span>\n",
    "    \n",
    "<span style=\"color:steelblue\"><font size=\"3\" face=\"Courier\"><b>1. Внутри ящика с 'усами' находятся нормальные значения продаж каждой игры, встречающиеся чаще всего. За 'усами' находятся выбросы - в нашем случае это культовые и успешные игры с большим количеством продаж.\\\n",
    "    2. Расположение медианных значений отличается, но у всех платформ они смещены в сторону нуля. Это говорит о наличии больших значений, выбивающихся из выборки, и влияющих на среднее значение в сторону его увеличения.\\\n",
    "    Возможно это связано с популярностью той или иной платформы, с популярностью разных игр, влияющими на общее количество продаж в определённые годы.\\\n",
    "    3. Часть выбросов необходимо отбросить, чтобы исключить их влияние на искажение результата анализа.\\\n",
    "    Часть выбросов, которые приближены к 'усам' и адекватны, оставлю.\\\n",
    "    Потеря данных не должна составлять более 10%.</b></span></div>"
   ]
  },
  {
   "cell_type": "code",
   "execution_count": 466,
   "id": "447a9af7",
   "metadata": {},
   "outputs": [],
   "source": [
    "# Фильтрация датафрейма df_actual от выбросов\n",
    "df_actual_filtered = df_actual[\n",
    "    ((df_actual['platform'] == 'PS4') & (df_actual['total_sales'] < 3)) |\n",
    "    ((df_actual['platform'] == '3DS') & (df_actual['total_sales'] < 1.9)) |\n",
    "    ((df_actual['platform'] == 'XOne') & (df_actual['total_sales'] < 2)) |\n",
    "    ((df_actual['platform'] == 'WiiU') & (df_actual['total_sales'] < 1.3)) |\n",
    "    ((df_actual['platform'] == 'PC') & (df_actual['total_sales'] < 1)) |\n",
    "    ((df_actual['platform'] == 'PSV') & (df_actual['total_sales'] < .7))\n",
    "].reset_index(drop=True)"
   ]
  },
  {
   "cell_type": "code",
   "execution_count": 467,
   "id": "39c4eb93",
   "metadata": {
    "scrolled": false
   },
   "outputs": [
    {
     "data": {
      "text/html": [
       "<div>\n",
       "<style scoped>\n",
       "    .dataframe tbody tr th:only-of-type {\n",
       "        vertical-align: middle;\n",
       "    }\n",
       "\n",
       "    .dataframe tbody tr th {\n",
       "        vertical-align: top;\n",
       "    }\n",
       "\n",
       "    .dataframe thead th {\n",
       "        text-align: right;\n",
       "    }\n",
       "</style>\n",
       "<table border=\"1\" class=\"dataframe\">\n",
       "  <thead>\n",
       "    <tr style=\"text-align: right;\">\n",
       "      <th></th>\n",
       "      <th>name</th>\n",
       "      <th>platform</th>\n",
       "      <th>year_of_release</th>\n",
       "      <th>genre</th>\n",
       "      <th>na_sales</th>\n",
       "      <th>eu_sales</th>\n",
       "      <th>jp_sales</th>\n",
       "      <th>other_sales</th>\n",
       "      <th>critic_score</th>\n",
       "      <th>user_score</th>\n",
       "      <th>rating</th>\n",
       "      <th>total_sales</th>\n",
       "    </tr>\n",
       "  </thead>\n",
       "  <tbody>\n",
       "    <tr>\n",
       "      <th>0</th>\n",
       "      <td>Middle-Earth: Shadow of Mordor</td>\n",
       "      <td>PS4</td>\n",
       "      <td>2014</td>\n",
       "      <td>Action</td>\n",
       "      <td>1.01</td>\n",
       "      <td>1.43</td>\n",
       "      <td>0.05</td>\n",
       "      <td>0.47</td>\n",
       "      <td>84.0</td>\n",
       "      <td>8.1</td>\n",
       "      <td>M</td>\n",
       "      <td>2.96</td>\n",
       "    </tr>\n",
       "    <tr>\n",
       "      <th>1</th>\n",
       "      <td>Assassin's Creed IV: Black Flag</td>\n",
       "      <td>PS4</td>\n",
       "      <td>2013</td>\n",
       "      <td>Action</td>\n",
       "      <td>1.07</td>\n",
       "      <td>1.31</td>\n",
       "      <td>0.06</td>\n",
       "      <td>0.42</td>\n",
       "      <td>83.0</td>\n",
       "      <td>7.8</td>\n",
       "      <td>M</td>\n",
       "      <td>2.86</td>\n",
       "    </tr>\n",
       "    <tr>\n",
       "      <th>2</th>\n",
       "      <td>inFAMOUS: Second Son</td>\n",
       "      <td>PS4</td>\n",
       "      <td>2014</td>\n",
       "      <td>Action</td>\n",
       "      <td>1.28</td>\n",
       "      <td>0.98</td>\n",
       "      <td>0.07</td>\n",
       "      <td>0.46</td>\n",
       "      <td>80.0</td>\n",
       "      <td>7.9</td>\n",
       "      <td>T</td>\n",
       "      <td>2.79</td>\n",
       "    </tr>\n",
       "    <tr>\n",
       "      <th>3</th>\n",
       "      <td>Mortal Kombat X</td>\n",
       "      <td>PS4</td>\n",
       "      <td>2015</td>\n",
       "      <td>Fighting</td>\n",
       "      <td>1.50</td>\n",
       "      <td>0.80</td>\n",
       "      <td>0.00</td>\n",
       "      <td>0.48</td>\n",
       "      <td>83.0</td>\n",
       "      <td>7.7</td>\n",
       "      <td>M</td>\n",
       "      <td>2.78</td>\n",
       "    </tr>\n",
       "    <tr>\n",
       "      <th>4</th>\n",
       "      <td>Killzone: Shadow Fall</td>\n",
       "      <td>PS4</td>\n",
       "      <td>2013</td>\n",
       "      <td>Shooter</td>\n",
       "      <td>0.89</td>\n",
       "      <td>1.33</td>\n",
       "      <td>0.08</td>\n",
       "      <td>0.39</td>\n",
       "      <td>73.0</td>\n",
       "      <td>6.8</td>\n",
       "      <td>M</td>\n",
       "      <td>2.69</td>\n",
       "    </tr>\n",
       "    <tr>\n",
       "      <th>...</th>\n",
       "      <td>...</td>\n",
       "      <td>...</td>\n",
       "      <td>...</td>\n",
       "      <td>...</td>\n",
       "      <td>...</td>\n",
       "      <td>...</td>\n",
       "      <td>...</td>\n",
       "      <td>...</td>\n",
       "      <td>...</td>\n",
       "      <td>...</td>\n",
       "      <td>...</td>\n",
       "      <td>...</td>\n",
       "    </tr>\n",
       "    <tr>\n",
       "      <th>1510</th>\n",
       "      <td>The Longest 5 Minutes</td>\n",
       "      <td>PSV</td>\n",
       "      <td>2016</td>\n",
       "      <td>Action</td>\n",
       "      <td>0.00</td>\n",
       "      <td>0.00</td>\n",
       "      <td>0.01</td>\n",
       "      <td>0.00</td>\n",
       "      <td>NaN</td>\n",
       "      <td>NaN</td>\n",
       "      <td>NaN</td>\n",
       "      <td>0.01</td>\n",
       "    </tr>\n",
       "    <tr>\n",
       "      <th>1511</th>\n",
       "      <td>Strawberry Nauts</td>\n",
       "      <td>PSV</td>\n",
       "      <td>2016</td>\n",
       "      <td>Adventure</td>\n",
       "      <td>0.00</td>\n",
       "      <td>0.00</td>\n",
       "      <td>0.01</td>\n",
       "      <td>0.00</td>\n",
       "      <td>NaN</td>\n",
       "      <td>NaN</td>\n",
       "      <td>NaN</td>\n",
       "      <td>0.01</td>\n",
       "    </tr>\n",
       "    <tr>\n",
       "      <th>1512</th>\n",
       "      <td>Aiyoku no Eustia</td>\n",
       "      <td>PSV</td>\n",
       "      <td>2014</td>\n",
       "      <td>Misc</td>\n",
       "      <td>0.00</td>\n",
       "      <td>0.00</td>\n",
       "      <td>0.01</td>\n",
       "      <td>0.00</td>\n",
       "      <td>NaN</td>\n",
       "      <td>NaN</td>\n",
       "      <td>NaN</td>\n",
       "      <td>0.01</td>\n",
       "    </tr>\n",
       "    <tr>\n",
       "      <th>1513</th>\n",
       "      <td>Haitaka no Psychedelica</td>\n",
       "      <td>PSV</td>\n",
       "      <td>2016</td>\n",
       "      <td>Adventure</td>\n",
       "      <td>0.00</td>\n",
       "      <td>0.00</td>\n",
       "      <td>0.01</td>\n",
       "      <td>0.00</td>\n",
       "      <td>NaN</td>\n",
       "      <td>NaN</td>\n",
       "      <td>NaN</td>\n",
       "      <td>0.01</td>\n",
       "    </tr>\n",
       "    <tr>\n",
       "      <th>1514</th>\n",
       "      <td>Winning Post 8 2016</td>\n",
       "      <td>PSV</td>\n",
       "      <td>2016</td>\n",
       "      <td>Simulation</td>\n",
       "      <td>0.00</td>\n",
       "      <td>0.00</td>\n",
       "      <td>0.01</td>\n",
       "      <td>0.00</td>\n",
       "      <td>NaN</td>\n",
       "      <td>NaN</td>\n",
       "      <td>NaN</td>\n",
       "      <td>0.01</td>\n",
       "    </tr>\n",
       "  </tbody>\n",
       "</table>\n",
       "<p>1515 rows × 12 columns</p>\n",
       "</div>"
      ],
      "text/plain": [
       "                                 name platform  year_of_release       genre  \\\n",
       "0      Middle-Earth: Shadow of Mordor      PS4             2014      Action   \n",
       "1     Assassin's Creed IV: Black Flag      PS4             2013      Action   \n",
       "2                inFAMOUS: Second Son      PS4             2014      Action   \n",
       "3                     Mortal Kombat X      PS4             2015    Fighting   \n",
       "4               Killzone: Shadow Fall      PS4             2013     Shooter   \n",
       "...                               ...      ...              ...         ...   \n",
       "1510            The Longest 5 Minutes      PSV             2016      Action   \n",
       "1511                 Strawberry Nauts      PSV             2016   Adventure   \n",
       "1512                 Aiyoku no Eustia      PSV             2014        Misc   \n",
       "1513          Haitaka no Psychedelica      PSV             2016   Adventure   \n",
       "1514              Winning Post 8 2016      PSV             2016  Simulation   \n",
       "\n",
       "      na_sales  eu_sales  jp_sales  other_sales  critic_score  user_score  \\\n",
       "0         1.01      1.43      0.05         0.47          84.0         8.1   \n",
       "1         1.07      1.31      0.06         0.42          83.0         7.8   \n",
       "2         1.28      0.98      0.07         0.46          80.0         7.9   \n",
       "3         1.50      0.80      0.00         0.48          83.0         7.7   \n",
       "4         0.89      1.33      0.08         0.39          73.0         6.8   \n",
       "...        ...       ...       ...          ...           ...         ...   \n",
       "1510      0.00      0.00      0.01         0.00           NaN         NaN   \n",
       "1511      0.00      0.00      0.01         0.00           NaN         NaN   \n",
       "1512      0.00      0.00      0.01         0.00           NaN         NaN   \n",
       "1513      0.00      0.00      0.01         0.00           NaN         NaN   \n",
       "1514      0.00      0.00      0.01         0.00           NaN         NaN   \n",
       "\n",
       "     rating  total_sales  \n",
       "0         M         2.96  \n",
       "1         M         2.86  \n",
       "2         T         2.79  \n",
       "3         M         2.78  \n",
       "4         M         2.69  \n",
       "...     ...          ...  \n",
       "1510    NaN         0.01  \n",
       "1511    NaN         0.01  \n",
       "1512    NaN         0.01  \n",
       "1513    NaN         0.01  \n",
       "1514    NaN         0.01  \n",
       "\n",
       "[1515 rows x 12 columns]"
      ]
     },
     "execution_count": 467,
     "metadata": {},
     "output_type": "execute_result"
    }
   ],
   "source": [
    "# Вывод отфильтрованного датафрейма df_actual\n",
    "df_actual_filtered"
   ]
  },
  {
   "cell_type": "code",
   "execution_count": 468,
   "id": "dd6a40f8",
   "metadata": {},
   "outputs": [
    {
     "data": {
      "image/png": "[encoded data removed]",
      "text/plain": [
       "<Figure size 1080x576 with 1 Axes>"
      ]
     },
     "metadata": {
      "needs_background": "light"
     },
     "output_type": "display_data"
    }
   ],
   "source": [
    "# Построение диаграмм размаха с ограничением\n",
    "# размера по оси 'y'\n",
    "plt.figure(figsize=(15, 8))\n",
    "sns.boxplot(\n",
    "        data=df_actual_filtered,\n",
    "        x='platform',\n",
    "        y='total_sales'\n",
    "    )\n",
    "plt.title('ДИАГРАММА РАЗМАХА КОЛИЧЕСТВА ПРОДАЖ ИГР ПО ПЛАТФОРМАМ')\n",
    "plt.xlabel('НАЗВАНИЕ ПЛАТФОРМЫ')\n",
    "plt.ylabel('КОЛИЧЕСТВО ПРОДАЖ ИГР')\n",
    "plt.grid(visible=True)\n",
    "plt.ylim(0, 2)\n",
    "plt.show()"
   ]
  },
  {
   "cell_type": "markdown",
   "id": "c7089012",
   "metadata": {},
   "source": [
    "<div class=\"alert alert-block alert-warning\"><span style=\"color:green\"><font size=\"3\" face=\"Arial\"><b>Промежуточные выводы 3.7:<b/></span>\n",
    "    \n",
    "<span style=\"color:steelblue\"><font size=\"3\" face=\"Courier\"><b>1. Данные отфильтрованы от выбивающихся выбросов.\\\n",
    "    Потеря данных не превысила 6% с исходных 1607 до 1515 строк.\\\n",
    "    2. У платформ 'PS4' и 'XOne' примерно одинаковые ящики с 'усами', что говорит о схожести распределения нормальных значений количества продаж игр.</b></span></div>"
   ]
  },
  {
   "cell_type": "markdown",
   "id": "9c0e018b",
   "metadata": {},
   "source": [
    "### Изучение влияния отзывов критиков и пользователей на продажи"
   ]
  },
  {
   "cell_type": "markdown",
   "id": "fefbc6e4",
   "metadata": {},
   "source": [
    "**Для изучения принимаю актуальную платформу с самым большим количеством продаж - 'PS4'.**"
   ]
  },
  {
   "cell_type": "code",
   "execution_count": 469,
   "id": "ef0aed85",
   "metadata": {},
   "outputs": [],
   "source": [
    "# Формирование датафрейма с платформой 'PS4'\n",
    "df_ps4 = df_actual_filtered[df_actual_filtered['platform'] == 'PS4']"
   ]
  },
  {
   "cell_type": "code",
   "execution_count": 470,
   "id": "39e38fff",
   "metadata": {},
   "outputs": [],
   "source": [
    "# Формирование списка колонок для параметра 'x'\n",
    "x_list1 = [\n",
    "    'critic_score',\n",
    "    'user_score'\n",
    "]"
   ]
  },
  {
   "cell_type": "code",
   "execution_count": 471,
   "id": "7f38eff6",
   "metadata": {},
   "outputs": [],
   "source": [
    "# Формирование списка для заполнения параметра 'title'\n",
    "title_list3 = [\n",
    "    'ДИАГРАММА РАССЕЯНИЯ ПО \"PS4\", КРИТИКИ',\n",
    "    'ДИАГРАММА РАССЕЯНИЯ ПО \"PS4\", ПОЛЬЗОВАТЕЛИ'\n",
    "]"
   ]
  },
  {
   "cell_type": "code",
   "execution_count": 472,
   "id": "cdd32bdd",
   "metadata": {},
   "outputs": [],
   "source": [
    "# Формирование списка для заполнения параметра 'xlabel'\n",
    "xlabel_list3 = [\n",
    "    'ОЦЕНКА КРИТИКОВ',\n",
    "    'ОЦЕНКА ПОЛЬЗОВАТЕЛЕЙ'\n",
    "]"
   ]
  },
  {
   "cell_type": "code",
   "execution_count": 473,
   "id": "81fcf8db",
   "metadata": {},
   "outputs": [],
   "source": [
    "# Формирование списка цветов для заполнения параметра 'color'\n",
    "color_list3 = [\n",
    "    'lightcoral',\n",
    "    'orange'\n",
    "]"
   ]
  },
  {
   "cell_type": "code",
   "execution_count": 474,
   "id": "9b5b7166",
   "metadata": {},
   "outputs": [
    {
     "data": {
      "image/png": "[encoded data removed]",
      "text/plain": [
       "<Figure size 1152x360 with 1 Axes>"
      ]
     },
     "metadata": {
      "needs_background": "light"
     },
     "output_type": "display_data"
    },
    {
     "data": {
      "image/png": "[encoded data removed]",
      "text/plain": [
       "<Figure size 1152x360 with 1 Axes>"
      ]
     },
     "metadata": {
      "needs_background": "light"
     },
     "output_type": "display_data"
    }
   ],
   "source": [
    "# Построение диаграммы рассеяния для оценок критиков\n",
    "# и пользователей\n",
    "for c in range(len(x_list1)):\n",
    "    df_ps4.plot(\n",
    "        x=x_list1[c],\n",
    "        y='total_sales',\n",
    "        kind='scatter',\n",
    "        title=title_list3[c],\n",
    "        label='Продажи',\n",
    "        xlabel=xlabel_list3[c],\n",
    "        ylabel='КОЛИЧЕСТВО ПРОДАЖ',\n",
    "        figsize=(16, 5),\n",
    "        grid=True,\n",
    "        legend=True,\n",
    "        color=color_list3[c]\n",
    "    )\n",
    "    plt.show()"
   ]
  },
  {
   "cell_type": "code",
   "execution_count": 475,
   "id": "6f03bdc2",
   "metadata": {},
   "outputs": [
    {
     "data": {
      "text/html": [
       "<div>\n",
       "<style scoped>\n",
       "    .dataframe tbody tr th:only-of-type {\n",
       "        vertical-align: middle;\n",
       "    }\n",
       "\n",
       "    .dataframe tbody tr th {\n",
       "        vertical-align: top;\n",
       "    }\n",
       "\n",
       "    .dataframe thead th {\n",
       "        text-align: right;\n",
       "    }\n",
       "</style>\n",
       "<table border=\"1\" class=\"dataframe\">\n",
       "  <thead>\n",
       "    <tr style=\"text-align: right;\">\n",
       "      <th></th>\n",
       "      <th>year_of_release</th>\n",
       "      <th>na_sales</th>\n",
       "      <th>eu_sales</th>\n",
       "      <th>jp_sales</th>\n",
       "      <th>other_sales</th>\n",
       "      <th>critic_score</th>\n",
       "      <th>user_score</th>\n",
       "      <th>total_sales</th>\n",
       "    </tr>\n",
       "  </thead>\n",
       "  <tbody>\n",
       "    <tr>\n",
       "      <th>year_of_release</th>\n",
       "      <td>1.000000</td>\n",
       "      <td>-0.322387</td>\n",
       "      <td>-0.307431</td>\n",
       "      <td>-0.009171</td>\n",
       "      <td>-0.331926</td>\n",
       "      <td>0.017204</td>\n",
       "      <td>0.145678</td>\n",
       "      <td>-0.331664</td>\n",
       "    </tr>\n",
       "    <tr>\n",
       "      <th>na_sales</th>\n",
       "      <td>-0.322387</td>\n",
       "      <td>1.000000</td>\n",
       "      <td>0.720318</td>\n",
       "      <td>0.152436</td>\n",
       "      <td>0.943358</td>\n",
       "      <td>0.347652</td>\n",
       "      <td>0.005699</td>\n",
       "      <td>0.918466</td>\n",
       "    </tr>\n",
       "    <tr>\n",
       "      <th>eu_sales</th>\n",
       "      <td>-0.307431</td>\n",
       "      <td>0.720318</td>\n",
       "      <td>1.000000</td>\n",
       "      <td>0.199790</td>\n",
       "      <td>0.907433</td>\n",
       "      <td>0.284101</td>\n",
       "      <td>0.047926</td>\n",
       "      <td>0.928729</td>\n",
       "    </tr>\n",
       "    <tr>\n",
       "      <th>jp_sales</th>\n",
       "      <td>-0.009171</td>\n",
       "      <td>0.152436</td>\n",
       "      <td>0.199790</td>\n",
       "      <td>1.000000</td>\n",
       "      <td>0.187130</td>\n",
       "      <td>0.179837</td>\n",
       "      <td>0.173951</td>\n",
       "      <td>0.277837</td>\n",
       "    </tr>\n",
       "    <tr>\n",
       "      <th>other_sales</th>\n",
       "      <td>-0.331926</td>\n",
       "      <td>0.943358</td>\n",
       "      <td>0.907433</td>\n",
       "      <td>0.187130</td>\n",
       "      <td>1.000000</td>\n",
       "      <td>0.350101</td>\n",
       "      <td>0.027750</td>\n",
       "      <td>0.993389</td>\n",
       "    </tr>\n",
       "    <tr>\n",
       "      <th>critic_score</th>\n",
       "      <td>0.017204</td>\n",
       "      <td>0.347652</td>\n",
       "      <td>0.284101</td>\n",
       "      <td>0.179837</td>\n",
       "      <td>0.350101</td>\n",
       "      <td>1.000000</td>\n",
       "      <td>0.607881</td>\n",
       "      <td>0.346796</td>\n",
       "    </tr>\n",
       "    <tr>\n",
       "      <th>user_score</th>\n",
       "      <td>0.145678</td>\n",
       "      <td>0.005699</td>\n",
       "      <td>0.047926</td>\n",
       "      <td>0.173951</td>\n",
       "      <td>0.027750</td>\n",
       "      <td>0.607881</td>\n",
       "      <td>1.000000</td>\n",
       "      <td>0.041048</td>\n",
       "    </tr>\n",
       "    <tr>\n",
       "      <th>total_sales</th>\n",
       "      <td>-0.331664</td>\n",
       "      <td>0.918466</td>\n",
       "      <td>0.928729</td>\n",
       "      <td>0.277837</td>\n",
       "      <td>0.993389</td>\n",
       "      <td>0.346796</td>\n",
       "      <td>0.041048</td>\n",
       "      <td>1.000000</td>\n",
       "    </tr>\n",
       "  </tbody>\n",
       "</table>\n",
       "</div>"
      ],
      "text/plain": [
       "                 year_of_release  na_sales  eu_sales  jp_sales  other_sales  \\\n",
       "year_of_release         1.000000 -0.322387 -0.307431 -0.009171    -0.331926   \n",
       "na_sales               -0.322387  1.000000  0.720318  0.152436     0.943358   \n",
       "eu_sales               -0.307431  0.720318  1.000000  0.199790     0.907433   \n",
       "jp_sales               -0.009171  0.152436  0.199790  1.000000     0.187130   \n",
       "other_sales            -0.331926  0.943358  0.907433  0.187130     1.000000   \n",
       "critic_score            0.017204  0.347652  0.284101  0.179837     0.350101   \n",
       "user_score              0.145678  0.005699  0.047926  0.173951     0.027750   \n",
       "total_sales            -0.331664  0.918466  0.928729  0.277837     0.993389   \n",
       "\n",
       "                 critic_score  user_score  total_sales  \n",
       "year_of_release      0.017204    0.145678    -0.331664  \n",
       "na_sales             0.347652    0.005699     0.918466  \n",
       "eu_sales             0.284101    0.047926     0.928729  \n",
       "jp_sales             0.179837    0.173951     0.277837  \n",
       "other_sales          0.350101    0.027750     0.993389  \n",
       "critic_score         1.000000    0.607881     0.346796  \n",
       "user_score           0.607881    1.000000     0.041048  \n",
       "total_sales          0.346796    0.041048     1.000000  "
      ]
     },
     "execution_count": 475,
     "metadata": {},
     "output_type": "execute_result"
    }
   ],
   "source": [
    "# Вывод матрицы коэффициентов корреляции по df_ps4\n",
    "df_ps4.corr()"
   ]
  },
  {
   "cell_type": "markdown",
   "id": "752631bb",
   "metadata": {},
   "source": [
    "<div class=\"alert alert-block alert-warning\"><span style=\"color:green\"><font size=\"3\" face=\"Arial\"><b>Промежуточные выводы 3.8:<b/></span>\n",
    "    \n",
    "<span style=\"color:steelblue\"><font size=\"3\" face=\"Courier\"><b>1. Зависимость продаж от оценки критиков существует, но ниже среднего.\\\n",
    "    2. Оценка пользователей почти никак не влияет на количество продаж, так как коэффициент корреляции близок к нулевому значению.\\\n",
    "    3. Также существует зависимость ниже среднего между ростом продаж и годом продаж. Коэффициент корреляции имеет отрицательное значение, что говорит об обратной зависимости - число продаж растёт с уменьшением года. Это подтверждает статистику падения продаж в направлении будущего.\\\n",
    "    4.1. Выявлена сильная зависимость между продажами в Северной Америке и в других регионах - чем больше продажи в Америке, тем больше продажи в других регионах.\\\n",
    "    4.2. Зависимость продаж между Северной Америкой и Европой также существует, но выше среднего.\\\n",
    "    4.3. Особняком стоят продажи в Японии - зависимость весьма слабая почти по всем показателям. Японцы - специфичные ребята.\\\n",
    "    5. Зависимость оценок критиков и пользователей чуть выше среднего. Мнения различаются.</b></span></div>"
   ]
  },
  {
   "cell_type": "code",
   "execution_count": 476,
   "id": "cd1cbba1",
   "metadata": {},
   "outputs": [],
   "source": [
    "# Декомпозиция датафрейма df_actual_filtered\n",
    "df_filtered_decomp = df_actual_filtered.loc[:, ['platform', 'critic_score', 'user_score', 'total_sales']]"
   ]
  },
  {
   "cell_type": "code",
   "execution_count": 477,
   "id": "008b2f27",
   "metadata": {},
   "outputs": [],
   "source": [
    "# Формирование сводной таблицы коэффициентов корреляции corr_pivot\n",
    "corr_pivot = df_filtered_decomp.pivot_table(\n",
    "    index='platform',\n",
    "    aggfunc='corr',\n",
    "    sort=False\n",
    ")"
   ]
  },
  {
   "cell_type": "code",
   "execution_count": 478,
   "id": "793c79d8",
   "metadata": {},
   "outputs": [
    {
     "data": {
      "text/html": [
       "<div>\n",
       "<style scoped>\n",
       "    .dataframe tbody tr th:only-of-type {\n",
       "        vertical-align: middle;\n",
       "    }\n",
       "\n",
       "    .dataframe tbody tr th {\n",
       "        vertical-align: top;\n",
       "    }\n",
       "\n",
       "    .dataframe thead th {\n",
       "        text-align: right;\n",
       "    }\n",
       "</style>\n",
       "<table border=\"1\" class=\"dataframe\">\n",
       "  <thead>\n",
       "    <tr style=\"text-align: right;\">\n",
       "      <th></th>\n",
       "      <th></th>\n",
       "      <th>critic_score</th>\n",
       "      <th>total_sales</th>\n",
       "      <th>user_score</th>\n",
       "    </tr>\n",
       "    <tr>\n",
       "      <th>platform</th>\n",
       "      <th></th>\n",
       "      <th></th>\n",
       "      <th></th>\n",
       "      <th></th>\n",
       "    </tr>\n",
       "  </thead>\n",
       "  <tbody>\n",
       "    <tr>\n",
       "      <th rowspan=\"3\" valign=\"top\">3DS</th>\n",
       "      <th>critic_score</th>\n",
       "      <td>1.000000</td>\n",
       "      <td>0.261859</td>\n",
       "      <td>0.741580</td>\n",
       "    </tr>\n",
       "    <tr>\n",
       "      <th>user_score</th>\n",
       "      <td>0.741580</td>\n",
       "      <td>0.122047</td>\n",
       "      <td>1.000000</td>\n",
       "    </tr>\n",
       "    <tr>\n",
       "      <th>total_sales</th>\n",
       "      <td>0.261859</td>\n",
       "      <td>1.000000</td>\n",
       "      <td>0.122047</td>\n",
       "    </tr>\n",
       "    <tr>\n",
       "      <th rowspan=\"3\" valign=\"top\">PC</th>\n",
       "      <th>critic_score</th>\n",
       "      <td>1.000000</td>\n",
       "      <td>0.323537</td>\n",
       "      <td>0.419590</td>\n",
       "    </tr>\n",
       "    <tr>\n",
       "      <th>user_score</th>\n",
       "      <td>0.419590</td>\n",
       "      <td>0.005603</td>\n",
       "      <td>1.000000</td>\n",
       "    </tr>\n",
       "    <tr>\n",
       "      <th>total_sales</th>\n",
       "      <td>0.323537</td>\n",
       "      <td>1.000000</td>\n",
       "      <td>0.005603</td>\n",
       "    </tr>\n",
       "    <tr>\n",
       "      <th rowspan=\"3\" valign=\"top\">PS4</th>\n",
       "      <th>critic_score</th>\n",
       "      <td>1.000000</td>\n",
       "      <td>0.346796</td>\n",
       "      <td>0.607881</td>\n",
       "    </tr>\n",
       "    <tr>\n",
       "      <th>user_score</th>\n",
       "      <td>0.607881</td>\n",
       "      <td>0.041048</td>\n",
       "      <td>1.000000</td>\n",
       "    </tr>\n",
       "    <tr>\n",
       "      <th>total_sales</th>\n",
       "      <td>0.346796</td>\n",
       "      <td>1.000000</td>\n",
       "      <td>0.041048</td>\n",
       "    </tr>\n",
       "    <tr>\n",
       "      <th rowspan=\"3\" valign=\"top\">PSV</th>\n",
       "      <th>critic_score</th>\n",
       "      <td>1.000000</td>\n",
       "      <td>0.183471</td>\n",
       "      <td>0.601509</td>\n",
       "    </tr>\n",
       "    <tr>\n",
       "      <th>user_score</th>\n",
       "      <td>0.601509</td>\n",
       "      <td>-0.079959</td>\n",
       "      <td>1.000000</td>\n",
       "    </tr>\n",
       "    <tr>\n",
       "      <th>total_sales</th>\n",
       "      <td>0.183471</td>\n",
       "      <td>1.000000</td>\n",
       "      <td>-0.079959</td>\n",
       "    </tr>\n",
       "    <tr>\n",
       "      <th rowspan=\"3\" valign=\"top\">WiiU</th>\n",
       "      <th>critic_score</th>\n",
       "      <td>1.000000</td>\n",
       "      <td>0.436034</td>\n",
       "      <td>0.685743</td>\n",
       "    </tr>\n",
       "    <tr>\n",
       "      <th>user_score</th>\n",
       "      <td>0.685743</td>\n",
       "      <td>0.437567</td>\n",
       "      <td>1.000000</td>\n",
       "    </tr>\n",
       "    <tr>\n",
       "      <th>total_sales</th>\n",
       "      <td>0.436034</td>\n",
       "      <td>1.000000</td>\n",
       "      <td>0.437567</td>\n",
       "    </tr>\n",
       "    <tr>\n",
       "      <th rowspan=\"3\" valign=\"top\">XOne</th>\n",
       "      <th>critic_score</th>\n",
       "      <td>1.000000</td>\n",
       "      <td>0.433697</td>\n",
       "      <td>0.546168</td>\n",
       "    </tr>\n",
       "    <tr>\n",
       "      <th>user_score</th>\n",
       "      <td>0.546168</td>\n",
       "      <td>0.079890</td>\n",
       "      <td>1.000000</td>\n",
       "    </tr>\n",
       "    <tr>\n",
       "      <th>total_sales</th>\n",
       "      <td>0.433697</td>\n",
       "      <td>1.000000</td>\n",
       "      <td>0.079890</td>\n",
       "    </tr>\n",
       "  </tbody>\n",
       "</table>\n",
       "</div>"
      ],
      "text/plain": [
       "                       critic_score  total_sales  user_score\n",
       "platform                                                    \n",
       "3DS      critic_score      1.000000     0.261859    0.741580\n",
       "         user_score        0.741580     0.122047    1.000000\n",
       "         total_sales       0.261859     1.000000    0.122047\n",
       "PC       critic_score      1.000000     0.323537    0.419590\n",
       "         user_score        0.419590     0.005603    1.000000\n",
       "         total_sales       0.323537     1.000000    0.005603\n",
       "PS4      critic_score      1.000000     0.346796    0.607881\n",
       "         user_score        0.607881     0.041048    1.000000\n",
       "         total_sales       0.346796     1.000000    0.041048\n",
       "PSV      critic_score      1.000000     0.183471    0.601509\n",
       "         user_score        0.601509    -0.079959    1.000000\n",
       "         total_sales       0.183471     1.000000   -0.079959\n",
       "WiiU     critic_score      1.000000     0.436034    0.685743\n",
       "         user_score        0.685743     0.437567    1.000000\n",
       "         total_sales       0.436034     1.000000    0.437567\n",
       "XOne     critic_score      1.000000     0.433697    0.546168\n",
       "         user_score        0.546168     0.079890    1.000000\n",
       "         total_sales       0.433697     1.000000    0.079890"
      ]
     },
     "execution_count": 478,
     "metadata": {},
     "output_type": "execute_result"
    }
   ],
   "source": [
    "# Вывод датафрейма с матрицами коэффициентов\n",
    "# корреляции corr_pivot\n",
    "corr_pivot"
   ]
  },
  {
   "cell_type": "markdown",
   "id": "220edd3a",
   "metadata": {},
   "source": [
    "<div class=\"alert alert-block alert-warning\"><span style=\"color:green\"><font size=\"3\" face=\"Arial\"><b>Промежуточные выводы 3.9:<b/></span>\n",
    "    \n",
    "<span style=\"color:steelblue\"><font size=\"3\" face=\"Courier\"><b>1. На большинстве платформ зависимость продаж от оценки критиков ниже среднего.\\\n",
    "    Только на платформе 'PSV' зависимость весьма слабая.\\\n",
    "    2. На большинстве платформ оценка пользователей почти никак не влияет на количество продаж, так как коэффициент корреляции близок к нулевому значению.\\\n",
    "    Исключение составляет платформа 'WiiU' с зависимостью близкой к средней. Зависимость оценки пользователей сопоставима с зависимостью оценки критиков.\n",
    "   </b></span></div>"
   ]
  },
  {
   "cell_type": "markdown",
   "id": "87a4a6e4",
   "metadata": {},
   "source": [
    "### Изучение жанров игр"
   ]
  },
  {
   "cell_type": "code",
   "execution_count": 479,
   "id": "0d4d95be",
   "metadata": {},
   "outputs": [],
   "source": [
    "df_genre = df_actual_filtered.pivot_table(\n",
    "    index='genre',\n",
    "    values='total_sales',\n",
    "    aggfunc='sum'\n",
    ").sort_values(\n",
    "    by='total_sales',\n",
    "    ascending=False\n",
    ")"
   ]
  },
  {
   "cell_type": "code",
   "execution_count": 480,
   "id": "2026cfcf",
   "metadata": {},
   "outputs": [
    {
     "data": {
      "text/html": [
       "<div>\n",
       "<style scoped>\n",
       "    .dataframe tbody tr th:only-of-type {\n",
       "        vertical-align: middle;\n",
       "    }\n",
       "\n",
       "    .dataframe tbody tr th {\n",
       "        vertical-align: top;\n",
       "    }\n",
       "\n",
       "    .dataframe thead th {\n",
       "        text-align: right;\n",
       "    }\n",
       "</style>\n",
       "<table border=\"1\" class=\"dataframe\">\n",
       "  <thead>\n",
       "    <tr style=\"text-align: right;\">\n",
       "      <th></th>\n",
       "      <th>total_sales</th>\n",
       "    </tr>\n",
       "    <tr>\n",
       "      <th>genre</th>\n",
       "      <th></th>\n",
       "    </tr>\n",
       "  </thead>\n",
       "  <tbody>\n",
       "    <tr>\n",
       "      <th>Action</th>\n",
       "      <td>129.25</td>\n",
       "    </tr>\n",
       "    <tr>\n",
       "      <th>Role-Playing</th>\n",
       "      <td>55.64</td>\n",
       "    </tr>\n",
       "    <tr>\n",
       "      <th>Shooter</th>\n",
       "      <td>48.61</td>\n",
       "    </tr>\n",
       "    <tr>\n",
       "      <th>Sports</th>\n",
       "      <td>45.45</td>\n",
       "    </tr>\n",
       "    <tr>\n",
       "      <th>Racing</th>\n",
       "      <td>21.07</td>\n",
       "    </tr>\n",
       "    <tr>\n",
       "      <th>Misc</th>\n",
       "      <td>20.37</td>\n",
       "    </tr>\n",
       "    <tr>\n",
       "      <th>Platform</th>\n",
       "      <td>19.73</td>\n",
       "    </tr>\n",
       "    <tr>\n",
       "      <th>Adventure</th>\n",
       "      <td>16.48</td>\n",
       "    </tr>\n",
       "    <tr>\n",
       "      <th>Fighting</th>\n",
       "      <td>14.27</td>\n",
       "    </tr>\n",
       "    <tr>\n",
       "      <th>Strategy</th>\n",
       "      <td>7.24</td>\n",
       "    </tr>\n",
       "    <tr>\n",
       "      <th>Simulation</th>\n",
       "      <td>5.88</td>\n",
       "    </tr>\n",
       "    <tr>\n",
       "      <th>Puzzle</th>\n",
       "      <td>3.13</td>\n",
       "    </tr>\n",
       "  </tbody>\n",
       "</table>\n",
       "</div>"
      ],
      "text/plain": [
       "              total_sales\n",
       "genre                    \n",
       "Action             129.25\n",
       "Role-Playing        55.64\n",
       "Shooter             48.61\n",
       "Sports              45.45\n",
       "Racing              21.07\n",
       "Misc                20.37\n",
       "Platform            19.73\n",
       "Adventure           16.48\n",
       "Fighting            14.27\n",
       "Strategy             7.24\n",
       "Simulation           5.88\n",
       "Puzzle               3.13"
      ]
     },
     "execution_count": 480,
     "metadata": {},
     "output_type": "execute_result"
    }
   ],
   "source": [
    "# Вывод датафрейма df_genre\n",
    "df_genre"
   ]
  },
  {
   "cell_type": "code",
   "execution_count": 481,
   "id": "43001eec",
   "metadata": {},
   "outputs": [
    {
     "data": {
      "image/png": "[encoded data removed]",
      "text/plain": [
       "<Figure size 432x288 with 1 Axes>"
      ]
     },
     "metadata": {},
     "output_type": "display_data"
    }
   ],
   "source": [
    "# Построение круговой диаграммы распределения продаж по жанрам\n",
    "df_genre.plot(\n",
    "    kind='pie',\n",
    "    title='ПРОДАЖИ ИГР',\n",
    "    ylabel='',\n",
    "    radius=2.5,\n",
    "    textprops={'fontsize': 14},\n",
    "    rotatelabels=False,\n",
    "    subplots=True,\n",
    "    shadow=True,\n",
    "    legend=True\n",
    ")\n",
    "plt.show()"
   ]
  },
  {
   "cell_type": "markdown",
   "id": "dbd2c249",
   "metadata": {},
   "source": [
    "<div class=\"alert alert-block alert-warning\"><span style=\"color:green\"><font size=\"3\" face=\"Arial\"><b>Промежуточные выводы 3.10:<b/></span>\n",
    "    \n",
    "<span style=\"color:steelblue\"><font size=\"3\" face=\"Courier\"><b>1. Наибольшее количество продаж приходится на жанр экшен 'Action'.\\\n",
    "    Объём продаж примерно сопоставим с суммарным объёмом ролевых 'Role-Playing', стрелялок 'Shooter' и спортивных 'Sports' игр, которые занимают второе, третье и четвёртое места соответственно.\\\n",
    "    2. Наименьшее количество продаж приходится на пазлы 'Puzzle', стратегии 'Strategy' и симуляторы 'Simulation'.</b></span></div>"
   ]
  },
  {
   "cell_type": "markdown",
   "id": "42db6f93",
   "metadata": {},
   "source": [
    "### Вывод"
   ]
  },
  {
   "cell_type": "markdown",
   "id": "000a3633",
   "metadata": {},
   "source": [
    "<div class=\"alert alert-block alert-warning\">\n",
    "    \n",
    "<span style=\"color:steelblue\"><font size=\"3\" face=\"Courier\"><b>1. Рост количества игр начинается с 1994 года, достигая пикового значения в 2008 году.\\\n",
    "    После 2008 года наблюдается спад. Возможно это связано с активным развитием различных онлайн-платформ и облачных сервисов.\\\n",
    "    2. Актуальным периодом продаж является период с 2013 года включительно.\\\n",
    "    3. Среди платформ с наибольшим количеством продаж выделяются PS2, X360, PS3, Wii, DS, PS.\\\n",
    "    4. Ориентировочный срок жизни популярной платформы составляет 10-12 лет.\\\n",
    "    5.1. Сохраняется тенденция снижения продаж к 2016 году.\\\n",
    "    5.2. На 2016 год:\\\n",
    "    - Лидером по продажам является платформа 'PS4'.\\\n",
    "    - Второе место занимает платформа 'XOne'.\\\n",
    "    - На третьем месте платформа '3DS'.\\\n",
    "    - Примерно одинаковое количество продаж у платформ 'WiiU', 'PC', 'PSV'.\\\n",
    "    6. Культовые и успешные игры с большим количеством продаж располагаются в зоне выбросов.\\\n",
    "    7.1. На большинстве платформ зависимость продаж от оценки критиков ниже среднего.\\\n",
    "    Только на платформе 'PSV' зависимость весьма слабая.\\\n",
    "    7.2. На большинстве платформ оценка пользователей почти никак не влияет на количество продаж, так как коэффициент корреляции близок к нулевому значению.\\\n",
    "    Исключение составляет платформа 'WiiU' с зависимостью близкой к средней. Зависимость оценки пользователей сопоставима с зависимостью оценки критиков.\\\n",
    "    7.3. Особняком стоят продажи в Японии - зависимость весьма слабая почти по всем показателям. Японцы - специфичные ребята.\\\n",
    "    7.4. Корреляция оценок критиков и пользователей чуть выше среднего. Мнения различаются.\\\n",
    "    8.1. Наибольшее количество продаж приходится на жанр экшен 'Action'.\\\n",
    "    Объём продаж примерно сопоставим с суммарным объёмом ролевых 'Role-Playing', стрелялок 'Shooter' и спортивных 'Sports' игр, которые занимают второе, третье и четвёртое места соответственно.\\\n",
    "    8.2. Наименьшее количество продаж приходится на пазлы 'Puzzle', стратегии 'Strategy' и симуляторы 'Simulation'.</b></span></div>"
   ]
  },
  {
   "cell_type": "markdown",
   "id": "c98c278d",
   "metadata": {},
   "source": [
    "## Составление портрета пользователя каждого региона - NA, EU, JP"
   ]
  },
  {
   "cell_type": "markdown",
   "id": "636b2d01",
   "metadata": {},
   "source": [
    "### Рейтинг платформ"
   ]
  },
  {
   "cell_type": "code",
   "execution_count": 482,
   "id": "7ddae1e8",
   "metadata": {},
   "outputs": [],
   "source": [
    "# Формирование списка колонок регионов region_list\n",
    "region_list = [\n",
    "    'na_sales',\n",
    "    'eu_sales',\n",
    "    'jp_sales'\n",
    "]"
   ]
  },
  {
   "cell_type": "code",
   "execution_count": 483,
   "id": "8020e9de",
   "metadata": {},
   "outputs": [],
   "source": [
    "# Формирование списка аббревиатур регионов abr_list1\n",
    "abr_list1 = [\n",
    "    'РЕЙТИНГ ИГРОВЫХ ПЛАТФОРМ В \"NA\" - СЕВЕРНОЙ АМЕРИКЕ',\n",
    "    'РЕЙТИНГ ИГРОВЫХ ПЛАТФОРМ В \"EU\" - ЕВРОПЕ',\n",
    "    'РЕЙТИНГ ИГРОВЫХ ПЛАТФОРМ В \"JP\" - ЯПОНИИ'\n",
    "]"
   ]
  },
  {
   "cell_type": "code",
   "execution_count": 484,
   "id": "dd564c36",
   "metadata": {},
   "outputs": [],
   "source": [
    "# Формирование списка цветов столбчатых диаграмм\n",
    "color_list3 = [\n",
    "    'tan',\n",
    "    'royalblue',\n",
    "    'orchid'\n",
    "]"
   ]
  },
  {
   "cell_type": "code",
   "execution_count": 485,
   "id": "183012eb",
   "metadata": {
    "scrolled": false
   },
   "outputs": [
    {
     "data": {
      "image/png": "[encoded data removed]",
      "text/plain": [
       "<Figure size 1152x288 with 1 Axes>"
      ]
     },
     "metadata": {
      "needs_background": "light"
     },
     "output_type": "display_data"
    },
    {
     "data": {
      "image/png": "[encoded data removed]",
      "text/plain": [
       "<Figure size 1152x288 with 1 Axes>"
      ]
     },
     "metadata": {
      "needs_background": "light"
     },
     "output_type": "display_data"
    },
    {
     "data": {
      "image/png": "[encoded data removed]",
      "text/plain": [
       "<Figure size 1152x288 with 1 Axes>"
      ]
     },
     "metadata": {
      "needs_background": "light"
     },
     "output_type": "display_data"
    }
   ],
   "source": [
    "# Формирование столбчатых диаграмм c рейтингом платформ\n",
    "for d in range(len(region_list)):\n",
    "    df_actual_filtered.pivot_table(\n",
    "        index='platform',\n",
    "        values=region_list[d],\n",
    "        aggfunc='sum'\n",
    "    ).sort_values(\n",
    "        by=region_list[d],\n",
    "        ascending=False\n",
    "    ).reset_index()[:5].plot(\n",
    "        x='platform',\n",
    "        y=region_list[d],\n",
    "        kind='bar',\n",
    "        title=abr_list1[d],\n",
    "        label='Продажи',\n",
    "        xlabel='НАЗВАНИЕ ПЛАТФОРМЫ',\n",
    "        ylabel='КОЛИЧЕСТВО ПРОДАЖ',\n",
    "        figsize=(16, 4),\n",
    "        grid=True,\n",
    "        legend=True,\n",
    "        color=color_list3[d]\n",
    "    )\n",
    "    plt.show()"
   ]
  },
  {
   "cell_type": "markdown",
   "id": "5a84b604",
   "metadata": {},
   "source": [
    "<div class=\"alert alert-block alert-warning\"><span style=\"color:green\"><font size=\"3\" face=\"Arial\"><b>Промежуточные выводы 4.1:<b/></span>\n",
    "    \n",
    "<span style=\"color:steelblue\"><font size=\"3\" face=\"Courier\"><b>1. В Северной Америке и Европе наибольшей популярностью пользуется платформа 'PS4' от транснациональной компании Sony. А вот второе место в Америке и Европе занимает 'XOne'.\\\n",
    "    2. В Японии первое место занимает платформа '3DS' от японского производителя Nintendo. Судя по платформе 'PSV', занимающей второе место, японцы любят играть на портативных устройствах.\\\n",
    "    3. Предпочтения пользователей скорее всего связаны с особенностями быта и сложившимися предпочтениями.</b></span></div>"
   ]
  },
  {
   "cell_type": "markdown",
   "id": "d0a7efc9",
   "metadata": {},
   "source": [
    "### Рейтинг игровых жанров"
   ]
  },
  {
   "cell_type": "code",
   "execution_count": 486,
   "id": "c7a8e0b3",
   "metadata": {},
   "outputs": [],
   "source": [
    "# Формирование списка аббревиатур регионов abr_list2\n",
    "abr_list2 = [\n",
    "    'РЕЙТИНГ ИГРОВЫХ ЖАНРОВ В \"NA\" - СЕВЕРНОЙ АМЕРИКЕ',\n",
    "    'РЕЙТИНГ ИГРОВЫХ ЖАНРОВ В \"EU\" - ЕВРОПЕ',\n",
    "    'РЕЙТИНГ ИГРОВЫХ ЖАНРОВ В \"JP\" - ЯПОНИИ'\n",
    "]"
   ]
  },
  {
   "cell_type": "code",
   "execution_count": 487,
   "id": "ed85d69f",
   "metadata": {},
   "outputs": [
    {
     "data": {
      "image/png": "[encoded data removed]",
      "text/plain": [
       "<Figure size 1152x288 with 1 Axes>"
      ]
     },
     "metadata": {
      "needs_background": "light"
     },
     "output_type": "display_data"
    },
    {
     "data": {
      "image/png": "[encoded data removed]",
      "text/plain": [
       "<Figure size 1152x288 with 1 Axes>"
      ]
     },
     "metadata": {
      "needs_background": "light"
     },
     "output_type": "display_data"
    },
    {
     "data": {
      "image/png": "[encoded data removed]",
      "text/plain": [
       "<Figure size 1152x288 with 1 Axes>"
      ]
     },
     "metadata": {
      "needs_background": "light"
     },
     "output_type": "display_data"
    }
   ],
   "source": [
    "# Формирование столбчатых диаграмм c рейтингом жанров\n",
    "for e in range(len(region_list)):\n",
    "    df_actual_filtered.pivot_table(\n",
    "        index='genre',\n",
    "        values=region_list[e],\n",
    "        aggfunc='sum'\n",
    "    ).sort_values(\n",
    "        by=region_list[e],\n",
    "        ascending=False\n",
    "    ).reset_index()[:5].plot(\n",
    "        x='genre',\n",
    "        y=region_list[e],\n",
    "        kind='bar',\n",
    "        title=abr_list2[e],\n",
    "        label='Продажи',\n",
    "        xlabel='НАЗВАНИЕ ЖАНРА',\n",
    "        ylabel='КОЛИЧЕСТВО ПРОДАЖ',\n",
    "        figsize=(16, 4),\n",
    "        grid=True,\n",
    "        legend=True,\n",
    "        color=color_list3[e]\n",
    "    )\n",
    "    plt.show()"
   ]
  },
  {
   "cell_type": "markdown",
   "id": "39775d51",
   "metadata": {},
   "source": [
    "<div class=\"alert alert-block alert-warning\"><span style=\"color:green\"><font size=\"3\" face=\"Arial\"><b>Промежуточные выводы 4.2:<b/></span>\n",
    "    \n",
    "<span style=\"color:steelblue\"><font size=\"3\" face=\"Courier\"><b>1. В Северной Америке и Европе наибольшей популярностью пользуется игровой жанр экшен 'Action'. После североамериканцы отдают предпочтение спортивным играм 'Sports', а вот европейцы любят пострелять в 'Shooter'.\\\n",
    "    2. В Японии первое место так же занимает экшен 'Action', но почти в ровень с ним идут ролевые игры 'Role-Playing'.</b></span></div>"
   ]
  },
  {
   "cell_type": "markdown",
   "id": "580ffbe1",
   "metadata": {},
   "source": [
    "### Изучение влияния рейтинга ESRB на продажи в регионах"
   ]
  },
  {
   "cell_type": "code",
   "execution_count": 488,
   "id": "ebc1f0dd",
   "metadata": {},
   "outputs": [],
   "source": [
    "# Замена пропусков в колонке 'rating' строковым\n",
    "# значением 'unknown'\n",
    "df_actual_filtered['rating'] = df_actual_filtered['rating'].fillna('unknown')"
   ]
  },
  {
   "cell_type": "code",
   "execution_count": 489,
   "id": "b34356fd",
   "metadata": {},
   "outputs": [],
   "source": [
    "# Формирование списка аббревиатур регионов abr_list3\n",
    "abr_list3 = [\n",
    "    'РАСПРЕДЕЛЕНИЕ КАТЕГОРИЙ РЕЙТИНГА ESRB В \"NA\" - СЕВЕРНОЙ АМЕРИКЕ',\n",
    "    'РАСПРЕДЕЛЕНИЕ КАТЕГОРИЙ РЕЙТИНГА ESRB В \"EU\" - ЕВРОПЕ',\n",
    "    'РАСПРЕДЕЛЕНИЕ КАТЕГОРИЙ РЕЙТИНГА ESRB В \"JP\" - ЯПОНИИ'\n",
    "]"
   ]
  },
  {
   "cell_type": "code",
   "execution_count": 490,
   "id": "dee24e5a",
   "metadata": {},
   "outputs": [
    {
     "data": {
      "image/png": "[encoded data removed]",
      "text/plain": [
       "<Figure size 1152x288 with 1 Axes>"
      ]
     },
     "metadata": {
      "needs_background": "light"
     },
     "output_type": "display_data"
    },
    {
     "data": {
      "image/png": "[encoded data removed]",
      "text/plain": [
       "<Figure size 1152x288 with 1 Axes>"
      ]
     },
     "metadata": {
      "needs_background": "light"
     },
     "output_type": "display_data"
    },
    {
     "data": {
      "image/png": "[encoded data removed]",
      "text/plain": [
       "<Figure size 1152x288 with 1 Axes>"
      ]
     },
     "metadata": {
      "needs_background": "light"
     },
     "output_type": "display_data"
    }
   ],
   "source": [
    "# Формирование столбчатых диаграмм c категориями рейтингов ESRB\n",
    "for f in range(len(region_list)):\n",
    "    df_actual_filtered.pivot_table(\n",
    "        index='rating',\n",
    "        values=region_list[f],\n",
    "        aggfunc='sum'\n",
    "    ).sort_values(\n",
    "        by=region_list[f],\n",
    "        ascending=False\n",
    "    ).reset_index()[:5].plot(\n",
    "        x='rating',\n",
    "        y=region_list[f],\n",
    "        kind='bar',\n",
    "        title=abr_list3[f],\n",
    "        label='Продажи',\n",
    "        xlabel='НАЗВАНИЕ КАТЕГОРИИ РЕЙТИНГА',\n",
    "        ylabel='КОЛИЧЕСТВО ПРОДАЖ',\n",
    "        figsize=(16, 4),\n",
    "        grid=True,\n",
    "        legend=True,\n",
    "        color=color_list3[f]\n",
    "    )\n",
    "    plt.show()"
   ]
  },
  {
   "cell_type": "markdown",
   "id": "0e9508e5",
   "metadata": {},
   "source": [
    "<div class=\"alert alert-block alert-warning\"><span style=\"color:green\"><font size=\"3\" face=\"Arial\"><b>Промежуточные выводы 4.3:<b/></span>\n",
    "    \n",
    "<span style=\"color:steelblue\"><font size=\"3\" face=\"Courier\"><b>1. В Северной Америке и Европе больше всего продано игр категории 'M' - для взрослых - от 17 лет.\\\n",
    "    Для Северной Америки с небольшим отличием между собой на убывание идут доли 'E', 'unknown', 'E10+', 'T' - соответственно для всех от 6 лет, с неустановленной категорией, 10 лет и старше, лиц от 13 лет.\\\n",
    "    В Европе второе место занимают продаж игр с неустановленной категорией 'unknown'. Доли продаж игр категорий 'E10+', 'E', 'T' - соответственно для всех от 10 лет и старше, от 6 лет, лиц от 13 лет - примерно равны.\\\n",
    "    2. В Японии львиную долю занимают продажи игр с неустановленной категорией 'unknown'.\\\n",
    "    На втором мете по продажам игры с категорией 'T' - для лиц от 13 лет.\\\n",
    "    Игры с категорией 'M' - для взрослых - от 17 лет, занимают лишь третье место и сопоставимы по объёму продаж с категорией 'E' - для всех от 6 лет.\\\n",
    "    3. Североамериканцы и европейцы предпочитают игры с возможным достаточно жестоким насилием, большим количеством крови с расчленением, непристойными сексуальными сценами и грубой ненормативной лексикой.\\\n",
    "    Японцы же больше всего играют в игры с неустановленной категорией. Им чужды всякие североамериканские рейтинги ESRB.</b></span></div>"
   ]
  },
  {
   "cell_type": "markdown",
   "id": "7f47ece4",
   "metadata": {},
   "source": [
    "### Вывод"
   ]
  },
  {
   "cell_type": "markdown",
   "id": "60d29dae",
   "metadata": {},
   "source": [
    "<div class=\"alert alert-block alert-warning\">\n",
    "    \n",
    "<span style=\"color:steelblue\"><font size=\"3\" face=\"Courier\"><b>Исходя из проанализированных данных, могу выделить следующие портреты пользователей по регионам:\\\n",
    "    1. Северная Америка.\\\n",
    "    1.1. Предпочитают играть на платформах 'PS4' и 'XOne' в игры категории 'M' - для взрослых - от 17 лет, с возможным достаточно жестоким насилием, большим количеством крови с расчленением, непристойными сексуальными сценами и грубой ненормативной лексикой.\\\n",
    "    Наибольшей популярностью пользуется игровой жанр экшен 'Action'. После экшена включают спортивные игры 'Sports'.\\\n",
    "    1.2. Рейтинги от большего к меньшему:\\\n",
    "    - Платформы: 'PS4', 'XOne', 'WiiU', '3DS', 'PC'.\\\n",
    "    - Жанры: 'Action', 'Sports', 'Shooter, 'Role-Playing', 'Misc'.\\\n",
    "    - Возрастные категории: 'M', 'E', 'unknown', 'E10+', 'T'.\\\n",
    "    2. Европа.\\\n",
    "    2.1. Предпочитают играть на платформах 'PS4' и 'XOne' в игры категории 'M' - для взрослых - от 17 лет, с возможным достаточно жестоким насилием, большим количеством крови с расчленением, непристойными сексуальными сценами и грубой ненормативной лексикой.\\\n",
    "    Наибольшей популярностью пользуется игровой жанр экшн 'Action'. Также европейцы любят пострелять в 'Shooter'.\\\n",
    "    2.2. Рейтинги от большего к меньшему:\\\n",
    "    - Платформы: 'PS4', 'XOne', 'PC', '3DS', 'WiiU'.\\\n",
    "    - Жанры: 'Action', 'Shooter, 'Sports', 'Role-Playing', 'Racing'.\\\n",
    "    - Возрастные категории: 'M', 'unknown', 'E10+', 'E', 'T'.\\\n",
    "    3. Япония.\\\n",
    "    3.1. Предпочитают играть на платформе '3DS', а так же на портативных устройствах платформы 'PSV' в игры с неустановленной категорией 'unknown'.\\\n",
    "    В Японии первое место так же занимает экшен 'Action', но почти в ровень с ним идут ролевые игры 'Role-Playing'.\\\n",
    "    3.2. Рейтинги от большего к меньшему:\\\n",
    "    - Платформы: '3DS', 'PSV', 'PS4', 'WiiU', 'XOne'.\\\n",
    "    - Жанры: 'Action', 'Role-Playing', 'Misc', 'Adventure', 'Sports'.\\\n",
    "    - Возрастные категории: 'unknown', 'T', 'E', 'M', 'E10+'.\\\n",
    "    4. Предпочтения пользователей разных регионов скорее всего связаны с особенностями быта и сложившимися предпочтениями.</b></span></div>"
   ]
  },
  {
   "cell_type": "markdown",
   "id": "7fe5fad1",
   "metadata": {},
   "source": [
    "## Статистический анализ данных. Проверка гипотез"
   ]
  },
  {
   "cell_type": "markdown",
   "id": "8d58ff4f",
   "metadata": {},
   "source": [
    "### Средние пользовательские рейтинги платформ Xbox One и PC одинаковые"
   ]
  },
  {
   "cell_type": "markdown",
   "id": "bfa29e75",
   "metadata": {},
   "source": [
    "**Нулевая гипотеза H0:** Средний пользовательский рейтинг платформы Xbox One равен среднему пользовательскому рейтингу платформы PC.\n",
    "\n",
    "**Альтернативная гипотеза H1:** Средний пользовательский рейтинг платформы Xbox One не равен среднему пользовательскому рейтингу платформы PC."
   ]
  },
  {
   "cell_type": "code",
   "execution_count": 491,
   "id": "c4f02306",
   "metadata": {},
   "outputs": [],
   "source": [
    "# Формирование Series с пользовательскими рейтингами\n",
    "# на платформе 'XOne'\n",
    "df_xone = df_actual_filtered.query('platform == \"XOne\"').user_score.dropna()"
   ]
  },
  {
   "cell_type": "code",
   "execution_count": 492,
   "id": "fcfef9c8",
   "metadata": {},
   "outputs": [],
   "source": [
    "# Формирование Series с пользовательскими рейтингами\n",
    "# на платформе 'PC'\n",
    "df_pc = df_actual_filtered.query('platform == \"PC\"').user_score.dropna()"
   ]
  },
  {
   "cell_type": "code",
   "execution_count": 495,
   "id": "5fad9147",
   "metadata": {},
   "outputs": [],
   "source": [
    "# Критический уровень статистической значимости alpha\n",
    "alpha = .05"
   ]
  },
  {
   "cell_type": "code",
   "execution_count": 518,
   "id": "2f345da4",
   "metadata": {},
   "outputs": [],
   "source": [
    "# Принимая, что выборки пользовательских рейтингов по платформам - это\n",
    "# выборки из генеральных совокупностей по платформам, применяю\n",
    "# метод scipy.stats.ttest_ind()\n",
    "result1 = st.ttest_ind(df_xone, df_pc, equal_var=False)"
   ]
  },
  {
   "cell_type": "code",
   "execution_count": 520,
   "id": "ab50cd81",
   "metadata": {},
   "outputs": [
    {
     "name": "stdout",
     "output_type": "stream",
     "text": [
      "Уровень статистической значимости \"p-значение\": 0.11852267366330384\n"
     ]
    }
   ],
   "source": [
    "# Вывод на экран result1\n",
    "print('Уровень статистической значимости \"p-значение\":', result1.pvalue)"
   ]
  },
  {
   "cell_type": "code",
   "execution_count": 521,
   "id": "3a7d45f5",
   "metadata": {},
   "outputs": [
    {
     "name": "stdout",
     "output_type": "stream",
     "text": [
      "Не отвергаю нулевую гипотезу H0\n"
     ]
    }
   ],
   "source": [
    "# Логическое условие принятия или отвержения нулевой гипотезы\n",
    "if result1.pvalue < alpha:\n",
    "    print('Отвергаю нулевую гипотезу H0')\n",
    "else:\n",
    "    print('Не отвергаю нулевую гипотезу H0')"
   ]
  },
  {
   "cell_type": "markdown",
   "id": "e9f23cd5",
   "metadata": {},
   "source": [
    "<div class=\"alert alert-block alert-warning\"><span style=\"color:green\"><font size=\"3\" face=\"Arial\"><b>Промежуточные выводы 5.1:<b/></span>\n",
    "    \n",
    "<span style=\"color:steelblue\"><font size=\"3\" face=\"Courier\"><b>1. В виду существенного (порядка 12%) значения уровня статистической значимости нулевую гипотезу H0 о равенстве средних пользовательских рейтингов платформы 'Xbox One' и платформы 'PC' не отвергаю.\\\n",
    "    2. Могу сделать предположение о статистически незначимой разнице между средними выборок по обеим платформам.\\\n",
    "    3. Возможно средние пользовательских рейтингов платформы 'Xbox One' и платформы 'PC' примерно равны.</b></span></div>"
   ]
  },
  {
   "cell_type": "markdown",
   "id": "df878550",
   "metadata": {},
   "source": [
    "### Средние пользовательские рейтинги жанров Action и Sports разные"
   ]
  },
  {
   "cell_type": "markdown",
   "id": "41a4d0d3",
   "metadata": {},
   "source": [
    "**Нулевая гипотеза H0:** Средний пользовательский рейтинг жанра Action равен среднему пользовательскому рейтингу жанра Sports.\n",
    "\n",
    "**Альтернативная гипотеза H1:** Средний пользовательский рейтинг жанра Action не равен среднему пользовательскому рейтингу жанра Sports."
   ]
  },
  {
   "cell_type": "code",
   "execution_count": 522,
   "id": "aa108646",
   "metadata": {},
   "outputs": [],
   "source": [
    "# Формирование Series с пользовательскими рейтингами\n",
    "# для жанра 'Action'\n",
    "df_action = df_actual_filtered.query('genre == \"Action\"').user_score.dropna()"
   ]
  },
  {
   "cell_type": "code",
   "execution_count": 523,
   "id": "fbf781dd",
   "metadata": {},
   "outputs": [],
   "source": [
    "# Формирование Series с пользовательскими рейтингами\n",
    "# для жанра 'Sports'\n",
    "df_sports = df_actual_filtered.query('genre == \"Sports\"').user_score.dropna()"
   ]
  },
  {
   "cell_type": "code",
   "execution_count": 536,
   "id": "56213256",
   "metadata": {},
   "outputs": [],
   "source": [
    "# Принимая, что выборки пользовательских рейтингов по жанрам - это\n",
    "# выборки из генеральных совокупностей по жанрам, применяю\n",
    "# метод scipy.stats.ttest_ind()\n",
    "result2 = st.ttest_ind(df_action, df_sports, equal_var=False)"
   ]
  },
  {
   "cell_type": "code",
   "execution_count": 537,
   "id": "e4f944ab",
   "metadata": {},
   "outputs": [
    {
     "name": "stdout",
     "output_type": "stream",
     "text": [
      "Уровень статистической значимости \"p-значение\": 1.0590147778498406e-09\n"
     ]
    }
   ],
   "source": [
    "# Вывод на экран result2\n",
    "print('Уровень статистической значимости \"p-значение\":', result2.pvalue)"
   ]
  },
  {
   "cell_type": "code",
   "execution_count": 538,
   "id": "d55bed8f",
   "metadata": {},
   "outputs": [
    {
     "name": "stdout",
     "output_type": "stream",
     "text": [
      "Отвергаю нулевую гипотезу H0\n"
     ]
    }
   ],
   "source": [
    "# Логическое условие принятия или отвержения нулевой гипотезы\n",
    "if result2.pvalue < alpha:\n",
    "    print('Отвергаю нулевую гипотезу H0')\n",
    "else:\n",
    "    print('Не отвергаю нулевую гипотезу H0')"
   ]
  },
  {
   "cell_type": "markdown",
   "id": "672aa332",
   "metadata": {},
   "source": [
    "<div class=\"alert alert-block alert-warning\"><span style=\"color:green\"><font size=\"3\" face=\"Arial\"><b>Промежуточные выводы 5.2:<b/></span>\n",
    "    \n",
    "<span style=\"color:steelblue\"><font size=\"3\" face=\"Courier\"><b>1. В виду низкого (близкого к нулю) значения уровня статистической значимости нулевую гипотезу H0 о равенстве средних пользовательских рейтингов жанра 'Action' и жанра 'Sports' отвергаю.\\\n",
    "    2. Могу сделать предположение о статистически значимой разнице между средними выборок по обоим жанрам.\\\n",
    "    3. Возможно средние пользовательских рейтингов жанра 'Action' и жанра 'Sports' не равны.</b></span></div>"
   ]
  },
  {
   "cell_type": "markdown",
   "id": "cf7df13d",
   "metadata": {},
   "source": [
    "### Вывод"
   ]
  },
  {
   "cell_type": "markdown",
   "id": "34d6538c",
   "metadata": {},
   "source": [
    "<div class=\"alert alert-block alert-warning\">\n",
    "    \n",
    "<span style=\"color:steelblue\"><font size=\"3\" face=\"Courier\"><b>В ходе проверки гипотез по каждой предполагаю следующее:\\\n",
    "    1. Средние пользовательские рейтинги платформ Xbox One и PC одинаковые:\\\n",
    "    1.1. В виду существенного (порядка 12%) значения уровня статистической значимости нулевую гипотезу H0 о равенстве средних пользовательских рейтингов платформы 'Xbox One' и платформы 'PC' не отвергаю.\\\n",
    "    1.2. Могу сделать предположение о статистически незначимой разнице между средними выборок по обеим платформам.\\\n",
    "    1.3. Возможно средние пользовательских рейтингов платформы 'Xbox One' и платформы 'PC' примерно равны.\\\n",
    "    2. Средние пользовательские рейтинги жанров Action и Sports разные:\\\n",
    "    2.1. В виду низкого (близкого к нулю) значения уровня статистической значимости нулевую гипотезу H0 о равенстве средних пользовательских рейтингов жанра 'Action' и жанра 'Sports' отвергаю.\\\n",
    "    2.2. Могу сделать предположение о статистически значимой разнице между средними выборок по обоим жанрам.\\\n",
    "    2.3. Возможно средние пользовательских рейтингов жанра 'Action' и жанра 'Sports' не равны.</b></span></div>"
   ]
  },
  {
   "cell_type": "markdown",
   "id": "6b2faa6b",
   "metadata": {},
   "source": [
    "## Общий вывод"
   ]
  },
  {
   "cell_type": "markdown",
   "id": "22f42ce6",
   "metadata": {},
   "source": [
    "<div class=\"alert alert-block alert-warning\">\n",
    "    \n",
    "<span style=\"color:steelblue\"><font size=\"3\" face=\"Courier\"><b>В ходе выполнения проекта по выявлению определяющих успешность игры закономерностей подготовил и проанализировал большой объём данных.\\\n",
    "    \\\n",
    "    1.1. Обнаружил и исправил несоответствие правилам написания в названиях колонок.\\\n",
    "    1.2. Выявил большое количество пропусков в данных, влияющих на результат исследования по выявлению зависимости стоимости от смежных параметров.\\\n",
    "    Причиной появления пропусков может быть технический сбой при переносе данных, а также отсутствие данных в связи с отсутствием системы оценок в определённые года.\\\n",
    "    1.3. Для успешного заполнения пропусков продумал алгоритмы, учитывающие особенности схожих по показателям групп.\\\n",
    "    1.4. Исключение составляют проуски в данных по оценкам критиков и пользователей, так как оценки игры всегда индивидуальны, а заполнять средним или медианным по группе (например, жанру или платформе) будет некорректно, и может привести к искажению данных, поэтому заполнение не целесообразно.\\\n",
    "    1.5. Ряд строковых данных был заменён на пропуски NaN, так как данные не несли информацию.\\\n",
    "    1.6. Явные и неявные дубликаты не обнаружены.\\\n",
    "    1.7. Выявлено и исправлено несоответствие типа данных для дальнейшей корректной обработки.\\\n",
    "    1.8. Рассчитал и дополнил исходный датафрейм вспомогательными колонками.\\\n",
    "    \\\n",
    "    2.1. В ходе исследовательского анализа данных выполнил формирование дополнительных датафреймов, сводных таблиц, списков и алгоритмов для циклов с различными параметрами, выполняющих построения столбчатых и круговых диаграмм.\\\n",
    "    2.2. Выявил актуальный период и отфильтровал данные для данного периода.\\\n",
    "    2.3. Рост количества игр начинается с 1994 года, достигая пикового значения в 2008 году.\\\n",
    "    После 2008 года наблюдается спад. Возможно это связано с активным развитием различных онлайн-платформ и облачных сервисов.\\\n",
    "    2.4. Актуальным периодом продаж является период с 2013 года включительно.\\\n",
    "    2.5. Среди платформ с наибольшим количеством продаж выделяются PS2, X360, PS3, Wii, DS, PS.\\\n",
    "    2.6. Ориентировочный срок жизни популярной платформы составляет 10-12 лет.\\\n",
    "    2.7.1. Сохраняется тенденция снижения продаж к 2016 году.\\\n",
    "    2.7.2. На 2016 год:\\\n",
    "    - Лидером по продажам является платформа 'PS4'.\\\n",
    "    - Второе место занимает платформа 'XOne'.\\\n",
    "    - На третьем месте платформа '3DS'.\\\n",
    "    - Примерно одинаковое количество продаж у платформ 'WiiU', 'PC', 'PSV'.\\\n",
    "    2.8. Культовые и успешные игры с большим количеством продаж располагаются в зоне выбросов.\\\n",
    "    2.9.1. На большинстве платформ зависимость продаж от оценки критиков ниже среднего.\\\n",
    "    Только на платформе 'PSV' зависимость весьма слабая.\\\n",
    "    2.9.2. На большинстве платформ оценка пользователей почти никак не влияет на количество продаж, так как коэффициент корреляции близок к нулевому значению.\\\n",
    "    Исключение составляет платформа 'WiiU' с зависимостью близкой к средней. Зависимость оценки пользователей сопоставима с зависимостью оценки критиков.\\\n",
    "    2.9.3. Особняком стоят продажи в Японии - зависимость весьма слабая почти по всем показателям. Японцы - специфичные ребята.\\\n",
    "    2.9.4. Корреляция оценок критиков и пользователей чуть выше среднего. Мнения различаются.\\\n",
    "    2.10.1. Наибольшее количество продаж приходится на жанр экшен 'Action'.\\\n",
    "    Объём продаж примерно сопоставим с суммарным объёмом ролевых 'Role-Playing', стрелялок 'Shooter' и спортивных 'Sports' игр, которые занимают второе, третье и четвёртое места соответственно.\\\n",
    "    2.10.2. Наименьшее количество продаж приходится на пазлы 'Puzzle', стратегии 'Strategy' и симуляторы 'Simulation'.\\\n",
    "    \\\n",
    "    3. Сформировал следующие портреты пользователей по регионам:\\\n",
    "    \\\n",
    "    3.1. Северная Америка.\\\n",
    "    3.1.1. Предпочитают играть на платформах 'PS4' и 'XOne' в игры категории 'M' - для взрослых - от 17 лет, с возможным достаточно жестоким насилием, большим количеством крови с расчленением, непристойными сексуальными сценами и грубой ненормативной лексикой.\\\n",
    "    Наибольшей популярностью пользуется игровой жанр экшен 'Action'. После экшена включают спортивные игры 'Sports'.\\\n",
    "    3.1.2. Рейтинги от большего к меньшему:\\\n",
    "    - Платформы: 'PS4', 'XOne', 'WiiU', '3DS', 'PC'.\\\n",
    "    - Жанры: 'Action', 'Sports', 'Shooter, 'Role-Playing', 'Misc'.\\\n",
    "    - Возрастные категории: 'M', 'E', 'unknown', 'E10+', 'T'.\\\n",
    "    \\\n",
    "    3.2. Европа.\\\n",
    "    3.2.1. Предпочитают играть на платформах 'PS4' и 'PC' в игры категории 'M' - для взрослых - от 17 лет, с возможным достаточно жестоким насилием, большим количеством крови с расчленением, непристойными сексуальными сценами и грубой ненормативной лексикой.\\\n",
    "    Наибольшей популярностью пользуется игровой жанр экшн 'Action'. Также европейцы любят пострелять в 'Shooter'.\\\n",
    "    3.2.2. Рейтинги от большего к меньшему:\\\n",
    "    - Платформы: 'PS4', 'XOne', 'PC', '3DS', 'WiiU'.\\\n",
    "    - Жанры: 'Action', 'Shooter, 'Sports', 'Role-Playing', 'Racing'.\\\n",
    "    - Возрастные категории: 'M', 'unknown', 'E10+', 'E', 'T'.\\\n",
    "    \\\n",
    "    3.3. Япония.\\\n",
    "    3.3.1. Предпочитают играть на платформе '3DS', а так же на портативных устройствах платформы 'PSV' в игры с неустановленной категорией 'unknown'.\\\n",
    "    В Японии первое место так же занимает экшен 'Action', но почти в ровень с ним идут ролевые игры 'Role-Playing'.\\\n",
    "    3.3.2. Рейтинги от большего к меньшему:\\\n",
    "    - Платформы: '3DS', 'PSV', 'PS4', 'WiiU', 'XOne'.\\\n",
    "    - Жанры: 'Action', 'Role-Playing', 'Misc', 'Adventure', 'Sports'.\\\n",
    "    - Возрастные категории: 'unknown', 'T', 'E', 'M', 'E10+'.\\\n",
    "    \\\n",
    "    3.4. Предпочтения пользователей разных регионов скорее всего связаны с особенностями быта и сложившимися предпочтениями.\\\n",
    "    \\\n",
    "    4. В ходе статистического анализа данных проверил две гипотезы, сформулировав для каждой нулевую и альтернативную гипотезы, со следующими предположениями:\\\n",
    "    \\\n",
    "    4.1. Средние пользовательские рейтинги платформ Xbox One и PC одинаковые:\\\n",
    "    - Нулевая гипотеза H0: Средний пользовательский рейтинг платформы Xbox One равен среднему пользовательскому рейтингу платформы PC.\\\n",
    "    - Альтернативная гипотеза H1: Средний пользовательский рейтинг платформы Xbox One не равен среднему пользовательскому рейтингу платформы PC.\\\n",
    "    4.1.1. В виду существенного (порядка 12%) значения уровня статистической значимости нулевую гипотезу H0 о равенстве средних пользовательских рейтингов платформы 'Xbox One' и платформы 'PC' не отвергаю.\\\n",
    "    4.1.2. Могу сделать предположение о статистически незначимой разнице между средними выборок по обеим платформам.\\\n",
    "    4.1.3. Возможно средние пользовательских рейтингов платформы 'Xbox One' и платформы 'PC' примерно равны.\\\n",
    "    \\\n",
    "    4.2. Средние пользовательские рейтинги жанров Action и Sports разные:\\\n",
    "    - Нулевая гипотеза H0: Средний пользовательский рейтинг жанра Action равен среднему пользовательскому рейтингу жанра Sports.\\\n",
    "    - Альтернативная гипотеза H1: Средний пользовательский рейтинг жанра Action не равен среднему пользовательскому рейтингу жанра Sports.\\\n",
    "    4.2.1. В виду низкого (близкого к нулю) значения уровня статистической значимости нулевую гипотезу H0 о равенстве средних пользовательских рейтингов жанра 'Action' и жанра 'Sports' отвергаю.\\\n",
    "    4.2.2. Могу сделать предположение о статистически значимой разнице между средними выборок по обоим жанрам.\\\n",
    "    4.2.3. Возможно средние пользовательских рейтингов жанра 'Action' и жанра 'Sports' не равны.\\\n",
    "    \\\n",
    "    5. Исходя из результатов анализа данных, могу предположить, что более успешными будут продажи игр жанров 'Action', 'Sports', 'Shooter' и 'Role-Playing', реализованные на платформах 'PS4', 'Xone' и '3DS', имеющие возрастные рейтинги 'M', 'E', 'E10+', 'T'. Также большой объём продаж приходится на игры с неустановленной возрастной категорией 'unknown'. С учётом этой информации можно планировать рекламные кампании.</b></span></div>"
   ]
  }
 ],
 "metadata": {
  "ExecuteTimeLog": [
   {
    "duration": 401,
    "start_time": "2022-05-06T18:55:06.289Z"
   },
   {
    "duration": 2,
    "start_time": "2022-05-06T18:55:06.693Z"
   },
   {
    "duration": 3,
    "start_time": "2022-05-06T18:55:06.700Z"
   },
   {
    "duration": 4,
    "start_time": "2022-05-06T18:55:06.705Z"
   },
   {
    "duration": 307,
    "start_time": "2022-05-06T18:55:06.711Z"
   },
   {
    "duration": 515,
    "start_time": "2022-05-06T18:55:07.020Z"
   },
   {
    "duration": 2,
    "start_time": "2022-05-06T18:55:07.537Z"
   },
   {
    "duration": 7,
    "start_time": "2022-05-06T18:55:07.541Z"
   },
   {
    "duration": 48,
    "start_time": "2022-05-06T18:55:07.549Z"
   },
   {
    "duration": 21,
    "start_time": "2022-05-06T18:55:07.600Z"
   },
   {
    "duration": 3,
    "start_time": "2022-05-06T18:55:07.623Z"
   },
   {
    "duration": 16,
    "start_time": "2022-05-06T18:55:07.628Z"
   },
   {
    "duration": 9,
    "start_time": "2022-05-06T18:55:07.646Z"
   },
   {
    "duration": 13,
    "start_time": "2022-05-06T18:55:07.656Z"
   },
   {
    "duration": 56,
    "start_time": "2022-05-06T18:55:07.671Z"
   },
   {
    "duration": 16,
    "start_time": "2022-05-06T18:55:07.729Z"
   },
   {
    "duration": 13,
    "start_time": "2022-05-06T18:55:07.747Z"
   },
   {
    "duration": 6,
    "start_time": "2022-05-06T18:55:07.762Z"
   },
   {
    "duration": 7,
    "start_time": "2022-05-06T18:55:07.800Z"
   },
   {
    "duration": 17,
    "start_time": "2022-05-06T18:55:07.809Z"
   },
   {
    "duration": 14,
    "start_time": "2022-05-06T18:55:07.828Z"
   },
   {
    "duration": 3,
    "start_time": "2022-05-06T18:55:07.844Z"
   },
   {
    "duration": 18,
    "start_time": "2022-05-06T18:55:07.848Z"
   },
   {
    "duration": 33,
    "start_time": "2022-05-06T18:55:07.867Z"
   },
   {
    "duration": 7,
    "start_time": "2022-05-06T18:55:07.902Z"
   },
   {
    "duration": 1838,
    "start_time": "2022-05-06T18:55:07.912Z"
   },
   {
    "duration": 4,
    "start_time": "2022-05-06T18:55:09.752Z"
   },
   {
    "duration": 10,
    "start_time": "2022-05-06T18:55:09.757Z"
   },
   {
    "duration": 11,
    "start_time": "2022-05-06T18:55:09.770Z"
   },
   {
    "duration": 8,
    "start_time": "2022-05-06T18:55:09.782Z"
   },
   {
    "duration": 6,
    "start_time": "2022-05-06T18:55:09.801Z"
   },
   {
    "duration": 13,
    "start_time": "2022-05-06T18:55:09.809Z"
   },
   {
    "duration": 4,
    "start_time": "2022-05-06T18:55:09.824Z"
   },
   {
    "duration": 14,
    "start_time": "2022-05-06T18:55:09.829Z"
   },
   {
    "duration": 368,
    "start_time": "2022-05-06T18:55:09.845Z"
   },
   {
    "duration": 290,
    "start_time": "2022-05-06T18:55:10.215Z"
   },
   {
    "duration": 10,
    "start_time": "2022-05-06T18:55:10.506Z"
   },
   {
    "duration": 8,
    "start_time": "2022-05-06T18:55:10.517Z"
   },
   {
    "duration": 4,
    "start_time": "2022-05-06T18:55:10.526Z"
   },
   {
    "duration": 6,
    "start_time": "2022-05-06T18:55:10.531Z"
   },
   {
    "duration": 6,
    "start_time": "2022-05-06T18:55:10.538Z"
   },
   {
    "duration": 7,
    "start_time": "2022-05-06T18:55:10.545Z"
   },
   {
    "duration": 1234,
    "start_time": "2022-05-06T18:55:10.553Z"
   },
   {
    "duration": 11,
    "start_time": "2022-05-06T18:55:11.789Z"
   },
   {
    "duration": 23,
    "start_time": "2022-05-06T18:55:11.802Z"
   },
   {
    "duration": 197,
    "start_time": "2022-05-06T18:55:11.826Z"
   },
   {
    "duration": 3,
    "start_time": "2022-05-06T18:55:12.024Z"
   },
   {
    "duration": 5,
    "start_time": "2022-05-06T18:55:12.029Z"
   },
   {
    "duration": 7,
    "start_time": "2022-05-06T18:55:12.036Z"
   },
   {
    "duration": 1993,
    "start_time": "2022-05-06T18:55:12.044Z"
   },
   {
    "duration": 14,
    "start_time": "2022-05-06T18:55:14.039Z"
   },
   {
    "duration": 8,
    "start_time": "2022-05-06T18:55:14.055Z"
   },
   {
    "duration": 5,
    "start_time": "2022-05-06T18:55:14.064Z"
   },
   {
    "duration": 4,
    "start_time": "2022-05-06T18:55:14.074Z"
   },
   {
    "duration": 24,
    "start_time": "2022-05-06T18:55:14.079Z"
   },
   {
    "duration": 27,
    "start_time": "2022-05-06T18:55:14.105Z"
   },
   {
    "duration": 15,
    "start_time": "2022-05-06T18:55:14.134Z"
   },
   {
    "duration": 9,
    "start_time": "2022-05-06T18:55:14.151Z"
   },
   {
    "duration": 209,
    "start_time": "2022-05-06T18:55:14.161Z"
   },
   {
    "duration": 10,
    "start_time": "2022-05-06T18:55:14.371Z"
   },
   {
    "duration": 35,
    "start_time": "2022-05-06T18:55:14.383Z"
   },
   {
    "duration": 207,
    "start_time": "2022-05-06T18:55:14.420Z"
   },
   {
    "duration": 4,
    "start_time": "2022-05-06T18:55:14.628Z"
   },
   {
    "duration": 4,
    "start_time": "2022-05-06T18:55:14.635Z"
   },
   {
    "duration": 4,
    "start_time": "2022-05-06T18:55:14.641Z"
   },
   {
    "duration": 6,
    "start_time": "2022-05-06T18:55:14.647Z"
   },
   {
    "duration": 10,
    "start_time": "2022-05-06T18:55:14.655Z"
   },
   {
    "duration": 361,
    "start_time": "2022-05-06T18:55:14.666Z"
   },
   {
    "duration": 12,
    "start_time": "2022-05-06T18:55:15.029Z"
   },
   {
    "duration": 9,
    "start_time": "2022-05-06T18:55:15.042Z"
   },
   {
    "duration": 11,
    "start_time": "2022-05-06T18:55:15.053Z"
   },
   {
    "duration": 0,
    "start_time": "2022-05-06T18:55:15.065Z"
   },
   {
    "duration": 0,
    "start_time": "2022-05-06T18:55:15.066Z"
   },
   {
    "duration": 0,
    "start_time": "2022-05-06T18:55:15.067Z"
   },
   {
    "duration": 0,
    "start_time": "2022-05-06T18:55:15.068Z"
   },
   {
    "duration": 0,
    "start_time": "2022-05-06T18:55:15.069Z"
   },
   {
    "duration": 0,
    "start_time": "2022-05-06T18:55:15.070Z"
   },
   {
    "duration": 0,
    "start_time": "2022-05-06T18:55:15.071Z"
   },
   {
    "duration": 0,
    "start_time": "2022-05-06T18:55:15.073Z"
   },
   {
    "duration": 0,
    "start_time": "2022-05-06T18:55:15.073Z"
   },
   {
    "duration": 0,
    "start_time": "2022-05-06T18:55:15.075Z"
   },
   {
    "duration": 0,
    "start_time": "2022-05-06T18:55:15.100Z"
   },
   {
    "duration": 0,
    "start_time": "2022-05-06T18:55:15.101Z"
   },
   {
    "duration": 0,
    "start_time": "2022-05-06T18:55:15.102Z"
   },
   {
    "duration": 0,
    "start_time": "2022-05-06T18:55:15.103Z"
   },
   {
    "duration": 0,
    "start_time": "2022-05-06T18:55:15.104Z"
   },
   {
    "duration": 0,
    "start_time": "2022-05-06T18:55:15.105Z"
   },
   {
    "duration": 0,
    "start_time": "2022-05-06T18:55:15.106Z"
   },
   {
    "duration": 0,
    "start_time": "2022-05-06T18:55:15.107Z"
   },
   {
    "duration": 0,
    "start_time": "2022-05-06T18:55:15.108Z"
   },
   {
    "duration": 0,
    "start_time": "2022-05-06T18:55:15.109Z"
   },
   {
    "duration": 0,
    "start_time": "2022-05-06T18:55:15.110Z"
   },
   {
    "duration": 0,
    "start_time": "2022-05-06T18:55:15.111Z"
   },
   {
    "duration": 0,
    "start_time": "2022-05-06T18:55:15.112Z"
   },
   {
    "duration": 0,
    "start_time": "2022-05-06T18:55:15.113Z"
   },
   {
    "duration": 0,
    "start_time": "2022-05-06T18:55:15.114Z"
   },
   {
    "duration": 0,
    "start_time": "2022-05-06T18:55:15.115Z"
   },
   {
    "duration": 0,
    "start_time": "2022-05-06T18:55:15.116Z"
   },
   {
    "duration": 4,
    "start_time": "2022-05-06T19:12:19.636Z"
   },
   {
    "duration": 9,
    "start_time": "2022-05-06T19:12:20.054Z"
   },
   {
    "duration": 12,
    "start_time": "2022-05-06T19:12:31.714Z"
   },
   {
    "duration": 12,
    "start_time": "2022-05-06T19:12:38.313Z"
   },
   {
    "duration": 9,
    "start_time": "2022-05-06T19:12:39.133Z"
   },
   {
    "duration": 15,
    "start_time": "2022-05-06T19:13:50.001Z"
   },
   {
    "duration": 18,
    "start_time": "2022-05-06T19:13:50.019Z"
   },
   {
    "duration": 688,
    "start_time": "2022-05-06T19:13:50.039Z"
   },
   {
    "duration": 3,
    "start_time": "2022-05-06T19:13:50.732Z"
   },
   {
    "duration": 6,
    "start_time": "2022-05-06T19:13:50.737Z"
   },
   {
    "duration": 6,
    "start_time": "2022-05-06T19:13:50.744Z"
   },
   {
    "duration": 550,
    "start_time": "2022-05-06T19:13:50.751Z"
   },
   {
    "duration": 3,
    "start_time": "2022-05-06T19:13:51.306Z"
   },
   {
    "duration": 467,
    "start_time": "2022-05-06T19:13:51.312Z"
   },
   {
    "duration": 3,
    "start_time": "2022-05-06T19:13:51.781Z"
   },
   {
    "duration": 505,
    "start_time": "2022-05-06T19:13:51.785Z"
   },
   {
    "duration": 6,
    "start_time": "2022-05-06T19:13:52.292Z"
   },
   {
    "duration": 25,
    "start_time": "2022-05-06T19:13:52.300Z"
   },
   {
    "duration": 6,
    "start_time": "2022-05-06T19:13:52.327Z"
   },
   {
    "duration": 13,
    "start_time": "2022-05-06T19:13:52.334Z"
   },
   {
    "duration": 5,
    "start_time": "2022-05-06T19:13:52.348Z"
   },
   {
    "duration": 7,
    "start_time": "2022-05-06T19:13:52.354Z"
   },
   {
    "duration": 9,
    "start_time": "2022-05-06T19:13:52.362Z"
   },
   {
    "duration": 7,
    "start_time": "2022-05-06T19:13:52.372Z"
   },
   {
    "duration": 8,
    "start_time": "2022-05-06T19:13:52.380Z"
   },
   {
    "duration": 7,
    "start_time": "2022-05-06T19:13:52.390Z"
   },
   {
    "duration": 18,
    "start_time": "2022-05-06T19:13:52.399Z"
   },
   {
    "duration": 8,
    "start_time": "2022-05-06T19:13:52.418Z"
   },
   {
    "duration": 5,
    "start_time": "2022-05-06T19:13:52.430Z"
   },
   {
    "duration": 6,
    "start_time": "2022-05-06T19:13:52.437Z"
   },
   {
    "duration": 5,
    "start_time": "2022-05-06T19:13:52.445Z"
   },
   {
    "duration": 541,
    "start_time": "2022-05-07T08:09:47.428Z"
   },
   {
    "duration": 9,
    "start_time": "2022-05-07T08:09:47.971Z"
   },
   {
    "duration": 12,
    "start_time": "2022-05-07T08:09:47.982Z"
   },
   {
    "duration": 10,
    "start_time": "2022-05-07T08:09:47.996Z"
   },
   {
    "duration": 653,
    "start_time": "2022-05-07T08:09:48.008Z"
   },
   {
    "duration": 595,
    "start_time": "2022-05-07T08:09:48.663Z"
   },
   {
    "duration": 4,
    "start_time": "2022-05-07T08:09:49.265Z"
   },
   {
    "duration": 12,
    "start_time": "2022-05-07T08:09:49.270Z"
   },
   {
    "duration": 68,
    "start_time": "2022-05-07T08:09:49.284Z"
   },
   {
    "duration": 35,
    "start_time": "2022-05-07T08:09:49.358Z"
   },
   {
    "duration": 5,
    "start_time": "2022-05-07T08:09:49.395Z"
   },
   {
    "duration": 49,
    "start_time": "2022-05-07T08:09:49.403Z"
   },
   {
    "duration": 16,
    "start_time": "2022-05-07T08:09:49.454Z"
   },
   {
    "duration": 20,
    "start_time": "2022-05-07T08:09:49.474Z"
   },
   {
    "duration": 69,
    "start_time": "2022-05-07T08:09:49.496Z"
   },
   {
    "duration": 20,
    "start_time": "2022-05-07T08:09:49.568Z"
   },
   {
    "duration": 15,
    "start_time": "2022-05-07T08:09:49.590Z"
   },
   {
    "duration": 31,
    "start_time": "2022-05-07T08:09:49.607Z"
   },
   {
    "duration": 18,
    "start_time": "2022-05-07T08:09:49.640Z"
   },
   {
    "duration": 31,
    "start_time": "2022-05-07T08:09:49.664Z"
   },
   {
    "duration": 17,
    "start_time": "2022-05-07T08:09:49.698Z"
   },
   {
    "duration": 4,
    "start_time": "2022-05-07T08:09:49.717Z"
   },
   {
    "duration": 29,
    "start_time": "2022-05-07T08:09:49.740Z"
   },
   {
    "duration": 18,
    "start_time": "2022-05-07T08:09:49.771Z"
   },
   {
    "duration": 7,
    "start_time": "2022-05-07T08:09:49.791Z"
   },
   {
    "duration": 2746,
    "start_time": "2022-05-07T08:09:49.800Z"
   },
   {
    "duration": 7,
    "start_time": "2022-05-07T08:09:52.548Z"
   },
   {
    "duration": 22,
    "start_time": "2022-05-07T08:09:52.560Z"
   },
   {
    "duration": 10,
    "start_time": "2022-05-07T08:09:52.585Z"
   },
   {
    "duration": 11,
    "start_time": "2022-05-07T08:09:52.598Z"
   },
   {
    "duration": 12,
    "start_time": "2022-05-07T08:09:52.611Z"
   },
   {
    "duration": 38,
    "start_time": "2022-05-07T08:09:52.625Z"
   },
   {
    "duration": 7,
    "start_time": "2022-05-07T08:09:52.672Z"
   },
   {
    "duration": 23,
    "start_time": "2022-05-07T08:09:52.681Z"
   },
   {
    "duration": 510,
    "start_time": "2022-05-07T08:09:52.706Z"
   },
   {
    "duration": 452,
    "start_time": "2022-05-07T08:09:53.219Z"
   },
   {
    "duration": 14,
    "start_time": "2022-05-07T08:09:53.673Z"
   },
   {
    "duration": 15,
    "start_time": "2022-05-07T08:09:53.689Z"
   },
   {
    "duration": 39,
    "start_time": "2022-05-07T08:09:53.705Z"
   },
   {
    "duration": 30,
    "start_time": "2022-05-07T08:09:53.747Z"
   },
   {
    "duration": 13,
    "start_time": "2022-05-07T08:09:53.779Z"
   },
   {
    "duration": 17,
    "start_time": "2022-05-07T08:09:53.794Z"
   },
   {
    "duration": 1806,
    "start_time": "2022-05-07T08:09:53.813Z"
   },
   {
    "duration": 15,
    "start_time": "2022-05-07T08:09:55.622Z"
   },
   {
    "duration": 45,
    "start_time": "2022-05-07T08:09:55.639Z"
   },
   {
    "duration": 299,
    "start_time": "2022-05-07T08:09:55.687Z"
   },
   {
    "duration": 3,
    "start_time": "2022-05-07T08:09:55.988Z"
   },
   {
    "duration": 9,
    "start_time": "2022-05-07T08:09:55.993Z"
   },
   {
    "duration": 6,
    "start_time": "2022-05-07T08:09:56.004Z"
   },
   {
    "duration": 1700,
    "start_time": "2022-05-07T08:09:56.012Z"
   },
   {
    "duration": 27,
    "start_time": "2022-05-07T08:09:57.714Z"
   },
   {
    "duration": 35,
    "start_time": "2022-05-07T08:09:57.743Z"
   },
   {
    "duration": 5,
    "start_time": "2022-05-07T08:09:57.780Z"
   },
   {
    "duration": 10,
    "start_time": "2022-05-07T08:09:57.787Z"
   },
   {
    "duration": 8,
    "start_time": "2022-05-07T08:09:57.799Z"
   },
   {
    "duration": 46,
    "start_time": "2022-05-07T08:09:57.810Z"
   },
   {
    "duration": 14,
    "start_time": "2022-05-07T08:09:57.858Z"
   },
   {
    "duration": 13,
    "start_time": "2022-05-07T08:09:57.875Z"
   },
   {
    "duration": 325,
    "start_time": "2022-05-07T08:09:57.890Z"
   },
   {
    "duration": 23,
    "start_time": "2022-05-07T08:09:58.216Z"
   },
   {
    "duration": 38,
    "start_time": "2022-05-07T08:09:58.247Z"
   },
   {
    "duration": 301,
    "start_time": "2022-05-07T08:09:58.287Z"
   },
   {
    "duration": 6,
    "start_time": "2022-05-07T08:09:58.590Z"
   },
   {
    "duration": 8,
    "start_time": "2022-05-07T08:09:58.598Z"
   },
   {
    "duration": 31,
    "start_time": "2022-05-07T08:09:58.608Z"
   },
   {
    "duration": 33,
    "start_time": "2022-05-07T08:09:58.647Z"
   },
   {
    "duration": 7,
    "start_time": "2022-05-07T08:09:58.682Z"
   },
   {
    "duration": 505,
    "start_time": "2022-05-07T08:09:58.690Z"
   },
   {
    "duration": 15,
    "start_time": "2022-05-07T08:09:59.198Z"
   },
   {
    "duration": 52,
    "start_time": "2022-05-07T08:09:59.215Z"
   },
   {
    "duration": 14,
    "start_time": "2022-05-07T08:09:59.271Z"
   },
   {
    "duration": 19,
    "start_time": "2022-05-07T08:18:58.554Z"
   },
   {
    "duration": 9,
    "start_time": "2022-05-07T08:23:54.913Z"
   },
   {
    "duration": 27,
    "start_time": "2022-05-07T08:56:18.633Z"
   },
   {
    "duration": 53,
    "start_time": "2022-05-07T08:59:57.201Z"
   },
   {
    "duration": 3,
    "start_time": "2022-05-07T09:12:43.743Z"
   },
   {
    "duration": 9,
    "start_time": "2022-05-07T09:12:43.758Z"
   },
   {
    "duration": 8,
    "start_time": "2022-05-07T09:12:43.770Z"
   },
   {
    "duration": 5,
    "start_time": "2022-05-07T09:12:43.781Z"
   },
   {
    "duration": 5,
    "start_time": "2022-05-07T09:12:43.788Z"
   },
   {
    "duration": 5,
    "start_time": "2022-05-07T09:12:43.795Z"
   },
   {
    "duration": 5,
    "start_time": "2022-05-07T09:12:43.802Z"
   },
   {
    "duration": 7,
    "start_time": "2022-05-07T09:12:43.808Z"
   },
   {
    "duration": 61,
    "start_time": "2022-05-07T09:12:43.839Z"
   },
   {
    "duration": 20,
    "start_time": "2022-05-07T09:12:43.902Z"
   },
   {
    "duration": 4,
    "start_time": "2022-05-07T09:12:43.925Z"
   },
   {
    "duration": 42,
    "start_time": "2022-05-07T09:12:43.931Z"
   },
   {
    "duration": 15,
    "start_time": "2022-05-07T09:12:43.975Z"
   },
   {
    "duration": 16,
    "start_time": "2022-05-07T09:12:43.992Z"
   },
   {
    "duration": 45,
    "start_time": "2022-05-07T09:12:44.011Z"
   },
   {
    "duration": 27,
    "start_time": "2022-05-07T09:12:44.059Z"
   },
   {
    "duration": 13,
    "start_time": "2022-05-07T09:12:44.088Z"
   },
   {
    "duration": 31,
    "start_time": "2022-05-07T09:12:44.103Z"
   },
   {
    "duration": 17,
    "start_time": "2022-05-07T09:12:44.139Z"
   },
   {
    "duration": 21,
    "start_time": "2022-05-07T09:12:44.159Z"
   },
   {
    "duration": 12,
    "start_time": "2022-05-07T09:12:44.183Z"
   },
   {
    "duration": 5,
    "start_time": "2022-05-07T09:12:44.197Z"
   },
   {
    "duration": 44,
    "start_time": "2022-05-07T09:12:44.204Z"
   },
   {
    "duration": 19,
    "start_time": "2022-05-07T09:12:44.250Z"
   },
   {
    "duration": 11,
    "start_time": "2022-05-07T09:12:44.271Z"
   },
   {
    "duration": 2829,
    "start_time": "2022-05-07T09:12:44.284Z"
   },
   {
    "duration": 5,
    "start_time": "2022-05-07T09:12:47.115Z"
   },
   {
    "duration": 16,
    "start_time": "2022-05-07T09:12:47.121Z"
   },
   {
    "duration": 22,
    "start_time": "2022-05-07T09:12:47.141Z"
   },
   {
    "duration": 11,
    "start_time": "2022-05-07T09:12:47.165Z"
   },
   {
    "duration": 9,
    "start_time": "2022-05-07T09:12:47.178Z"
   },
   {
    "duration": 18,
    "start_time": "2022-05-07T09:12:47.189Z"
   },
   {
    "duration": 11,
    "start_time": "2022-05-07T09:12:47.209Z"
   },
   {
    "duration": 0,
    "start_time": "2022-05-07T09:12:47.238Z"
   },
   {
    "duration": 7,
    "start_time": "2022-05-07T09:13:04.099Z"
   },
   {
    "duration": 19,
    "start_time": "2022-05-07T09:13:09.524Z"
   },
   {
    "duration": 6,
    "start_time": "2022-05-07T11:02:25.290Z"
   },
   {
    "duration": 6,
    "start_time": "2022-05-07T11:43:21.220Z"
   },
   {
    "duration": 2,
    "start_time": "2022-05-07T11:43:27.693Z"
   },
   {
    "duration": 6,
    "start_time": "2022-05-07T11:43:27.698Z"
   },
   {
    "duration": 10,
    "start_time": "2022-05-07T11:43:27.706Z"
   },
   {
    "duration": 6,
    "start_time": "2022-05-07T11:43:27.718Z"
   },
   {
    "duration": 6,
    "start_time": "2022-05-07T11:43:27.726Z"
   },
   {
    "duration": 33,
    "start_time": "2022-05-07T11:43:27.737Z"
   },
   {
    "duration": 11,
    "start_time": "2022-05-07T11:43:27.772Z"
   },
   {
    "duration": 9,
    "start_time": "2022-05-07T11:43:27.785Z"
   },
   {
    "duration": 50,
    "start_time": "2022-05-07T11:43:27.796Z"
   },
   {
    "duration": 28,
    "start_time": "2022-05-07T11:43:27.847Z"
   },
   {
    "duration": 14,
    "start_time": "2022-05-07T11:43:27.876Z"
   },
   {
    "duration": 21,
    "start_time": "2022-05-07T11:43:27.891Z"
   },
   {
    "duration": 11,
    "start_time": "2022-05-07T11:43:27.913Z"
   },
   {
    "duration": 26,
    "start_time": "2022-05-07T11:43:27.941Z"
   },
   {
    "duration": 33,
    "start_time": "2022-05-07T11:43:27.969Z"
   },
   {
    "duration": 17,
    "start_time": "2022-05-07T11:43:28.004Z"
   },
   {
    "duration": 30,
    "start_time": "2022-05-07T11:43:28.035Z"
   },
   {
    "duration": 8,
    "start_time": "2022-05-07T11:43:28.067Z"
   },
   {
    "duration": 9,
    "start_time": "2022-05-07T11:43:28.077Z"
   },
   {
    "duration": 14,
    "start_time": "2022-05-07T11:43:28.088Z"
   },
   {
    "duration": 37,
    "start_time": "2022-05-07T11:43:28.104Z"
   },
   {
    "duration": 11,
    "start_time": "2022-05-07T11:43:28.144Z"
   },
   {
    "duration": 26,
    "start_time": "2022-05-07T11:43:28.157Z"
   },
   {
    "duration": 12,
    "start_time": "2022-05-07T11:43:28.185Z"
   },
   {
    "duration": 10,
    "start_time": "2022-05-07T11:43:28.199Z"
   },
   {
    "duration": 2469,
    "start_time": "2022-05-07T11:43:28.211Z"
   },
   {
    "duration": 5,
    "start_time": "2022-05-07T11:43:30.682Z"
   },
   {
    "duration": 21,
    "start_time": "2022-05-07T11:43:30.689Z"
   },
   {
    "duration": 23,
    "start_time": "2022-05-07T11:43:30.712Z"
   },
   {
    "duration": 33,
    "start_time": "2022-05-07T11:43:30.737Z"
   },
   {
    "duration": 17,
    "start_time": "2022-05-07T11:43:30.771Z"
   },
   {
    "duration": 20,
    "start_time": "2022-05-07T11:43:30.790Z"
   },
   {
    "duration": 12,
    "start_time": "2022-05-07T11:43:30.812Z"
   },
   {
    "duration": 52,
    "start_time": "2022-05-07T11:43:30.826Z"
   },
   {
    "duration": 522,
    "start_time": "2022-05-07T11:43:30.880Z"
   },
   {
    "duration": 411,
    "start_time": "2022-05-07T11:43:31.404Z"
   },
   {
    "duration": 24,
    "start_time": "2022-05-07T11:43:31.816Z"
   },
   {
    "duration": 17,
    "start_time": "2022-05-07T11:43:31.847Z"
   },
   {
    "duration": 13,
    "start_time": "2022-05-07T11:43:31.866Z"
   },
   {
    "duration": 15,
    "start_time": "2022-05-07T11:43:31.880Z"
   },
   {
    "duration": 16,
    "start_time": "2022-05-07T11:43:31.897Z"
   },
   {
    "duration": 13,
    "start_time": "2022-05-07T11:43:31.915Z"
   },
   {
    "duration": 1589,
    "start_time": "2022-05-07T11:43:31.930Z"
   },
   {
    "duration": 16,
    "start_time": "2022-05-07T11:43:33.521Z"
   },
   {
    "duration": 25,
    "start_time": "2022-05-07T11:43:46.184Z"
   },
   {
    "duration": 269,
    "start_time": "2022-05-07T11:44:09.757Z"
   },
   {
    "duration": 3,
    "start_time": "2022-05-07T11:46:27.972Z"
   },
   {
    "duration": 3,
    "start_time": "2022-05-07T11:46:30.962Z"
   },
   {
    "duration": 3,
    "start_time": "2022-05-07T11:46:32.820Z"
   },
   {
    "duration": 1546,
    "start_time": "2022-05-07T11:46:43.653Z"
   },
   {
    "duration": 1436,
    "start_time": "2022-05-07T11:46:55.051Z"
   },
   {
    "duration": 9,
    "start_time": "2022-05-07T11:47:10.152Z"
   },
   {
    "duration": 33,
    "start_time": "2022-05-07T11:47:12.332Z"
   },
   {
    "duration": 280,
    "start_time": "2022-05-07T11:47:16.824Z"
   },
   {
    "duration": 3,
    "start_time": "2022-05-07T11:47:20.758Z"
   },
   {
    "duration": 5,
    "start_time": "2022-05-07T11:47:21.259Z"
   },
   {
    "duration": 4,
    "start_time": "2022-05-07T11:47:23.020Z"
   },
   {
    "duration": 1397,
    "start_time": "2022-05-07T11:47:26.212Z"
   },
   {
    "duration": 15,
    "start_time": "2022-05-07T11:47:42.404Z"
   },
   {
    "duration": 9,
    "start_time": "2022-05-07T11:47:43.284Z"
   },
   {
    "duration": 4,
    "start_time": "2022-05-07T11:50:30.820Z"
   },
   {
    "duration": 5,
    "start_time": "2022-05-07T11:50:35.864Z"
   },
   {
    "duration": 7,
    "start_time": "2022-05-07T11:52:35.852Z"
   },
   {
    "duration": 4,
    "start_time": "2022-05-07T11:52:36.416Z"
   },
   {
    "duration": 2059,
    "start_time": "2022-05-07T11:52:39.108Z"
   },
   {
    "duration": 3,
    "start_time": "2022-05-07T11:53:05.679Z"
   },
   {
    "duration": 2044,
    "start_time": "2022-05-07T11:53:06.352Z"
   },
   {
    "duration": 3,
    "start_time": "2022-05-07T11:54:10.284Z"
   },
   {
    "duration": 2038,
    "start_time": "2022-05-07T11:54:10.804Z"
   },
   {
    "duration": 3,
    "start_time": "2022-05-07T11:54:39.599Z"
   },
   {
    "duration": 1983,
    "start_time": "2022-05-07T11:54:39.899Z"
   },
   {
    "duration": 3,
    "start_time": "2022-05-07T11:55:16.179Z"
   },
   {
    "duration": 2055,
    "start_time": "2022-05-07T11:55:16.927Z"
   },
   {
    "duration": 8,
    "start_time": "2022-05-07T11:55:47.269Z"
   },
   {
    "duration": 2094,
    "start_time": "2022-05-07T11:55:47.623Z"
   },
   {
    "duration": 6,
    "start_time": "2022-05-07T12:03:07.388Z"
   },
   {
    "duration": 26,
    "start_time": "2022-05-07T12:03:10.768Z"
   },
   {
    "duration": 233,
    "start_time": "2022-05-07T12:03:35.521Z"
   },
   {
    "duration": 3,
    "start_time": "2022-05-07T12:06:28.409Z"
   },
   {
    "duration": 3,
    "start_time": "2022-05-07T12:06:33.562Z"
   },
   {
    "duration": 3,
    "start_time": "2022-05-07T12:06:36.313Z"
   },
   {
    "duration": 1074,
    "start_time": "2022-05-07T12:06:41.557Z"
   },
   {
    "duration": 250,
    "start_time": "2022-05-07T12:07:17.850Z"
   },
   {
    "duration": 14,
    "start_time": "2022-05-07T12:07:58.566Z"
   },
   {
    "duration": 10,
    "start_time": "2022-05-07T12:08:02.825Z"
   },
   {
    "duration": 331,
    "start_time": "2022-05-07T12:13:48.579Z"
   },
   {
    "duration": 3,
    "start_time": "2022-05-07T12:18:16.400Z"
   },
   {
    "duration": 5,
    "start_time": "2022-05-07T12:18:16.882Z"
   },
   {
    "duration": 6,
    "start_time": "2022-05-07T12:18:26.170Z"
   },
   {
    "duration": 26,
    "start_time": "2022-05-07T12:18:27.546Z"
   },
   {
    "duration": 16,
    "start_time": "2022-05-07T12:18:46.283Z"
   },
   {
    "duration": 7,
    "start_time": "2022-05-07T12:18:47.463Z"
   },
   {
    "duration": 251,
    "start_time": "2022-05-07T12:19:20.587Z"
   },
   {
    "duration": 12,
    "start_time": "2022-05-07T12:19:42.999Z"
   },
   {
    "duration": 30,
    "start_time": "2022-05-07T12:19:45.731Z"
   },
   {
    "duration": 5,
    "start_time": "2022-05-07T12:22:32.394Z"
   },
   {
    "duration": 3,
    "start_time": "2022-05-07T12:22:34.103Z"
   },
   {
    "duration": 6,
    "start_time": "2022-05-07T12:22:42.634Z"
   },
   {
    "duration": 6,
    "start_time": "2022-05-07T12:22:45.550Z"
   },
   {
    "duration": 3,
    "start_time": "2022-05-07T12:22:50.615Z"
   },
   {
    "duration": 447,
    "start_time": "2022-05-07T12:22:54.784Z"
   },
   {
    "duration": 14,
    "start_time": "2022-05-07T12:23:46.775Z"
   },
   {
    "duration": 3,
    "start_time": "2022-05-07T12:23:54.210Z"
   },
   {
    "duration": 6,
    "start_time": "2022-05-07T12:23:54.215Z"
   },
   {
    "duration": 9,
    "start_time": "2022-05-07T12:23:54.223Z"
   },
   {
    "duration": 23,
    "start_time": "2022-05-07T12:23:54.239Z"
   },
   {
    "duration": 12,
    "start_time": "2022-05-07T12:23:54.264Z"
   },
   {
    "duration": 9,
    "start_time": "2022-05-07T12:23:54.278Z"
   },
   {
    "duration": 6,
    "start_time": "2022-05-07T12:23:54.289Z"
   },
   {
    "duration": 6,
    "start_time": "2022-05-07T12:23:54.297Z"
   },
   {
    "duration": 59,
    "start_time": "2022-05-07T12:23:54.306Z"
   },
   {
    "duration": 23,
    "start_time": "2022-05-07T12:23:54.367Z"
   },
   {
    "duration": 6,
    "start_time": "2022-05-07T12:23:54.392Z"
   },
   {
    "duration": 39,
    "start_time": "2022-05-07T12:23:54.400Z"
   },
   {
    "duration": 16,
    "start_time": "2022-05-07T12:23:54.443Z"
   },
   {
    "duration": 22,
    "start_time": "2022-05-07T12:23:54.461Z"
   },
   {
    "duration": 33,
    "start_time": "2022-05-07T12:23:54.485Z"
   },
   {
    "duration": 41,
    "start_time": "2022-05-07T12:23:54.520Z"
   },
   {
    "duration": 16,
    "start_time": "2022-05-07T12:23:54.563Z"
   },
   {
    "duration": 7,
    "start_time": "2022-05-07T12:23:54.581Z"
   },
   {
    "duration": 7,
    "start_time": "2022-05-07T12:23:54.590Z"
   },
   {
    "duration": 54,
    "start_time": "2022-05-07T12:23:54.599Z"
   },
   {
    "duration": 18,
    "start_time": "2022-05-07T12:23:54.655Z"
   },
   {
    "duration": 3,
    "start_time": "2022-05-07T12:23:54.675Z"
   },
   {
    "duration": 18,
    "start_time": "2022-05-07T12:23:54.680Z"
   },
   {
    "duration": 10,
    "start_time": "2022-05-07T12:23:54.704Z"
   },
   {
    "duration": 25,
    "start_time": "2022-05-07T12:23:54.716Z"
   },
   {
    "duration": 2528,
    "start_time": "2022-05-07T12:23:54.743Z"
   },
   {
    "duration": 5,
    "start_time": "2022-05-07T12:23:57.272Z"
   },
   {
    "duration": 8,
    "start_time": "2022-05-07T12:23:57.279Z"
   },
   {
    "duration": 8,
    "start_time": "2022-05-07T12:23:57.288Z"
   },
   {
    "duration": 7,
    "start_time": "2022-05-07T12:23:57.297Z"
   },
   {
    "duration": 7,
    "start_time": "2022-05-07T12:23:57.305Z"
   },
   {
    "duration": 47,
    "start_time": "2022-05-07T12:23:57.313Z"
   },
   {
    "duration": 7,
    "start_time": "2022-05-07T12:23:57.363Z"
   },
   {
    "duration": 17,
    "start_time": "2022-05-07T12:23:57.371Z"
   },
   {
    "duration": 468,
    "start_time": "2022-05-07T12:23:57.390Z"
   },
   {
    "duration": 408,
    "start_time": "2022-05-07T12:23:57.861Z"
   },
   {
    "duration": 13,
    "start_time": "2022-05-07T12:23:58.271Z"
   },
   {
    "duration": 9,
    "start_time": "2022-05-07T12:23:58.286Z"
   },
   {
    "duration": 5,
    "start_time": "2022-05-07T12:23:58.297Z"
   },
   {
    "duration": 7,
    "start_time": "2022-05-07T12:23:58.303Z"
   },
   {
    "duration": 26,
    "start_time": "2022-05-07T12:23:58.312Z"
   },
   {
    "duration": 25,
    "start_time": "2022-05-07T12:23:58.342Z"
   },
   {
    "duration": 2053,
    "start_time": "2022-05-07T12:23:58.369Z"
   },
   {
    "duration": 16,
    "start_time": "2022-05-07T12:24:00.424Z"
   },
   {
    "duration": 43,
    "start_time": "2022-05-07T12:24:00.445Z"
   },
   {
    "duration": 267,
    "start_time": "2022-05-07T12:24:00.490Z"
   },
   {
    "duration": 3,
    "start_time": "2022-05-07T12:24:00.760Z"
   },
   {
    "duration": 14,
    "start_time": "2022-05-07T12:24:00.765Z"
   },
   {
    "duration": 30,
    "start_time": "2022-05-07T12:24:00.780Z"
   },
   {
    "duration": 1204,
    "start_time": "2022-05-07T12:24:00.811Z"
   },
   {
    "duration": 32,
    "start_time": "2022-05-07T12:24:02.017Z"
   },
   {
    "duration": 20,
    "start_time": "2022-05-07T12:24:02.051Z"
   },
   {
    "duration": 9,
    "start_time": "2022-05-07T12:24:02.073Z"
   },
   {
    "duration": 15,
    "start_time": "2022-05-07T12:24:02.083Z"
   },
   {
    "duration": 27,
    "start_time": "2022-05-07T12:24:02.101Z"
   },
   {
    "duration": 62,
    "start_time": "2022-05-07T12:24:02.130Z"
   },
   {
    "duration": 13,
    "start_time": "2022-05-07T12:24:02.194Z"
   },
   {
    "duration": 15,
    "start_time": "2022-05-07T12:24:02.209Z"
   },
   {
    "duration": 287,
    "start_time": "2022-05-07T12:24:02.226Z"
   },
   {
    "duration": 12,
    "start_time": "2022-05-07T12:24:02.515Z"
   },
   {
    "duration": 37,
    "start_time": "2022-05-07T12:24:02.533Z"
   },
   {
    "duration": 381,
    "start_time": "2022-05-07T12:24:02.572Z"
   },
   {
    "duration": 7,
    "start_time": "2022-05-07T12:24:02.955Z"
   },
   {
    "duration": 10,
    "start_time": "2022-05-07T12:24:02.964Z"
   },
   {
    "duration": 11,
    "start_time": "2022-05-07T12:24:02.976Z"
   },
   {
    "duration": 10,
    "start_time": "2022-05-07T12:24:02.988Z"
   },
   {
    "duration": 9,
    "start_time": "2022-05-07T12:24:03.000Z"
   },
   {
    "duration": 468,
    "start_time": "2022-05-07T12:24:03.011Z"
   },
   {
    "duration": 5,
    "start_time": "2022-05-07T12:24:29.835Z"
   },
   {
    "duration": 13,
    "start_time": "2022-05-07T12:24:30.492Z"
   },
   {
    "duration": 11,
    "start_time": "2022-05-07T13:28:33.275Z"
   },
   {
    "duration": 11,
    "start_time": "2022-05-07T13:31:37.922Z"
   },
   {
    "duration": 8,
    "start_time": "2022-05-07T13:31:39.746Z"
   },
   {
    "duration": 516,
    "start_time": "2022-05-07T13:32:00.579Z"
   },
   {
    "duration": 3,
    "start_time": "2022-05-07T13:35:37.315Z"
   },
   {
    "duration": 4,
    "start_time": "2022-05-07T13:35:39.655Z"
   },
   {
    "duration": 3,
    "start_time": "2022-05-07T13:35:40.638Z"
   },
   {
    "duration": 594,
    "start_time": "2022-05-07T13:35:47.066Z"
   },
   {
    "duration": 4,
    "start_time": "2022-05-07T13:39:03.000Z"
   },
   {
    "duration": 564,
    "start_time": "2022-05-07T13:39:40.430Z"
   },
   {
    "duration": 8,
    "start_time": "2022-05-07T13:41:43.114Z"
   },
   {
    "duration": 12,
    "start_time": "2022-05-07T13:41:52.230Z"
   },
   {
    "duration": 11,
    "start_time": "2022-05-07T13:41:58.359Z"
   },
   {
    "duration": 4,
    "start_time": "2022-05-07T13:44:48.422Z"
   },
   {
    "duration": 3,
    "start_time": "2022-05-07T13:44:56.514Z"
   },
   {
    "duration": 618,
    "start_time": "2022-05-07T13:45:03.854Z"
   },
   {
    "duration": 4,
    "start_time": "2022-05-07T13:48:53.246Z"
   },
   {
    "duration": 3,
    "start_time": "2022-05-07T13:48:53.806Z"
   },
   {
    "duration": 559,
    "start_time": "2022-05-07T13:48:57.122Z"
   },
   {
    "duration": 7,
    "start_time": "2022-05-07T14:38:41.845Z"
   },
   {
    "duration": 6,
    "start_time": "2022-05-07T14:38:44.097Z"
   },
   {
    "duration": 3,
    "start_time": "2022-05-07T14:38:50.249Z"
   },
   {
    "duration": 4,
    "start_time": "2022-05-07T14:38:50.881Z"
   },
   {
    "duration": 3,
    "start_time": "2022-05-07T14:38:56.157Z"
   },
   {
    "duration": 3,
    "start_time": "2022-05-07T14:39:04.749Z"
   },
   {
    "duration": 4,
    "start_time": "2022-05-07T14:39:05.701Z"
   },
   {
    "duration": 4,
    "start_time": "2022-05-07T14:39:22.593Z"
   },
   {
    "duration": 3,
    "start_time": "2022-05-07T14:40:00.453Z"
   },
   {
    "duration": 7,
    "start_time": "2022-05-07T14:40:00.460Z"
   },
   {
    "duration": 5,
    "start_time": "2022-05-07T14:40:00.470Z"
   },
   {
    "duration": 7,
    "start_time": "2022-05-07T14:40:00.477Z"
   },
   {
    "duration": 14,
    "start_time": "2022-05-07T14:40:00.487Z"
   },
   {
    "duration": 20,
    "start_time": "2022-05-07T14:40:00.503Z"
   },
   {
    "duration": 38,
    "start_time": "2022-05-07T14:40:00.527Z"
   },
   {
    "duration": 11,
    "start_time": "2022-05-07T14:40:00.568Z"
   },
   {
    "duration": 91,
    "start_time": "2022-05-07T14:40:00.582Z"
   },
   {
    "duration": 25,
    "start_time": "2022-05-07T14:40:00.676Z"
   },
   {
    "duration": 6,
    "start_time": "2022-05-07T14:40:00.707Z"
   },
   {
    "duration": 27,
    "start_time": "2022-05-07T14:40:00.733Z"
   },
   {
    "duration": 18,
    "start_time": "2022-05-07T14:40:00.763Z"
   },
   {
    "duration": 23,
    "start_time": "2022-05-07T14:40:00.783Z"
   },
   {
    "duration": 63,
    "start_time": "2022-05-07T14:40:00.808Z"
   },
   {
    "duration": 18,
    "start_time": "2022-05-07T14:40:00.872Z"
   },
   {
    "duration": 17,
    "start_time": "2022-05-07T14:40:00.892Z"
   },
   {
    "duration": 10,
    "start_time": "2022-05-07T14:40:00.934Z"
   },
   {
    "duration": 123,
    "start_time": "2022-05-07T14:40:00.946Z"
   },
   {
    "duration": 23,
    "start_time": "2022-05-07T14:40:01.071Z"
   },
   {
    "duration": 12,
    "start_time": "2022-05-07T14:40:01.096Z"
   },
   {
    "duration": 8,
    "start_time": "2022-05-07T14:40:01.110Z"
   },
   {
    "duration": 29,
    "start_time": "2022-05-07T14:40:01.120Z"
   },
   {
    "duration": 15,
    "start_time": "2022-05-07T14:40:01.151Z"
   },
   {
    "duration": 12,
    "start_time": "2022-05-07T14:40:01.168Z"
   },
   {
    "duration": 2605,
    "start_time": "2022-05-07T14:40:01.182Z"
   },
   {
    "duration": 5,
    "start_time": "2022-05-07T14:40:03.789Z"
   },
   {
    "duration": 9,
    "start_time": "2022-05-07T14:40:03.795Z"
   },
   {
    "duration": 26,
    "start_time": "2022-05-07T14:40:03.808Z"
   },
   {
    "duration": 5,
    "start_time": "2022-05-07T14:40:03.835Z"
   },
   {
    "duration": 11,
    "start_time": "2022-05-07T14:40:03.842Z"
   },
   {
    "duration": 17,
    "start_time": "2022-05-07T14:40:03.856Z"
   },
   {
    "duration": 7,
    "start_time": "2022-05-07T14:40:03.875Z"
   },
   {
    "duration": 50,
    "start_time": "2022-05-07T14:40:03.883Z"
   },
   {
    "duration": 450,
    "start_time": "2022-05-07T14:40:03.935Z"
   },
   {
    "duration": 413,
    "start_time": "2022-05-07T14:40:04.387Z"
   },
   {
    "duration": 18,
    "start_time": "2022-05-07T14:40:04.802Z"
   },
   {
    "duration": 15,
    "start_time": "2022-05-07T14:40:04.835Z"
   },
   {
    "duration": 9,
    "start_time": "2022-05-07T14:40:04.852Z"
   },
   {
    "duration": 21,
    "start_time": "2022-05-07T14:40:04.863Z"
   },
   {
    "duration": 7,
    "start_time": "2022-05-07T14:40:04.886Z"
   },
   {
    "duration": 6,
    "start_time": "2022-05-07T14:40:04.896Z"
   },
   {
    "duration": 2000,
    "start_time": "2022-05-07T14:40:04.904Z"
   },
   {
    "duration": 6,
    "start_time": "2022-05-07T14:40:06.906Z"
   },
   {
    "duration": 38,
    "start_time": "2022-05-07T14:40:06.914Z"
   },
   {
    "duration": 271,
    "start_time": "2022-05-07T14:40:06.954Z"
   },
   {
    "duration": 5,
    "start_time": "2022-05-07T14:40:07.228Z"
   },
   {
    "duration": 5,
    "start_time": "2022-05-07T14:40:07.236Z"
   },
   {
    "duration": 6,
    "start_time": "2022-05-07T14:40:07.243Z"
   },
   {
    "duration": 1231,
    "start_time": "2022-05-07T14:40:07.252Z"
   },
   {
    "duration": 13,
    "start_time": "2022-05-07T14:40:08.485Z"
   },
   {
    "duration": 9,
    "start_time": "2022-05-07T14:40:08.500Z"
   },
   {
    "duration": 24,
    "start_time": "2022-05-07T14:40:08.510Z"
   },
   {
    "duration": 10,
    "start_time": "2022-05-07T14:40:08.535Z"
   },
   {
    "duration": 12,
    "start_time": "2022-05-07T14:40:08.547Z"
   },
   {
    "duration": 26,
    "start_time": "2022-05-07T14:40:08.561Z"
   },
   {
    "duration": 13,
    "start_time": "2022-05-07T14:40:08.589Z"
   },
   {
    "duration": 13,
    "start_time": "2022-05-07T14:40:08.604Z"
   },
   {
    "duration": 276,
    "start_time": "2022-05-07T14:40:08.618Z"
   },
   {
    "duration": 11,
    "start_time": "2022-05-07T14:40:08.896Z"
   },
   {
    "duration": 38,
    "start_time": "2022-05-07T14:40:08.908Z"
   },
   {
    "duration": 264,
    "start_time": "2022-05-07T14:40:08.948Z"
   },
   {
    "duration": 4,
    "start_time": "2022-05-07T14:40:09.214Z"
   },
   {
    "duration": 17,
    "start_time": "2022-05-07T14:40:09.220Z"
   },
   {
    "duration": 5,
    "start_time": "2022-05-07T14:40:09.239Z"
   },
   {
    "duration": 13,
    "start_time": "2022-05-07T14:40:09.246Z"
   },
   {
    "duration": 7,
    "start_time": "2022-05-07T14:40:09.261Z"
   },
   {
    "duration": 450,
    "start_time": "2022-05-07T14:40:09.269Z"
   },
   {
    "duration": 19,
    "start_time": "2022-05-07T14:40:09.721Z"
   },
   {
    "duration": 6,
    "start_time": "2022-05-07T14:40:09.742Z"
   },
   {
    "duration": 16,
    "start_time": "2022-05-07T14:40:09.750Z"
   },
   {
    "duration": 14,
    "start_time": "2022-05-07T14:40:09.768Z"
   },
   {
    "duration": 14,
    "start_time": "2022-05-07T14:40:09.784Z"
   },
   {
    "duration": 8,
    "start_time": "2022-05-07T14:40:09.800Z"
   },
   {
    "duration": 526,
    "start_time": "2022-05-07T14:40:09.834Z"
   },
   {
    "duration": 3,
    "start_time": "2022-05-07T14:40:10.362Z"
   },
   {
    "duration": 5,
    "start_time": "2022-05-07T14:40:10.368Z"
   },
   {
    "duration": 6,
    "start_time": "2022-05-07T14:40:10.375Z"
   },
   {
    "duration": 579,
    "start_time": "2022-05-07T14:40:10.382Z"
   },
   {
    "duration": 3,
    "start_time": "2022-05-07T14:40:10.964Z"
   },
   {
    "duration": 679,
    "start_time": "2022-05-07T14:40:10.970Z"
   },
   {
    "duration": 4,
    "start_time": "2022-05-07T14:40:11.652Z"
   },
   {
    "duration": 4,
    "start_time": "2022-05-07T14:40:11.662Z"
   },
   {
    "duration": 575,
    "start_time": "2022-05-07T14:40:11.667Z"
   },
   {
    "duration": 6,
    "start_time": "2022-05-07T14:40:12.244Z"
   },
   {
    "duration": 9,
    "start_time": "2022-05-07T14:40:12.252Z"
   },
   {
    "duration": 6,
    "start_time": "2022-05-07T14:40:12.263Z"
   },
   {
    "duration": 6,
    "start_time": "2022-05-07T14:40:12.271Z"
   },
   {
    "duration": 5,
    "start_time": "2022-05-07T14:40:12.279Z"
   },
   {
    "duration": 6,
    "start_time": "2022-05-07T14:40:12.285Z"
   },
   {
    "duration": 6,
    "start_time": "2022-05-07T14:40:12.292Z"
   },
   {
    "duration": 36,
    "start_time": "2022-05-07T14:40:12.299Z"
   },
   {
    "duration": 4,
    "start_time": "2022-05-07T14:45:46.285Z"
   },
   {
    "duration": 3,
    "start_time": "2022-05-07T14:45:55.104Z"
   },
   {
    "duration": 15,
    "start_time": "2022-05-07T14:47:35.557Z"
   },
   {
    "duration": 3,
    "start_time": "2022-05-07T14:48:47.140Z"
   },
   {
    "duration": 10,
    "start_time": "2022-05-07T14:48:47.151Z"
   },
   {
    "duration": 6,
    "start_time": "2022-05-07T14:48:47.165Z"
   },
   {
    "duration": 6,
    "start_time": "2022-05-07T14:48:47.174Z"
   },
   {
    "duration": 9,
    "start_time": "2022-05-07T14:48:47.182Z"
   },
   {
    "duration": 4,
    "start_time": "2022-05-07T14:48:47.195Z"
   },
   {
    "duration": 3,
    "start_time": "2022-05-07T14:48:47.237Z"
   },
   {
    "duration": 17,
    "start_time": "2022-05-07T14:48:47.243Z"
   },
   {
    "duration": 90,
    "start_time": "2022-05-07T14:48:47.265Z"
   },
   {
    "duration": 25,
    "start_time": "2022-05-07T14:48:47.358Z"
   },
   {
    "duration": 7,
    "start_time": "2022-05-07T14:48:47.385Z"
   },
   {
    "duration": 40,
    "start_time": "2022-05-07T14:48:47.394Z"
   },
   {
    "duration": 19,
    "start_time": "2022-05-07T14:48:47.437Z"
   },
   {
    "duration": 18,
    "start_time": "2022-05-07T14:48:47.457Z"
   },
   {
    "duration": 66,
    "start_time": "2022-05-07T14:48:47.480Z"
   },
   {
    "duration": 20,
    "start_time": "2022-05-07T14:48:47.549Z"
   },
   {
    "duration": 16,
    "start_time": "2022-05-07T14:48:47.571Z"
   },
   {
    "duration": 10,
    "start_time": "2022-05-07T14:48:47.590Z"
   },
   {
    "duration": 39,
    "start_time": "2022-05-07T14:48:47.602Z"
   },
   {
    "duration": 27,
    "start_time": "2022-05-07T14:48:47.643Z"
   },
   {
    "duration": 12,
    "start_time": "2022-05-07T14:48:47.673Z"
   },
   {
    "duration": 3,
    "start_time": "2022-05-07T14:48:47.687Z"
   },
   {
    "duration": 60,
    "start_time": "2022-05-07T14:48:47.692Z"
   },
   {
    "duration": 16,
    "start_time": "2022-05-07T14:48:47.759Z"
   },
   {
    "duration": 20,
    "start_time": "2022-05-07T14:48:47.778Z"
   },
   {
    "duration": 2724,
    "start_time": "2022-05-07T14:48:47.801Z"
   },
   {
    "duration": 12,
    "start_time": "2022-05-07T14:48:50.527Z"
   },
   {
    "duration": 18,
    "start_time": "2022-05-07T14:48:50.544Z"
   },
   {
    "duration": 6,
    "start_time": "2022-05-07T14:48:50.565Z"
   },
   {
    "duration": 8,
    "start_time": "2022-05-07T14:48:50.573Z"
   },
   {
    "duration": 9,
    "start_time": "2022-05-07T14:48:50.583Z"
   },
   {
    "duration": 16,
    "start_time": "2022-05-07T14:48:50.594Z"
   },
   {
    "duration": 10,
    "start_time": "2022-05-07T14:48:50.635Z"
   },
   {
    "duration": 29,
    "start_time": "2022-05-07T14:48:50.648Z"
   },
   {
    "duration": 487,
    "start_time": "2022-05-07T14:48:50.680Z"
   },
   {
    "duration": 418,
    "start_time": "2022-05-07T14:48:51.169Z"
   },
   {
    "duration": 13,
    "start_time": "2022-05-07T14:48:51.590Z"
   },
   {
    "duration": 11,
    "start_time": "2022-05-07T14:48:51.606Z"
   },
   {
    "duration": 9,
    "start_time": "2022-05-07T14:48:51.640Z"
   },
   {
    "duration": 10,
    "start_time": "2022-05-07T14:48:51.654Z"
   },
   {
    "duration": 4,
    "start_time": "2022-05-07T14:48:51.667Z"
   },
   {
    "duration": 4,
    "start_time": "2022-05-07T14:48:51.684Z"
   },
   {
    "duration": 2297,
    "start_time": "2022-05-07T14:48:51.691Z"
   },
   {
    "duration": 7,
    "start_time": "2022-05-07T14:48:53.990Z"
   },
   {
    "duration": 58,
    "start_time": "2022-05-07T14:48:53.999Z"
   },
   {
    "duration": 267,
    "start_time": "2022-05-07T14:48:54.059Z"
   },
   {
    "duration": 7,
    "start_time": "2022-05-07T14:48:54.332Z"
   },
   {
    "duration": 11,
    "start_time": "2022-05-07T14:48:54.342Z"
   },
   {
    "duration": 11,
    "start_time": "2022-05-07T14:48:54.356Z"
   },
   {
    "duration": 1245,
    "start_time": "2022-05-07T14:48:54.370Z"
   },
   {
    "duration": 25,
    "start_time": "2022-05-07T14:48:55.617Z"
   },
   {
    "duration": 20,
    "start_time": "2022-05-07T14:48:55.645Z"
   },
   {
    "duration": 5,
    "start_time": "2022-05-07T14:48:55.668Z"
   },
   {
    "duration": 7,
    "start_time": "2022-05-07T14:48:55.675Z"
   },
   {
    "duration": 7,
    "start_time": "2022-05-07T14:48:55.685Z"
   },
   {
    "duration": 68,
    "start_time": "2022-05-07T14:48:55.695Z"
   },
   {
    "duration": 19,
    "start_time": "2022-05-07T14:48:55.765Z"
   },
   {
    "duration": 12,
    "start_time": "2022-05-07T14:48:55.787Z"
   },
   {
    "duration": 312,
    "start_time": "2022-05-07T14:48:55.801Z"
   },
   {
    "duration": 29,
    "start_time": "2022-05-07T14:48:56.116Z"
   },
   {
    "duration": 45,
    "start_time": "2022-05-07T14:48:56.149Z"
   },
   {
    "duration": 408,
    "start_time": "2022-05-07T14:48:56.196Z"
   },
   {
    "duration": 4,
    "start_time": "2022-05-07T14:48:56.606Z"
   },
   {
    "duration": 6,
    "start_time": "2022-05-07T14:48:56.612Z"
   },
   {
    "duration": 33,
    "start_time": "2022-05-07T14:48:56.619Z"
   },
   {
    "duration": 11,
    "start_time": "2022-05-07T14:48:56.655Z"
   },
   {
    "duration": 11,
    "start_time": "2022-05-07T14:48:56.667Z"
   },
   {
    "duration": 500,
    "start_time": "2022-05-07T14:48:56.680Z"
   },
   {
    "duration": 14,
    "start_time": "2022-05-07T14:48:57.181Z"
   },
   {
    "duration": 10,
    "start_time": "2022-05-07T14:48:57.197Z"
   },
   {
    "duration": 49,
    "start_time": "2022-05-07T14:48:57.208Z"
   },
   {
    "duration": 12,
    "start_time": "2022-05-07T14:48:57.259Z"
   },
   {
    "duration": 14,
    "start_time": "2022-05-07T14:48:57.272Z"
   },
   {
    "duration": 10,
    "start_time": "2022-05-07T14:48:57.288Z"
   },
   {
    "duration": 610,
    "start_time": "2022-05-07T14:48:57.299Z"
   },
   {
    "duration": 4,
    "start_time": "2022-05-07T14:48:57.911Z"
   },
   {
    "duration": 17,
    "start_time": "2022-05-07T14:48:57.917Z"
   },
   {
    "duration": 14,
    "start_time": "2022-05-07T14:48:57.936Z"
   },
   {
    "duration": 625,
    "start_time": "2022-05-07T14:48:57.952Z"
   },
   {
    "duration": 3,
    "start_time": "2022-05-07T14:48:58.580Z"
   },
   {
    "duration": 684,
    "start_time": "2022-05-07T14:48:58.586Z"
   },
   {
    "duration": 5,
    "start_time": "2022-05-07T14:48:59.272Z"
   },
   {
    "duration": 6,
    "start_time": "2022-05-07T14:48:59.279Z"
   },
   {
    "duration": 746,
    "start_time": "2022-05-07T14:48:59.287Z"
   },
   {
    "duration": 12,
    "start_time": "2022-05-07T14:49:00.037Z"
   },
   {
    "duration": 13,
    "start_time": "2022-05-07T14:49:00.053Z"
   },
   {
    "duration": 5,
    "start_time": "2022-05-07T14:49:00.068Z"
   },
   {
    "duration": 7,
    "start_time": "2022-05-07T14:49:00.075Z"
   },
   {
    "duration": 8,
    "start_time": "2022-05-07T14:49:00.085Z"
   },
   {
    "duration": 7,
    "start_time": "2022-05-07T14:49:00.095Z"
   },
   {
    "duration": 34,
    "start_time": "2022-05-07T14:49:00.105Z"
   },
   {
    "duration": 24,
    "start_time": "2022-05-07T14:49:00.141Z"
   },
   {
    "duration": 7,
    "start_time": "2022-05-07T14:49:00.167Z"
   },
   {
    "duration": 8,
    "start_time": "2022-05-07T14:49:00.177Z"
   },
   {
    "duration": 10,
    "start_time": "2022-05-07T14:49:00.187Z"
   },
   {
    "duration": 9,
    "start_time": "2022-05-07T14:49:00.199Z"
   },
   {
    "duration": 32,
    "start_time": "2022-05-07T14:49:00.210Z"
   },
   {
    "duration": 13,
    "start_time": "2022-05-07T14:49:00.248Z"
   },
   {
    "duration": 11,
    "start_time": "2022-05-07T14:49:00.263Z"
   },
   {
    "duration": 26,
    "start_time": "2022-05-07T14:49:00.277Z"
   },
   {
    "duration": 19,
    "start_time": "2022-05-07T14:53:34.449Z"
   },
   {
    "duration": 5,
    "start_time": "2022-05-07T14:55:46.533Z"
   },
   {
    "duration": 3,
    "start_time": "2022-05-07T14:55:47.575Z"
   },
   {
    "duration": 4,
    "start_time": "2022-05-07T14:57:03.779Z"
   },
   {
    "duration": 4,
    "start_time": "2022-05-07T14:57:22.619Z"
   },
   {
    "duration": 3,
    "start_time": "2022-05-07T14:57:23.011Z"
   },
   {
    "duration": 4,
    "start_time": "2022-05-07T14:57:23.587Z"
   },
   {
    "duration": 3,
    "start_time": "2022-05-07T14:57:25.828Z"
   },
   {
    "duration": 3,
    "start_time": "2022-05-07T15:07:14.499Z"
   },
   {
    "duration": 4,
    "start_time": "2022-05-07T15:07:16.846Z"
   },
   {
    "duration": 3,
    "start_time": "2022-05-07T15:07:18.831Z"
   },
   {
    "duration": 3,
    "start_time": "2022-05-07T15:07:26.795Z"
   },
   {
    "duration": 3,
    "start_time": "2022-05-07T15:07:28.126Z"
   },
   {
    "duration": 4,
    "start_time": "2022-05-07T15:07:28.698Z"
   },
   {
    "duration": 3,
    "start_time": "2022-05-07T15:07:29.631Z"
   },
   {
    "duration": 7,
    "start_time": "2022-05-07T15:23:10.601Z"
   },
   {
    "duration": 6,
    "start_time": "2022-05-07T15:23:12.341Z"
   },
   {
    "duration": 3,
    "start_time": "2022-05-07T15:23:19.830Z"
   },
   {
    "duration": 3,
    "start_time": "2022-05-07T15:23:20.358Z"
   },
   {
    "duration": 4,
    "start_time": "2022-05-07T15:23:31.733Z"
   },
   {
    "duration": 3,
    "start_time": "2022-05-07T15:23:32.793Z"
   },
   {
    "duration": 4,
    "start_time": "2022-05-07T15:23:33.729Z"
   },
   {
    "duration": 4,
    "start_time": "2022-05-07T15:25:22.825Z"
   },
   {
    "duration": 4,
    "start_time": "2022-05-07T15:25:26.269Z"
   },
   {
    "duration": 4,
    "start_time": "2022-05-07T15:25:31.049Z"
   },
   {
    "duration": 3,
    "start_time": "2022-05-07T15:30:31.285Z"
   },
   {
    "duration": 2,
    "start_time": "2022-05-07T15:30:32.641Z"
   },
   {
    "duration": 3,
    "start_time": "2022-05-07T15:30:34.305Z"
   },
   {
    "duration": 4,
    "start_time": "2022-05-07T15:30:39.260Z"
   },
   {
    "duration": 3,
    "start_time": "2022-05-07T15:30:54.481Z"
   },
   {
    "duration": 3,
    "start_time": "2022-05-07T15:30:59.617Z"
   },
   {
    "duration": 3,
    "start_time": "2022-05-07T15:31:05.041Z"
   }
  ],
  "celltoolbar": "Необработанный формат ячейки",
  "kernelspec": {
   "display_name": "Python 3 (ipykernel)",
   "language": "python",
   "name": "python3"
  },
  "language_info": {
   "codemirror_mode": {
    "name": "ipython",
    "version": 3
   },
   "file_extension": ".py",
   "mimetype": "text/x-python",
   "name": "python",
   "nbconvert_exporter": "python",
   "pygments_lexer": "ipython3",
   "version": "3.10.4"
  },
  "latex_envs": {
   "LaTeX_envs_menu_present": true,
   "autoclose": false,
   "autocomplete": true,
   "bibliofile": "biblio.bib",
   "cite_by": "apalike",
   "current_citInitial": 1,
   "eqLabelWithNumbers": true,
   "eqNumInitial": 1,
   "hotkeys": {
    "equation": "Ctrl-E",
    "itemize": "Ctrl-I"
   },
   "labels_anchors": false,
   "latex_user_defs": false,
   "report_style_numbering": false,
   "user_envs_cfg": false
  },
  "nbTranslate": {
   "displayLangs": [
    "*"
   ],
   "hotkey": "alt-t",
   "langInMainMenu": true,
   "sourceLang": "en",
   "targetLang": "fr",
   "useGoogleTranslate": true
  },
  "toc": {
   "base_numbering": 1,
   "nav_menu": {
    "height": "613.767px",
    "width": "492.76px"
   },
   "number_sections": true,
   "sideBar": true,
   "skip_h1_title": true,
   "title_cell": "Содержание",
   "title_sidebar": "Contents",
   "toc_cell": true,
   "toc_position": {
    "height": "882.205px",
    "left": "57px",
    "top": "152.441px",
    "width": "346.641px"
   },
   "toc_section_display": true,
   "toc_window_display": true
  }
 },
 "nbformat": 4,
 "nbformat_minor": 5
}
